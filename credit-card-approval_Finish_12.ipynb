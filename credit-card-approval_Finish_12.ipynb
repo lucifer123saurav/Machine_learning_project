{
 "cells": [
  {
   "cell_type": "markdown",
   "id": "2da6ced1",
   "metadata": {
    "id": "5ba08ac6",
    "papermill": {
     "duration": 0.036693,
     "end_time": "2022-10-06T12:07:52.096777",
     "exception": false,
     "start_time": "2022-10-06T12:07:52.060084",
     "status": "completed"
    },
    "tags": []
   },
   "source": [
    "# Project name->Credit_card_approval\n",
    "\n",
    "dataset to download from the below link https://www.kaggle.com/datasets/rikdifos/credit-card-approval-prediction\n",
    "All the Lifecycle In A Data Science Projects*\n",
    "\n",
    "Data Analysis\n",
    "\n",
    "Feature Engineering\n",
    "\n",
    "Feature Selection\n",
    "\n",
    "Model Building\n",
    "\n",
    "Model Deployment\n"
   ]
  },
  {
   "cell_type": "code",
   "execution_count": 1,
   "id": "da1b625a",
   "metadata": {
    "execution": {
     "iopub.execute_input": "2022-10-06T12:07:52.158122Z",
     "iopub.status.busy": "2022-10-06T12:07:52.157019Z",
     "iopub.status.idle": "2022-10-06T12:07:53.334422Z",
     "shell.execute_reply": "2022-10-06T12:07:53.333278Z"
    },
    "id": "60d462ea",
    "papermill": {
     "duration": 1.210824,
     "end_time": "2022-10-06T12:07:53.337605",
     "exception": false,
     "start_time": "2022-10-06T12:07:52.126781",
     "status": "completed"
    },
    "tags": []
   },
   "outputs": [],
   "source": [
    "#data analysing phase\n",
    "import numpy as np\n",
    "import pandas as pd\n",
    "import seaborn as sns\n",
    "import matplotlib.pyplot as plt\n",
    "%matplotlib inline\n",
    "import missingno as msno\n",
    "pd.pandas.set_option('display.max_columns',None)\n",
    "import datetime\n",
    "from datetime import timedelta"
   ]
  },
  {
   "cell_type": "code",
   "execution_count": 2,
   "id": "e400e9eb",
   "metadata": {
    "execution": {
     "iopub.execute_input": "2022-10-06T12:07:53.397851Z",
     "iopub.status.busy": "2022-10-06T12:07:53.396244Z",
     "iopub.status.idle": "2022-10-06T12:07:55.210042Z",
     "shell.execute_reply": "2022-10-06T12:07:55.208537Z"
    },
    "id": "8636c138",
    "outputId": "e395f1b0-3e62-4f06-e49e-24af984d63c7",
    "papermill": {
     "duration": 1.849003,
     "end_time": "2022-10-06T12:07:55.213926",
     "exception": false,
     "start_time": "2022-10-06T12:07:53.364923",
     "status": "completed"
    },
    "tags": []
   },
   "outputs": [
    {
     "data": {
      "text/html": [
       "<div>\n",
       "<style scoped>\n",
       "    .dataframe tbody tr th:only-of-type {\n",
       "        vertical-align: middle;\n",
       "    }\n",
       "\n",
       "    .dataframe tbody tr th {\n",
       "        vertical-align: top;\n",
       "    }\n",
       "\n",
       "    .dataframe thead th {\n",
       "        text-align: right;\n",
       "    }\n",
       "</style>\n",
       "<table border=\"1\" class=\"dataframe\">\n",
       "  <thead>\n",
       "    <tr style=\"text-align: right;\">\n",
       "      <th></th>\n",
       "      <th>ID</th>\n",
       "      <th>CODE_GENDER</th>\n",
       "      <th>FLAG_OWN_CAR</th>\n",
       "      <th>FLAG_OWN_REALTY</th>\n",
       "      <th>CNT_CHILDREN</th>\n",
       "      <th>AMT_INCOME_TOTAL</th>\n",
       "      <th>NAME_INCOME_TYPE</th>\n",
       "      <th>NAME_EDUCATION_TYPE</th>\n",
       "      <th>NAME_FAMILY_STATUS</th>\n",
       "      <th>NAME_HOUSING_TYPE</th>\n",
       "      <th>DAYS_BIRTH</th>\n",
       "      <th>DAYS_EMPLOYED</th>\n",
       "      <th>FLAG_MOBIL</th>\n",
       "      <th>FLAG_WORK_PHONE</th>\n",
       "      <th>FLAG_PHONE</th>\n",
       "      <th>FLAG_EMAIL</th>\n",
       "      <th>OCCUPATION_TYPE</th>\n",
       "      <th>CNT_FAM_MEMBERS</th>\n",
       "    </tr>\n",
       "  </thead>\n",
       "  <tbody>\n",
       "    <tr>\n",
       "      <th>0</th>\n",
       "      <td>5008804</td>\n",
       "      <td>M</td>\n",
       "      <td>Y</td>\n",
       "      <td>Y</td>\n",
       "      <td>0</td>\n",
       "      <td>427500.0</td>\n",
       "      <td>Working</td>\n",
       "      <td>Higher education</td>\n",
       "      <td>Civil marriage</td>\n",
       "      <td>Rented apartment</td>\n",
       "      <td>-12005</td>\n",
       "      <td>-4542</td>\n",
       "      <td>1</td>\n",
       "      <td>1</td>\n",
       "      <td>0</td>\n",
       "      <td>0</td>\n",
       "      <td>NaN</td>\n",
       "      <td>2.0</td>\n",
       "    </tr>\n",
       "    <tr>\n",
       "      <th>1</th>\n",
       "      <td>5008805</td>\n",
       "      <td>M</td>\n",
       "      <td>Y</td>\n",
       "      <td>Y</td>\n",
       "      <td>0</td>\n",
       "      <td>427500.0</td>\n",
       "      <td>Working</td>\n",
       "      <td>Higher education</td>\n",
       "      <td>Civil marriage</td>\n",
       "      <td>Rented apartment</td>\n",
       "      <td>-12005</td>\n",
       "      <td>-4542</td>\n",
       "      <td>1</td>\n",
       "      <td>1</td>\n",
       "      <td>0</td>\n",
       "      <td>0</td>\n",
       "      <td>NaN</td>\n",
       "      <td>2.0</td>\n",
       "    </tr>\n",
       "    <tr>\n",
       "      <th>2</th>\n",
       "      <td>5008806</td>\n",
       "      <td>M</td>\n",
       "      <td>Y</td>\n",
       "      <td>Y</td>\n",
       "      <td>0</td>\n",
       "      <td>112500.0</td>\n",
       "      <td>Working</td>\n",
       "      <td>Secondary / secondary special</td>\n",
       "      <td>Married</td>\n",
       "      <td>House / apartment</td>\n",
       "      <td>-21474</td>\n",
       "      <td>-1134</td>\n",
       "      <td>1</td>\n",
       "      <td>0</td>\n",
       "      <td>0</td>\n",
       "      <td>0</td>\n",
       "      <td>Security staff</td>\n",
       "      <td>2.0</td>\n",
       "    </tr>\n",
       "    <tr>\n",
       "      <th>3</th>\n",
       "      <td>5008808</td>\n",
       "      <td>F</td>\n",
       "      <td>N</td>\n",
       "      <td>Y</td>\n",
       "      <td>0</td>\n",
       "      <td>270000.0</td>\n",
       "      <td>Commercial associate</td>\n",
       "      <td>Secondary / secondary special</td>\n",
       "      <td>Single / not married</td>\n",
       "      <td>House / apartment</td>\n",
       "      <td>-19110</td>\n",
       "      <td>-3051</td>\n",
       "      <td>1</td>\n",
       "      <td>0</td>\n",
       "      <td>1</td>\n",
       "      <td>1</td>\n",
       "      <td>Sales staff</td>\n",
       "      <td>1.0</td>\n",
       "    </tr>\n",
       "    <tr>\n",
       "      <th>4</th>\n",
       "      <td>5008809</td>\n",
       "      <td>F</td>\n",
       "      <td>N</td>\n",
       "      <td>Y</td>\n",
       "      <td>0</td>\n",
       "      <td>270000.0</td>\n",
       "      <td>Commercial associate</td>\n",
       "      <td>Secondary / secondary special</td>\n",
       "      <td>Single / not married</td>\n",
       "      <td>House / apartment</td>\n",
       "      <td>-19110</td>\n",
       "      <td>-3051</td>\n",
       "      <td>1</td>\n",
       "      <td>0</td>\n",
       "      <td>1</td>\n",
       "      <td>1</td>\n",
       "      <td>Sales staff</td>\n",
       "      <td>1.0</td>\n",
       "    </tr>\n",
       "  </tbody>\n",
       "</table>\n",
       "</div>"
      ],
      "text/plain": [
       "        ID CODE_GENDER FLAG_OWN_CAR FLAG_OWN_REALTY  CNT_CHILDREN  \\\n",
       "0  5008804           M            Y               Y             0   \n",
       "1  5008805           M            Y               Y             0   \n",
       "2  5008806           M            Y               Y             0   \n",
       "3  5008808           F            N               Y             0   \n",
       "4  5008809           F            N               Y             0   \n",
       "\n",
       "   AMT_INCOME_TOTAL      NAME_INCOME_TYPE            NAME_EDUCATION_TYPE  \\\n",
       "0          427500.0               Working               Higher education   \n",
       "1          427500.0               Working               Higher education   \n",
       "2          112500.0               Working  Secondary / secondary special   \n",
       "3          270000.0  Commercial associate  Secondary / secondary special   \n",
       "4          270000.0  Commercial associate  Secondary / secondary special   \n",
       "\n",
       "     NAME_FAMILY_STATUS  NAME_HOUSING_TYPE  DAYS_BIRTH  DAYS_EMPLOYED  \\\n",
       "0        Civil marriage   Rented apartment      -12005          -4542   \n",
       "1        Civil marriage   Rented apartment      -12005          -4542   \n",
       "2               Married  House / apartment      -21474          -1134   \n",
       "3  Single / not married  House / apartment      -19110          -3051   \n",
       "4  Single / not married  House / apartment      -19110          -3051   \n",
       "\n",
       "   FLAG_MOBIL  FLAG_WORK_PHONE  FLAG_PHONE  FLAG_EMAIL OCCUPATION_TYPE  \\\n",
       "0           1                1           0           0             NaN   \n",
       "1           1                1           0           0             NaN   \n",
       "2           1                0           0           0  Security staff   \n",
       "3           1                0           1           1     Sales staff   \n",
       "4           1                0           1           1     Sales staff   \n",
       "\n",
       "   CNT_FAM_MEMBERS  \n",
       "0              2.0  \n",
       "1              2.0  \n",
       "2              2.0  \n",
       "3              1.0  \n",
       "4              1.0  "
      ]
     },
     "execution_count": 2,
     "metadata": {},
     "output_type": "execute_result"
    }
   ],
   "source": [
    "#read its application data\n",
    "independent_feature=pd.read_csv('../input/credit-card-approval-prediction/application_record.csv')\n",
    "independent_feature.head()"
   ]
  },
  {
   "cell_type": "code",
   "execution_count": 3,
   "id": "795ef9db",
   "metadata": {
    "execution": {
     "iopub.execute_input": "2022-10-06T12:07:55.275527Z",
     "iopub.status.busy": "2022-10-06T12:07:55.274261Z",
     "iopub.status.idle": "2022-10-06T12:07:55.282757Z",
     "shell.execute_reply": "2022-10-06T12:07:55.281336Z"
    },
    "id": "0749363e",
    "outputId": "d0e4ed87-741a-4b5f-9d23-1f59cf333dc1",
    "papermill": {
     "duration": 0.040447,
     "end_time": "2022-10-06T12:07:55.285975",
     "exception": false,
     "start_time": "2022-10-06T12:07:55.245528",
     "status": "completed"
    },
    "tags": []
   },
   "outputs": [
    {
     "data": {
      "text/plain": [
       "(438557, 18)"
      ]
     },
     "execution_count": 3,
     "metadata": {},
     "output_type": "execute_result"
    }
   ],
   "source": [
    "#let's see independent feature size\n",
    "independent_feature.shape"
   ]
  },
  {
   "cell_type": "code",
   "execution_count": 4,
   "id": "a28ba450",
   "metadata": {
    "execution": {
     "iopub.execute_input": "2022-10-06T12:07:55.342056Z",
     "iopub.status.busy": "2022-10-06T12:07:55.341238Z",
     "iopub.status.idle": "2022-10-06T12:07:55.792154Z",
     "shell.execute_reply": "2022-10-06T12:07:55.790873Z"
    },
    "id": "d7a7c88e",
    "outputId": "cec551ce-cdc9-4461-d074-a2b842394398",
    "papermill": {
     "duration": 0.482685,
     "end_time": "2022-10-06T12:07:55.794877",
     "exception": false,
     "start_time": "2022-10-06T12:07:55.312192",
     "status": "completed"
    },
    "tags": []
   },
   "outputs": [
    {
     "data": {
      "text/html": [
       "<div>\n",
       "<style scoped>\n",
       "    .dataframe tbody tr th:only-of-type {\n",
       "        vertical-align: middle;\n",
       "    }\n",
       "\n",
       "    .dataframe tbody tr th {\n",
       "        vertical-align: top;\n",
       "    }\n",
       "\n",
       "    .dataframe thead th {\n",
       "        text-align: right;\n",
       "    }\n",
       "</style>\n",
       "<table border=\"1\" class=\"dataframe\">\n",
       "  <thead>\n",
       "    <tr style=\"text-align: right;\">\n",
       "      <th></th>\n",
       "      <th>ID</th>\n",
       "      <th>MONTHS_BALANCE</th>\n",
       "      <th>STATUS</th>\n",
       "    </tr>\n",
       "  </thead>\n",
       "  <tbody>\n",
       "    <tr>\n",
       "      <th>0</th>\n",
       "      <td>5001711</td>\n",
       "      <td>0</td>\n",
       "      <td>X</td>\n",
       "    </tr>\n",
       "    <tr>\n",
       "      <th>1</th>\n",
       "      <td>5001711</td>\n",
       "      <td>-1</td>\n",
       "      <td>0</td>\n",
       "    </tr>\n",
       "    <tr>\n",
       "      <th>2</th>\n",
       "      <td>5001711</td>\n",
       "      <td>-2</td>\n",
       "      <td>0</td>\n",
       "    </tr>\n",
       "    <tr>\n",
       "      <th>3</th>\n",
       "      <td>5001711</td>\n",
       "      <td>-3</td>\n",
       "      <td>0</td>\n",
       "    </tr>\n",
       "    <tr>\n",
       "      <th>4</th>\n",
       "      <td>5001712</td>\n",
       "      <td>0</td>\n",
       "      <td>C</td>\n",
       "    </tr>\n",
       "  </tbody>\n",
       "</table>\n",
       "</div>"
      ],
      "text/plain": [
       "        ID  MONTHS_BALANCE STATUS\n",
       "0  5001711               0      X\n",
       "1  5001711              -1      0\n",
       "2  5001711              -2      0\n",
       "3  5001711              -3      0\n",
       "4  5001712               0      C"
      ]
     },
     "execution_count": 4,
     "metadata": {},
     "output_type": "execute_result"
    }
   ],
   "source": [
    "#read its dependent  data\n",
    "dependent_feature=pd.read_csv('../input/credit-card-approval-prediction/credit_record.csv')\n",
    "dependent_feature.head()"
   ]
  },
  {
   "cell_type": "code",
   "execution_count": 5,
   "id": "5ec6a620",
   "metadata": {
    "execution": {
     "iopub.execute_input": "2022-10-06T12:07:55.850807Z",
     "iopub.status.busy": "2022-10-06T12:07:55.850371Z",
     "iopub.status.idle": "2022-10-06T12:07:55.858754Z",
     "shell.execute_reply": "2022-10-06T12:07:55.857414Z"
    },
    "id": "3302c284",
    "outputId": "86d2ecf9-aebf-478c-e111-ad902d093aa1",
    "papermill": {
     "duration": 0.039795,
     "end_time": "2022-10-06T12:07:55.861612",
     "exception": false,
     "start_time": "2022-10-06T12:07:55.821817",
     "status": "completed"
    },
    "tags": []
   },
   "outputs": [
    {
     "data": {
      "text/plain": [
       "(1048575, 3)"
      ]
     },
     "execution_count": 5,
     "metadata": {},
     "output_type": "execute_result"
    }
   ],
   "source": [
    "dependent_feature.shape"
   ]
  },
  {
   "cell_type": "markdown",
   "id": "6db9b9bf",
   "metadata": {
    "id": "67c0a6af",
    "papermill": {
     "duration": 0.026452,
     "end_time": "2022-10-06T12:07:55.915337",
     "exception": false,
     "start_time": "2022-10-06T12:07:55.888885",
     "status": "completed"
    },
    "tags": []
   },
   "source": [
    "Now,we two types of data  independent and dependent .so we have to merge the Data."
   ]
  },
  {
   "cell_type": "code",
   "execution_count": 6,
   "id": "a39d3fd1",
   "metadata": {
    "execution": {
     "iopub.execute_input": "2022-10-06T12:07:55.974279Z",
     "iopub.status.busy": "2022-10-06T12:07:55.973879Z",
     "iopub.status.idle": "2022-10-06T12:07:56.780973Z",
     "shell.execute_reply": "2022-10-06T12:07:56.779793Z"
    },
    "id": "61470f9e",
    "papermill": {
     "duration": 0.840148,
     "end_time": "2022-10-06T12:07:56.783835",
     "exception": false,
     "start_time": "2022-10-06T12:07:55.943687",
     "status": "completed"
    },
    "tags": []
   },
   "outputs": [],
   "source": [
    "data = independent_feature.merge(dependent_feature,how='inner',on=['ID'])"
   ]
  },
  {
   "cell_type": "code",
   "execution_count": 7,
   "id": "56b7a065",
   "metadata": {
    "execution": {
     "iopub.execute_input": "2022-10-06T12:07:56.842373Z",
     "iopub.status.busy": "2022-10-06T12:07:56.841914Z",
     "iopub.status.idle": "2022-10-06T12:07:56.865791Z",
     "shell.execute_reply": "2022-10-06T12:07:56.864455Z"
    },
    "id": "c2ab3450",
    "outputId": "8511dadb-522f-4ce6-9041-d09a629c0ecc",
    "papermill": {
     "duration": 0.055967,
     "end_time": "2022-10-06T12:07:56.868487",
     "exception": false,
     "start_time": "2022-10-06T12:07:56.812520",
     "status": "completed"
    },
    "tags": []
   },
   "outputs": [
    {
     "data": {
      "text/html": [
       "<div>\n",
       "<style scoped>\n",
       "    .dataframe tbody tr th:only-of-type {\n",
       "        vertical-align: middle;\n",
       "    }\n",
       "\n",
       "    .dataframe tbody tr th {\n",
       "        vertical-align: top;\n",
       "    }\n",
       "\n",
       "    .dataframe thead th {\n",
       "        text-align: right;\n",
       "    }\n",
       "</style>\n",
       "<table border=\"1\" class=\"dataframe\">\n",
       "  <thead>\n",
       "    <tr style=\"text-align: right;\">\n",
       "      <th></th>\n",
       "      <th>ID</th>\n",
       "      <th>CODE_GENDER</th>\n",
       "      <th>FLAG_OWN_CAR</th>\n",
       "      <th>FLAG_OWN_REALTY</th>\n",
       "      <th>CNT_CHILDREN</th>\n",
       "      <th>AMT_INCOME_TOTAL</th>\n",
       "      <th>NAME_INCOME_TYPE</th>\n",
       "      <th>NAME_EDUCATION_TYPE</th>\n",
       "      <th>NAME_FAMILY_STATUS</th>\n",
       "      <th>NAME_HOUSING_TYPE</th>\n",
       "      <th>DAYS_BIRTH</th>\n",
       "      <th>DAYS_EMPLOYED</th>\n",
       "      <th>FLAG_MOBIL</th>\n",
       "      <th>FLAG_WORK_PHONE</th>\n",
       "      <th>FLAG_PHONE</th>\n",
       "      <th>FLAG_EMAIL</th>\n",
       "      <th>OCCUPATION_TYPE</th>\n",
       "      <th>CNT_FAM_MEMBERS</th>\n",
       "      <th>MONTHS_BALANCE</th>\n",
       "      <th>STATUS</th>\n",
       "    </tr>\n",
       "  </thead>\n",
       "  <tbody>\n",
       "    <tr>\n",
       "      <th>0</th>\n",
       "      <td>5008804</td>\n",
       "      <td>M</td>\n",
       "      <td>Y</td>\n",
       "      <td>Y</td>\n",
       "      <td>0</td>\n",
       "      <td>427500.0</td>\n",
       "      <td>Working</td>\n",
       "      <td>Higher education</td>\n",
       "      <td>Civil marriage</td>\n",
       "      <td>Rented apartment</td>\n",
       "      <td>-12005</td>\n",
       "      <td>-4542</td>\n",
       "      <td>1</td>\n",
       "      <td>1</td>\n",
       "      <td>0</td>\n",
       "      <td>0</td>\n",
       "      <td>NaN</td>\n",
       "      <td>2.0</td>\n",
       "      <td>0</td>\n",
       "      <td>C</td>\n",
       "    </tr>\n",
       "    <tr>\n",
       "      <th>1</th>\n",
       "      <td>5008804</td>\n",
       "      <td>M</td>\n",
       "      <td>Y</td>\n",
       "      <td>Y</td>\n",
       "      <td>0</td>\n",
       "      <td>427500.0</td>\n",
       "      <td>Working</td>\n",
       "      <td>Higher education</td>\n",
       "      <td>Civil marriage</td>\n",
       "      <td>Rented apartment</td>\n",
       "      <td>-12005</td>\n",
       "      <td>-4542</td>\n",
       "      <td>1</td>\n",
       "      <td>1</td>\n",
       "      <td>0</td>\n",
       "      <td>0</td>\n",
       "      <td>NaN</td>\n",
       "      <td>2.0</td>\n",
       "      <td>-1</td>\n",
       "      <td>C</td>\n",
       "    </tr>\n",
       "    <tr>\n",
       "      <th>2</th>\n",
       "      <td>5008804</td>\n",
       "      <td>M</td>\n",
       "      <td>Y</td>\n",
       "      <td>Y</td>\n",
       "      <td>0</td>\n",
       "      <td>427500.0</td>\n",
       "      <td>Working</td>\n",
       "      <td>Higher education</td>\n",
       "      <td>Civil marriage</td>\n",
       "      <td>Rented apartment</td>\n",
       "      <td>-12005</td>\n",
       "      <td>-4542</td>\n",
       "      <td>1</td>\n",
       "      <td>1</td>\n",
       "      <td>0</td>\n",
       "      <td>0</td>\n",
       "      <td>NaN</td>\n",
       "      <td>2.0</td>\n",
       "      <td>-2</td>\n",
       "      <td>C</td>\n",
       "    </tr>\n",
       "    <tr>\n",
       "      <th>3</th>\n",
       "      <td>5008804</td>\n",
       "      <td>M</td>\n",
       "      <td>Y</td>\n",
       "      <td>Y</td>\n",
       "      <td>0</td>\n",
       "      <td>427500.0</td>\n",
       "      <td>Working</td>\n",
       "      <td>Higher education</td>\n",
       "      <td>Civil marriage</td>\n",
       "      <td>Rented apartment</td>\n",
       "      <td>-12005</td>\n",
       "      <td>-4542</td>\n",
       "      <td>1</td>\n",
       "      <td>1</td>\n",
       "      <td>0</td>\n",
       "      <td>0</td>\n",
       "      <td>NaN</td>\n",
       "      <td>2.0</td>\n",
       "      <td>-3</td>\n",
       "      <td>C</td>\n",
       "    </tr>\n",
       "    <tr>\n",
       "      <th>4</th>\n",
       "      <td>5008804</td>\n",
       "      <td>M</td>\n",
       "      <td>Y</td>\n",
       "      <td>Y</td>\n",
       "      <td>0</td>\n",
       "      <td>427500.0</td>\n",
       "      <td>Working</td>\n",
       "      <td>Higher education</td>\n",
       "      <td>Civil marriage</td>\n",
       "      <td>Rented apartment</td>\n",
       "      <td>-12005</td>\n",
       "      <td>-4542</td>\n",
       "      <td>1</td>\n",
       "      <td>1</td>\n",
       "      <td>0</td>\n",
       "      <td>0</td>\n",
       "      <td>NaN</td>\n",
       "      <td>2.0</td>\n",
       "      <td>-4</td>\n",
       "      <td>C</td>\n",
       "    </tr>\n",
       "  </tbody>\n",
       "</table>\n",
       "</div>"
      ],
      "text/plain": [
       "        ID CODE_GENDER FLAG_OWN_CAR FLAG_OWN_REALTY  CNT_CHILDREN  \\\n",
       "0  5008804           M            Y               Y             0   \n",
       "1  5008804           M            Y               Y             0   \n",
       "2  5008804           M            Y               Y             0   \n",
       "3  5008804           M            Y               Y             0   \n",
       "4  5008804           M            Y               Y             0   \n",
       "\n",
       "   AMT_INCOME_TOTAL NAME_INCOME_TYPE NAME_EDUCATION_TYPE NAME_FAMILY_STATUS  \\\n",
       "0          427500.0          Working    Higher education     Civil marriage   \n",
       "1          427500.0          Working    Higher education     Civil marriage   \n",
       "2          427500.0          Working    Higher education     Civil marriage   \n",
       "3          427500.0          Working    Higher education     Civil marriage   \n",
       "4          427500.0          Working    Higher education     Civil marriage   \n",
       "\n",
       "  NAME_HOUSING_TYPE  DAYS_BIRTH  DAYS_EMPLOYED  FLAG_MOBIL  FLAG_WORK_PHONE  \\\n",
       "0  Rented apartment      -12005          -4542           1                1   \n",
       "1  Rented apartment      -12005          -4542           1                1   \n",
       "2  Rented apartment      -12005          -4542           1                1   \n",
       "3  Rented apartment      -12005          -4542           1                1   \n",
       "4  Rented apartment      -12005          -4542           1                1   \n",
       "\n",
       "   FLAG_PHONE  FLAG_EMAIL OCCUPATION_TYPE  CNT_FAM_MEMBERS  MONTHS_BALANCE  \\\n",
       "0           0           0             NaN              2.0               0   \n",
       "1           0           0             NaN              2.0              -1   \n",
       "2           0           0             NaN              2.0              -2   \n",
       "3           0           0             NaN              2.0              -3   \n",
       "4           0           0             NaN              2.0              -4   \n",
       "\n",
       "  STATUS  \n",
       "0      C  \n",
       "1      C  \n",
       "2      C  \n",
       "3      C  \n",
       "4      C  "
      ]
     },
     "execution_count": 7,
     "metadata": {},
     "output_type": "execute_result"
    }
   ],
   "source": [
    "data.head()"
   ]
  },
  {
   "cell_type": "code",
   "execution_count": 8,
   "id": "4d1ae971",
   "metadata": {
    "execution": {
     "iopub.execute_input": "2022-10-06T12:07:56.929082Z",
     "iopub.status.busy": "2022-10-06T12:07:56.928692Z",
     "iopub.status.idle": "2022-10-06T12:07:56.936452Z",
     "shell.execute_reply": "2022-10-06T12:07:56.934959Z"
    },
    "id": "931653f3",
    "outputId": "19ff99cf-5379-49a0-e9ec-0f60139975e5",
    "papermill": {
     "duration": 0.04112,
     "end_time": "2022-10-06T12:07:56.938994",
     "exception": false,
     "start_time": "2022-10-06T12:07:56.897874",
     "status": "completed"
    },
    "tags": []
   },
   "outputs": [
    {
     "data": {
      "text/plain": [
       "(777715, 20)"
      ]
     },
     "execution_count": 8,
     "metadata": {},
     "output_type": "execute_result"
    }
   ],
   "source": [
    "data.shape"
   ]
  },
  {
   "cell_type": "code",
   "execution_count": 9,
   "id": "454d4807",
   "metadata": {
    "execution": {
     "iopub.execute_input": "2022-10-06T12:07:56.998262Z",
     "iopub.status.busy": "2022-10-06T12:07:56.997846Z",
     "iopub.status.idle": "2022-10-06T12:07:57.043148Z",
     "shell.execute_reply": "2022-10-06T12:07:57.041503Z"
    },
    "id": "f447e579",
    "outputId": "94690d3c-2545-427d-9e69-9ec2def88654",
    "papermill": {
     "duration": 0.078601,
     "end_time": "2022-10-06T12:07:57.045923",
     "exception": false,
     "start_time": "2022-10-06T12:07:56.967322",
     "status": "completed"
    },
    "tags": []
   },
   "outputs": [
    {
     "data": {
      "text/plain": [
       "C    329536\n",
       "0    290654\n",
       "X    145950\n",
       "1      8747\n",
       "5      1527\n",
       "2       801\n",
       "3       286\n",
       "4       214\n",
       "Name: STATUS, dtype: int64"
      ]
     },
     "execution_count": 9,
     "metadata": {},
     "output_type": "execute_result"
    }
   ],
   "source": [
    "data['STATUS'].value_counts()"
   ]
  },
  {
   "cell_type": "code",
   "execution_count": 10,
   "id": "95b8d5ad",
   "metadata": {
    "execution": {
     "iopub.execute_input": "2022-10-06T12:07:57.104925Z",
     "iopub.status.busy": "2022-10-06T12:07:57.104444Z",
     "iopub.status.idle": "2022-10-06T12:07:57.153539Z",
     "shell.execute_reply": "2022-10-06T12:07:57.152459Z"
    },
    "id": "68621691",
    "outputId": "8570bc14-a7ba-4001-c106-4d739f4f7c27",
    "papermill": {
     "duration": 0.081812,
     "end_time": "2022-10-06T12:07:57.155956",
     "exception": false,
     "start_time": "2022-10-06T12:07:57.074144",
     "status": "completed"
    },
    "tags": []
   },
   "outputs": [
    {
     "data": {
      "text/plain": [
       "Working                 400164\n",
       "Commercial associate    183385\n",
       "Pensioner               128392\n",
       "State servant            65437\n",
       "Student                    337\n",
       "Name: NAME_INCOME_TYPE, dtype: int64"
      ]
     },
     "execution_count": 10,
     "metadata": {},
     "output_type": "execute_result"
    }
   ],
   "source": [
    "data['NAME_INCOME_TYPE'].value_counts()"
   ]
  },
  {
   "cell_type": "code",
   "execution_count": 11,
   "id": "6e1914df",
   "metadata": {
    "execution": {
     "iopub.execute_input": "2022-10-06T12:07:57.214895Z",
     "iopub.status.busy": "2022-10-06T12:07:57.214482Z",
     "iopub.status.idle": "2022-10-06T12:07:57.232670Z",
     "shell.execute_reply": "2022-10-06T12:07:57.231396Z"
    },
    "id": "99272ed7",
    "outputId": "96b7e940-6209-40f8-d79e-1de57cca8fb1",
    "papermill": {
     "duration": 0.051708,
     "end_time": "2022-10-06T12:07:57.235433",
     "exception": false,
     "start_time": "2022-10-06T12:07:57.183725",
     "status": "completed"
    },
    "tags": []
   },
   "outputs": [
    {
     "data": {
      "text/plain": [
       " 365243    127972\n",
       "-1751        1601\n",
       "-1539        1545\n",
       "-401         1498\n",
       "-2531        1319\n",
       "            ...  \n",
       "-3294           1\n",
       "-3891           1\n",
       "-7049           1\n",
       "-7765           1\n",
       "-2848           1\n",
       "Name: DAYS_EMPLOYED, Length: 3640, dtype: int64"
      ]
     },
     "execution_count": 11,
     "metadata": {},
     "output_type": "execute_result"
    }
   ],
   "source": [
    "data['DAYS_EMPLOYED'].value_counts()"
   ]
  },
  {
   "cell_type": "code",
   "execution_count": null,
   "id": "1c8b7425",
   "metadata": {
    "id": "b1d34d95",
    "papermill": {
     "duration": 0.029246,
     "end_time": "2022-10-06T12:07:57.295516",
     "exception": false,
     "start_time": "2022-10-06T12:07:57.266270",
     "status": "completed"
    },
    "tags": []
   },
   "outputs": [],
   "source": []
  },
  {
   "cell_type": "code",
   "execution_count": 12,
   "id": "f584e7ef",
   "metadata": {
    "execution": {
     "iopub.execute_input": "2022-10-06T12:07:57.355156Z",
     "iopub.status.busy": "2022-10-06T12:07:57.354400Z",
     "iopub.status.idle": "2022-10-06T12:07:57.395963Z",
     "shell.execute_reply": "2022-10-06T12:07:57.394571Z"
    },
    "id": "81c203dd",
    "outputId": "419fd31d-72a9-4b3e-e705-0f078de5a700",
    "papermill": {
     "duration": 0.074044,
     "end_time": "2022-10-06T12:07:57.399181",
     "exception": false,
     "start_time": "2022-10-06T12:07:57.325137",
     "status": "completed"
    },
    "tags": []
   },
   "outputs": [
    {
     "data": {
      "text/plain": [
       "Laborers                 131572\n",
       "Core staff                77112\n",
       "Sales staff               70362\n",
       "Managers                  67738\n",
       "Drivers                   47678\n",
       "High skill tech staff     31768\n",
       "Accountants               27223\n",
       "Medicine staff            26691\n",
       "Cooking staff             13416\n",
       "Security staff            12400\n",
       "Cleaning staff            11399\n",
       "Private service staff      6714\n",
       "Low-skill Laborers         3623\n",
       "Secretaries                3149\n",
       "Waiters/barmen staff       2557\n",
       "HR staff                   1686\n",
       "IT staff                   1319\n",
       "Realty agents              1260\n",
       "Name: OCCUPATION_TYPE, dtype: int64"
      ]
     },
     "execution_count": 12,
     "metadata": {},
     "output_type": "execute_result"
    }
   ],
   "source": [
    "data['OCCUPATION_TYPE'].value_counts()"
   ]
  },
  {
   "cell_type": "code",
   "execution_count": 13,
   "id": "eb2742b9",
   "metadata": {
    "execution": {
     "iopub.execute_input": "2022-10-06T12:07:57.459275Z",
     "iopub.status.busy": "2022-10-06T12:07:57.458810Z",
     "iopub.status.idle": "2022-10-06T12:07:57.792591Z",
     "shell.execute_reply": "2022-10-06T12:07:57.791236Z"
    },
    "id": "486167fa",
    "outputId": "82a0957d-1190-416c-9d89-f6d0db85dab2",
    "papermill": {
     "duration": 0.367121,
     "end_time": "2022-10-06T12:07:57.795140",
     "exception": false,
     "start_time": "2022-10-06T12:07:57.428019",
     "status": "completed"
    },
    "tags": []
   },
   "outputs": [
    {
     "name": "stdout",
     "output_type": "stream",
     "text": [
      "<class 'pandas.core.frame.DataFrame'>\n",
      "Int64Index: 777715 entries, 0 to 777714\n",
      "Data columns (total 20 columns):\n",
      " #   Column               Non-Null Count   Dtype  \n",
      "---  ------               --------------   -----  \n",
      " 0   ID                   777715 non-null  int64  \n",
      " 1   CODE_GENDER          777715 non-null  object \n",
      " 2   FLAG_OWN_CAR         777715 non-null  object \n",
      " 3   FLAG_OWN_REALTY      777715 non-null  object \n",
      " 4   CNT_CHILDREN         777715 non-null  int64  \n",
      " 5   AMT_INCOME_TOTAL     777715 non-null  float64\n",
      " 6   NAME_INCOME_TYPE     777715 non-null  object \n",
      " 7   NAME_EDUCATION_TYPE  777715 non-null  object \n",
      " 8   NAME_FAMILY_STATUS   777715 non-null  object \n",
      " 9   NAME_HOUSING_TYPE    777715 non-null  object \n",
      " 10  DAYS_BIRTH           777715 non-null  int64  \n",
      " 11  DAYS_EMPLOYED        777715 non-null  int64  \n",
      " 12  FLAG_MOBIL           777715 non-null  int64  \n",
      " 13  FLAG_WORK_PHONE      777715 non-null  int64  \n",
      " 14  FLAG_PHONE           777715 non-null  int64  \n",
      " 15  FLAG_EMAIL           777715 non-null  int64  \n",
      " 16  OCCUPATION_TYPE      537667 non-null  object \n",
      " 17  CNT_FAM_MEMBERS      777715 non-null  float64\n",
      " 18  MONTHS_BALANCE       777715 non-null  int64  \n",
      " 19  STATUS               777715 non-null  object \n",
      "dtypes: float64(2), int64(9), object(9)\n",
      "memory usage: 124.6+ MB\n"
     ]
    }
   ],
   "source": [
    "data.info()"
   ]
  },
  {
   "cell_type": "code",
   "execution_count": 14,
   "id": "a5ba2106",
   "metadata": {
    "execution": {
     "iopub.execute_input": "2022-10-06T12:07:57.854325Z",
     "iopub.status.busy": "2022-10-06T12:07:57.853899Z",
     "iopub.status.idle": "2022-10-06T12:07:58.417509Z",
     "shell.execute_reply": "2022-10-06T12:07:58.416174Z"
    },
    "id": "8b5b1ca8",
    "outputId": "15ea5802-03e8-45e6-fbfd-508a4511bc72",
    "papermill": {
     "duration": 0.595888,
     "end_time": "2022-10-06T12:07:58.420366",
     "exception": false,
     "start_time": "2022-10-06T12:07:57.824478",
     "status": "completed"
    },
    "tags": []
   },
   "outputs": [
    {
     "data": {
      "text/html": [
       "<div>\n",
       "<style scoped>\n",
       "    .dataframe tbody tr th:only-of-type {\n",
       "        vertical-align: middle;\n",
       "    }\n",
       "\n",
       "    .dataframe tbody tr th {\n",
       "        vertical-align: top;\n",
       "    }\n",
       "\n",
       "    .dataframe thead th {\n",
       "        text-align: right;\n",
       "    }\n",
       "</style>\n",
       "<table border=\"1\" class=\"dataframe\">\n",
       "  <thead>\n",
       "    <tr style=\"text-align: right;\">\n",
       "      <th></th>\n",
       "      <th>ID</th>\n",
       "      <th>CNT_CHILDREN</th>\n",
       "      <th>AMT_INCOME_TOTAL</th>\n",
       "      <th>DAYS_BIRTH</th>\n",
       "      <th>DAYS_EMPLOYED</th>\n",
       "      <th>FLAG_MOBIL</th>\n",
       "      <th>FLAG_WORK_PHONE</th>\n",
       "      <th>FLAG_PHONE</th>\n",
       "      <th>FLAG_EMAIL</th>\n",
       "      <th>CNT_FAM_MEMBERS</th>\n",
       "      <th>MONTHS_BALANCE</th>\n",
       "    </tr>\n",
       "  </thead>\n",
       "  <tbody>\n",
       "    <tr>\n",
       "      <th>count</th>\n",
       "      <td>7.777150e+05</td>\n",
       "      <td>777715.000000</td>\n",
       "      <td>7.777150e+05</td>\n",
       "      <td>777715.000000</td>\n",
       "      <td>777715.000000</td>\n",
       "      <td>777715.0</td>\n",
       "      <td>777715.000000</td>\n",
       "      <td>777715.000000</td>\n",
       "      <td>777715.000000</td>\n",
       "      <td>777715.000000</td>\n",
       "      <td>777715.000000</td>\n",
       "    </tr>\n",
       "    <tr>\n",
       "      <th>mean</th>\n",
       "      <td>5.078743e+06</td>\n",
       "      <td>0.428082</td>\n",
       "      <td>1.885348e+05</td>\n",
       "      <td>-16124.937046</td>\n",
       "      <td>57775.825016</td>\n",
       "      <td>1.0</td>\n",
       "      <td>0.231818</td>\n",
       "      <td>0.300965</td>\n",
       "      <td>0.091675</td>\n",
       "      <td>2.208837</td>\n",
       "      <td>-19.373564</td>\n",
       "    </tr>\n",
       "    <tr>\n",
       "      <th>std</th>\n",
       "      <td>4.180442e+04</td>\n",
       "      <td>0.745755</td>\n",
       "      <td>1.016225e+05</td>\n",
       "      <td>4104.304018</td>\n",
       "      <td>136471.735391</td>\n",
       "      <td>0.0</td>\n",
       "      <td>0.421993</td>\n",
       "      <td>0.458678</td>\n",
       "      <td>0.288567</td>\n",
       "      <td>0.907380</td>\n",
       "      <td>14.082208</td>\n",
       "    </tr>\n",
       "    <tr>\n",
       "      <th>min</th>\n",
       "      <td>5.008804e+06</td>\n",
       "      <td>0.000000</td>\n",
       "      <td>2.700000e+04</td>\n",
       "      <td>-25152.000000</td>\n",
       "      <td>-15713.000000</td>\n",
       "      <td>1.0</td>\n",
       "      <td>0.000000</td>\n",
       "      <td>0.000000</td>\n",
       "      <td>0.000000</td>\n",
       "      <td>1.000000</td>\n",
       "      <td>-60.000000</td>\n",
       "    </tr>\n",
       "    <tr>\n",
       "      <th>25%</th>\n",
       "      <td>5.044568e+06</td>\n",
       "      <td>0.000000</td>\n",
       "      <td>1.215000e+05</td>\n",
       "      <td>-19453.000000</td>\n",
       "      <td>-3292.000000</td>\n",
       "      <td>1.0</td>\n",
       "      <td>0.000000</td>\n",
       "      <td>0.000000</td>\n",
       "      <td>0.000000</td>\n",
       "      <td>2.000000</td>\n",
       "      <td>-29.000000</td>\n",
       "    </tr>\n",
       "    <tr>\n",
       "      <th>50%</th>\n",
       "      <td>5.069530e+06</td>\n",
       "      <td>0.000000</td>\n",
       "      <td>1.620000e+05</td>\n",
       "      <td>-15760.000000</td>\n",
       "      <td>-1682.000000</td>\n",
       "      <td>1.0</td>\n",
       "      <td>0.000000</td>\n",
       "      <td>0.000000</td>\n",
       "      <td>0.000000</td>\n",
       "      <td>2.000000</td>\n",
       "      <td>-17.000000</td>\n",
       "    </tr>\n",
       "    <tr>\n",
       "      <th>75%</th>\n",
       "      <td>5.115551e+06</td>\n",
       "      <td>1.000000</td>\n",
       "      <td>2.250000e+05</td>\n",
       "      <td>-12716.000000</td>\n",
       "      <td>-431.000000</td>\n",
       "      <td>1.0</td>\n",
       "      <td>0.000000</td>\n",
       "      <td>1.000000</td>\n",
       "      <td>0.000000</td>\n",
       "      <td>3.000000</td>\n",
       "      <td>-8.000000</td>\n",
       "    </tr>\n",
       "    <tr>\n",
       "      <th>max</th>\n",
       "      <td>5.150487e+06</td>\n",
       "      <td>19.000000</td>\n",
       "      <td>1.575000e+06</td>\n",
       "      <td>-7489.000000</td>\n",
       "      <td>365243.000000</td>\n",
       "      <td>1.0</td>\n",
       "      <td>1.000000</td>\n",
       "      <td>1.000000</td>\n",
       "      <td>1.000000</td>\n",
       "      <td>20.000000</td>\n",
       "      <td>0.000000</td>\n",
       "    </tr>\n",
       "  </tbody>\n",
       "</table>\n",
       "</div>"
      ],
      "text/plain": [
       "                 ID   CNT_CHILDREN  AMT_INCOME_TOTAL     DAYS_BIRTH  \\\n",
       "count  7.777150e+05  777715.000000      7.777150e+05  777715.000000   \n",
       "mean   5.078743e+06       0.428082      1.885348e+05  -16124.937046   \n",
       "std    4.180442e+04       0.745755      1.016225e+05    4104.304018   \n",
       "min    5.008804e+06       0.000000      2.700000e+04  -25152.000000   \n",
       "25%    5.044568e+06       0.000000      1.215000e+05  -19453.000000   \n",
       "50%    5.069530e+06       0.000000      1.620000e+05  -15760.000000   \n",
       "75%    5.115551e+06       1.000000      2.250000e+05  -12716.000000   \n",
       "max    5.150487e+06      19.000000      1.575000e+06   -7489.000000   \n",
       "\n",
       "       DAYS_EMPLOYED  FLAG_MOBIL  FLAG_WORK_PHONE     FLAG_PHONE  \\\n",
       "count  777715.000000    777715.0    777715.000000  777715.000000   \n",
       "mean    57775.825016         1.0         0.231818       0.300965   \n",
       "std    136471.735391         0.0         0.421993       0.458678   \n",
       "min    -15713.000000         1.0         0.000000       0.000000   \n",
       "25%     -3292.000000         1.0         0.000000       0.000000   \n",
       "50%     -1682.000000         1.0         0.000000       0.000000   \n",
       "75%      -431.000000         1.0         0.000000       1.000000   \n",
       "max    365243.000000         1.0         1.000000       1.000000   \n",
       "\n",
       "          FLAG_EMAIL  CNT_FAM_MEMBERS  MONTHS_BALANCE  \n",
       "count  777715.000000    777715.000000   777715.000000  \n",
       "mean        0.091675         2.208837      -19.373564  \n",
       "std         0.288567         0.907380       14.082208  \n",
       "min         0.000000         1.000000      -60.000000  \n",
       "25%         0.000000         2.000000      -29.000000  \n",
       "50%         0.000000         2.000000      -17.000000  \n",
       "75%         0.000000         3.000000       -8.000000  \n",
       "max         1.000000        20.000000        0.000000  "
      ]
     },
     "execution_count": 14,
     "metadata": {},
     "output_type": "execute_result"
    }
   ],
   "source": [
    "data.describe()"
   ]
  },
  {
   "cell_type": "code",
   "execution_count": 15,
   "id": "78041dc1",
   "metadata": {
    "execution": {
     "iopub.execute_input": "2022-10-06T12:07:58.479121Z",
     "iopub.status.busy": "2022-10-06T12:07:58.478724Z",
     "iopub.status.idle": "2022-10-06T12:07:58.814908Z",
     "shell.execute_reply": "2022-10-06T12:07:58.813769Z"
    },
    "id": "7da26606",
    "outputId": "537c979e-6f99-4e84-d23e-e4bf8d0f3cc6",
    "papermill": {
     "duration": 0.36855,
     "end_time": "2022-10-06T12:07:58.817638",
     "exception": false,
     "start_time": "2022-10-06T12:07:58.449088",
     "status": "completed"
    },
    "tags": []
   },
   "outputs": [
    {
     "data": {
      "text/html": [
       "<div>\n",
       "<style scoped>\n",
       "    .dataframe tbody tr th:only-of-type {\n",
       "        vertical-align: middle;\n",
       "    }\n",
       "\n",
       "    .dataframe tbody tr th {\n",
       "        vertical-align: top;\n",
       "    }\n",
       "\n",
       "    .dataframe thead th {\n",
       "        text-align: right;\n",
       "    }\n",
       "</style>\n",
       "<table border=\"1\" class=\"dataframe\">\n",
       "  <thead>\n",
       "    <tr style=\"text-align: right;\">\n",
       "      <th></th>\n",
       "      <th>ID</th>\n",
       "      <th>CNT_CHILDREN</th>\n",
       "      <th>AMT_INCOME_TOTAL</th>\n",
       "      <th>DAYS_BIRTH</th>\n",
       "      <th>DAYS_EMPLOYED</th>\n",
       "      <th>FLAG_MOBIL</th>\n",
       "      <th>FLAG_WORK_PHONE</th>\n",
       "      <th>FLAG_PHONE</th>\n",
       "      <th>FLAG_EMAIL</th>\n",
       "      <th>CNT_FAM_MEMBERS</th>\n",
       "      <th>MONTHS_BALANCE</th>\n",
       "    </tr>\n",
       "  </thead>\n",
       "  <tbody>\n",
       "    <tr>\n",
       "      <th>ID</th>\n",
       "      <td>1.000000</td>\n",
       "      <td>0.026269</td>\n",
       "      <td>-0.027597</td>\n",
       "      <td>0.042020</td>\n",
       "      <td>-0.025322</td>\n",
       "      <td>NaN</td>\n",
       "      <td>0.084800</td>\n",
       "      <td>0.006346</td>\n",
       "      <td>-0.056083</td>\n",
       "      <td>0.027375</td>\n",
       "      <td>0.005007</td>\n",
       "    </tr>\n",
       "    <tr>\n",
       "      <th>CNT_CHILDREN</th>\n",
       "      <td>0.026269</td>\n",
       "      <td>1.000000</td>\n",
       "      <td>0.039304</td>\n",
       "      <td>0.356177</td>\n",
       "      <td>-0.228945</td>\n",
       "      <td>NaN</td>\n",
       "      <td>0.042226</td>\n",
       "      <td>-0.018882</td>\n",
       "      <td>0.015726</td>\n",
       "      <td>0.892079</td>\n",
       "      <td>0.000913</td>\n",
       "    </tr>\n",
       "    <tr>\n",
       "      <th>AMT_INCOME_TOTAL</th>\n",
       "      <td>-0.027597</td>\n",
       "      <td>0.039304</td>\n",
       "      <td>1.000000</td>\n",
       "      <td>0.081231</td>\n",
       "      <td>-0.180674</td>\n",
       "      <td>NaN</td>\n",
       "      <td>-0.021229</td>\n",
       "      <td>0.018687</td>\n",
       "      <td>0.085776</td>\n",
       "      <td>0.031379</td>\n",
       "      <td>0.001831</td>\n",
       "    </tr>\n",
       "    <tr>\n",
       "      <th>DAYS_BIRTH</th>\n",
       "      <td>0.042020</td>\n",
       "      <td>0.356177</td>\n",
       "      <td>0.081231</td>\n",
       "      <td>1.000000</td>\n",
       "      <td>-0.608856</td>\n",
       "      <td>NaN</td>\n",
       "      <td>0.180658</td>\n",
       "      <td>-0.026717</td>\n",
       "      <td>0.100945</td>\n",
       "      <td>0.327750</td>\n",
       "      <td>0.035756</td>\n",
       "    </tr>\n",
       "    <tr>\n",
       "      <th>DAYS_EMPLOYED</th>\n",
       "      <td>-0.025322</td>\n",
       "      <td>-0.228945</td>\n",
       "      <td>-0.180674</td>\n",
       "      <td>-0.608856</td>\n",
       "      <td>1.000000</td>\n",
       "      <td>NaN</td>\n",
       "      <td>-0.243677</td>\n",
       "      <td>-0.013817</td>\n",
       "      <td>-0.082474</td>\n",
       "      <td>-0.227645</td>\n",
       "      <td>-0.004222</td>\n",
       "    </tr>\n",
       "    <tr>\n",
       "      <th>FLAG_MOBIL</th>\n",
       "      <td>NaN</td>\n",
       "      <td>NaN</td>\n",
       "      <td>NaN</td>\n",
       "      <td>NaN</td>\n",
       "      <td>NaN</td>\n",
       "      <td>NaN</td>\n",
       "      <td>NaN</td>\n",
       "      <td>NaN</td>\n",
       "      <td>NaN</td>\n",
       "      <td>NaN</td>\n",
       "      <td>NaN</td>\n",
       "    </tr>\n",
       "    <tr>\n",
       "      <th>FLAG_WORK_PHONE</th>\n",
       "      <td>0.084800</td>\n",
       "      <td>0.042226</td>\n",
       "      <td>-0.021229</td>\n",
       "      <td>0.180658</td>\n",
       "      <td>-0.243677</td>\n",
       "      <td>NaN</td>\n",
       "      <td>1.000000</td>\n",
       "      <td>0.312552</td>\n",
       "      <td>-0.037991</td>\n",
       "      <td>0.060183</td>\n",
       "      <td>0.001529</td>\n",
       "    </tr>\n",
       "    <tr>\n",
       "      <th>FLAG_PHONE</th>\n",
       "      <td>0.006346</td>\n",
       "      <td>-0.018882</td>\n",
       "      <td>0.018687</td>\n",
       "      <td>-0.026717</td>\n",
       "      <td>-0.013817</td>\n",
       "      <td>NaN</td>\n",
       "      <td>0.312552</td>\n",
       "      <td>1.000000</td>\n",
       "      <td>0.011901</td>\n",
       "      <td>-0.007824</td>\n",
       "      <td>-0.005120</td>\n",
       "    </tr>\n",
       "    <tr>\n",
       "      <th>FLAG_EMAIL</th>\n",
       "      <td>-0.056083</td>\n",
       "      <td>0.015726</td>\n",
       "      <td>0.085776</td>\n",
       "      <td>0.100945</td>\n",
       "      <td>-0.082474</td>\n",
       "      <td>NaN</td>\n",
       "      <td>-0.037991</td>\n",
       "      <td>0.011901</td>\n",
       "      <td>1.000000</td>\n",
       "      <td>0.012540</td>\n",
       "      <td>0.005288</td>\n",
       "    </tr>\n",
       "    <tr>\n",
       "      <th>CNT_FAM_MEMBERS</th>\n",
       "      <td>0.027375</td>\n",
       "      <td>0.892079</td>\n",
       "      <td>0.031379</td>\n",
       "      <td>0.327750</td>\n",
       "      <td>-0.227645</td>\n",
       "      <td>NaN</td>\n",
       "      <td>0.060183</td>\n",
       "      <td>-0.007824</td>\n",
       "      <td>0.012540</td>\n",
       "      <td>1.000000</td>\n",
       "      <td>-0.006276</td>\n",
       "    </tr>\n",
       "    <tr>\n",
       "      <th>MONTHS_BALANCE</th>\n",
       "      <td>0.005007</td>\n",
       "      <td>0.000913</td>\n",
       "      <td>0.001831</td>\n",
       "      <td>0.035756</td>\n",
       "      <td>-0.004222</td>\n",
       "      <td>NaN</td>\n",
       "      <td>0.001529</td>\n",
       "      <td>-0.005120</td>\n",
       "      <td>0.005288</td>\n",
       "      <td>-0.006276</td>\n",
       "      <td>1.000000</td>\n",
       "    </tr>\n",
       "  </tbody>\n",
       "</table>\n",
       "</div>"
      ],
      "text/plain": [
       "                        ID  CNT_CHILDREN  AMT_INCOME_TOTAL  DAYS_BIRTH  \\\n",
       "ID                1.000000      0.026269         -0.027597    0.042020   \n",
       "CNT_CHILDREN      0.026269      1.000000          0.039304    0.356177   \n",
       "AMT_INCOME_TOTAL -0.027597      0.039304          1.000000    0.081231   \n",
       "DAYS_BIRTH        0.042020      0.356177          0.081231    1.000000   \n",
       "DAYS_EMPLOYED    -0.025322     -0.228945         -0.180674   -0.608856   \n",
       "FLAG_MOBIL             NaN           NaN               NaN         NaN   \n",
       "FLAG_WORK_PHONE   0.084800      0.042226         -0.021229    0.180658   \n",
       "FLAG_PHONE        0.006346     -0.018882          0.018687   -0.026717   \n",
       "FLAG_EMAIL       -0.056083      0.015726          0.085776    0.100945   \n",
       "CNT_FAM_MEMBERS   0.027375      0.892079          0.031379    0.327750   \n",
       "MONTHS_BALANCE    0.005007      0.000913          0.001831    0.035756   \n",
       "\n",
       "                  DAYS_EMPLOYED  FLAG_MOBIL  FLAG_WORK_PHONE  FLAG_PHONE  \\\n",
       "ID                    -0.025322         NaN         0.084800    0.006346   \n",
       "CNT_CHILDREN          -0.228945         NaN         0.042226   -0.018882   \n",
       "AMT_INCOME_TOTAL      -0.180674         NaN        -0.021229    0.018687   \n",
       "DAYS_BIRTH            -0.608856         NaN         0.180658   -0.026717   \n",
       "DAYS_EMPLOYED          1.000000         NaN        -0.243677   -0.013817   \n",
       "FLAG_MOBIL                  NaN         NaN              NaN         NaN   \n",
       "FLAG_WORK_PHONE       -0.243677         NaN         1.000000    0.312552   \n",
       "FLAG_PHONE            -0.013817         NaN         0.312552    1.000000   \n",
       "FLAG_EMAIL            -0.082474         NaN        -0.037991    0.011901   \n",
       "CNT_FAM_MEMBERS       -0.227645         NaN         0.060183   -0.007824   \n",
       "MONTHS_BALANCE        -0.004222         NaN         0.001529   -0.005120   \n",
       "\n",
       "                  FLAG_EMAIL  CNT_FAM_MEMBERS  MONTHS_BALANCE  \n",
       "ID                 -0.056083         0.027375        0.005007  \n",
       "CNT_CHILDREN        0.015726         0.892079        0.000913  \n",
       "AMT_INCOME_TOTAL    0.085776         0.031379        0.001831  \n",
       "DAYS_BIRTH          0.100945         0.327750        0.035756  \n",
       "DAYS_EMPLOYED      -0.082474        -0.227645       -0.004222  \n",
       "FLAG_MOBIL               NaN              NaN             NaN  \n",
       "FLAG_WORK_PHONE    -0.037991         0.060183        0.001529  \n",
       "FLAG_PHONE          0.011901        -0.007824       -0.005120  \n",
       "FLAG_EMAIL          1.000000         0.012540        0.005288  \n",
       "CNT_FAM_MEMBERS     0.012540         1.000000       -0.006276  \n",
       "MONTHS_BALANCE      0.005288        -0.006276        1.000000  "
      ]
     },
     "execution_count": 15,
     "metadata": {},
     "output_type": "execute_result"
    }
   ],
   "source": [
    "data.corr()"
   ]
  },
  {
   "cell_type": "code",
   "execution_count": null,
   "id": "70d37b33",
   "metadata": {
    "id": "c66d61bd",
    "papermill": {
     "duration": 0.029438,
     "end_time": "2022-10-06T12:07:58.876745",
     "exception": false,
     "start_time": "2022-10-06T12:07:58.847307",
     "status": "completed"
    },
    "tags": []
   },
   "outputs": [],
   "source": []
  },
  {
   "cell_type": "code",
   "execution_count": 16,
   "id": "2204b6ae",
   "metadata": {
    "execution": {
     "iopub.execute_input": "2022-10-06T12:07:58.937275Z",
     "iopub.status.busy": "2022-10-06T12:07:58.936855Z",
     "iopub.status.idle": "2022-10-06T12:08:00.933428Z",
     "shell.execute_reply": "2022-10-06T12:08:00.932437Z"
    },
    "id": "0c009805",
    "outputId": "fa9a0414-9c48-4e07-e51b-cff10ec9691d",
    "papermill": {
     "duration": 2.029767,
     "end_time": "2022-10-06T12:08:00.936202",
     "exception": false,
     "start_time": "2022-10-06T12:07:58.906435",
     "status": "completed"
    },
    "tags": []
   },
   "outputs": [
    {
     "data": {
      "text/plain": [
       "<AxesSubplot:>"
      ]
     },
     "execution_count": 16,
     "metadata": {},
     "output_type": "execute_result"
    },
    {
     "data": {
      "image/png": "[encoded data removed]",
      "text/plain": [
       "<Figure size 1728x720 with 3 Axes>"
      ]
     },
     "metadata": {
      "needs_background": "light"
     },
     "output_type": "display_data"
    }
   ],
   "source": [
    "msno.bar(data)\n"
   ]
  },
  {
   "cell_type": "code",
   "execution_count": null,
   "id": "a4a3ea33",
   "metadata": {
    "id": "50c6bdd9",
    "papermill": {
     "duration": 0.030418,
     "end_time": "2022-10-06T12:08:00.998226",
     "exception": false,
     "start_time": "2022-10-06T12:08:00.967808",
     "status": "completed"
    },
    "tags": []
   },
   "outputs": [],
   "source": []
  },
  {
   "cell_type": "markdown",
   "id": "3a7480d3",
   "metadata": {
    "id": "96812196",
    "papermill": {
     "duration": 0.030166,
     "end_time": "2022-10-06T12:08:01.059383",
     "exception": false,
     "start_time": "2022-10-06T12:08:01.029217",
     "status": "completed"
    },
    "tags": []
   },
   "source": [
    "# Data cleaning "
   ]
  },
  {
   "cell_type": "markdown",
   "id": "7bea73aa",
   "metadata": {
    "id": "31a3dafe",
    "papermill": {
     "duration": 0.031692,
     "end_time": "2022-10-06T12:08:01.121884",
     "exception": false,
     "start_time": "2022-10-06T12:08:01.090192",
     "status": "completed"
    },
    "tags": []
   },
   "source": [
    "1. check missing value\n",
    "2. deal with missing value\n",
    "3. check duplicate value\n",
    "4. drop unnecessary columns\n",
    "5. check data type of all columns"
   ]
  },
  {
   "cell_type": "code",
   "execution_count": 17,
   "id": "72a991a3",
   "metadata": {
    "execution": {
     "iopub.execute_input": "2022-10-06T12:08:01.186334Z",
     "iopub.status.busy": "2022-10-06T12:08:01.185671Z",
     "iopub.status.idle": "2022-10-06T12:08:01.504662Z",
     "shell.execute_reply": "2022-10-06T12:08:01.503136Z"
    },
    "id": "77e75135",
    "outputId": "97b92123-321a-4e00-a3d4-e209bfaf3c38",
    "papermill": {
     "duration": 0.354311,
     "end_time": "2022-10-06T12:08:01.507572",
     "exception": false,
     "start_time": "2022-10-06T12:08:01.153261",
     "status": "completed"
    },
    "tags": []
   },
   "outputs": [
    {
     "data": {
      "text/plain": [
       "OCCUPATION_TYPE        240048\n",
       "ID                          0\n",
       "CODE_GENDER                 0\n",
       "MONTHS_BALANCE              0\n",
       "CNT_FAM_MEMBERS             0\n",
       "FLAG_EMAIL                  0\n",
       "FLAG_PHONE                  0\n",
       "FLAG_WORK_PHONE             0\n",
       "FLAG_MOBIL                  0\n",
       "DAYS_EMPLOYED               0\n",
       "DAYS_BIRTH                  0\n",
       "NAME_HOUSING_TYPE           0\n",
       "NAME_FAMILY_STATUS          0\n",
       "NAME_EDUCATION_TYPE         0\n",
       "NAME_INCOME_TYPE            0\n",
       "AMT_INCOME_TOTAL            0\n",
       "CNT_CHILDREN                0\n",
       "FLAG_OWN_REALTY             0\n",
       "FLAG_OWN_CAR                0\n",
       "STATUS                      0\n",
       "dtype: int64"
      ]
     },
     "execution_count": 17,
     "metadata": {},
     "output_type": "execute_result"
    }
   ],
   "source": [
    "#NULL values in data\n",
    "data.isnull().sum().sort_values(ascending=False)"
   ]
  },
  {
   "cell_type": "code",
   "execution_count": 18,
   "id": "7f8b9c58",
   "metadata": {
    "execution": {
     "iopub.execute_input": "2022-10-06T12:08:01.572141Z",
     "iopub.status.busy": "2022-10-06T12:08:01.571742Z",
     "iopub.status.idle": "2022-10-06T12:08:23.226707Z",
     "shell.execute_reply": "2022-10-06T12:08:23.225120Z"
    },
    "id": "eb9b13e8",
    "outputId": "56d8b551-1450-46db-8a13-83a032220484",
    "papermill": {
     "duration": 21.689478,
     "end_time": "2022-10-06T12:08:23.229382",
     "exception": false,
     "start_time": "2022-10-06T12:08:01.539904",
     "status": "completed"
    },
    "tags": []
   },
   "outputs": [
    {
     "data": {
      "text/plain": [
       "<AxesSubplot:>"
      ]
     },
     "execution_count": 18,
     "metadata": {},
     "output_type": "execute_result"
    },
    {
     "data": {
      "image/png": "[encoded data removed]",
      "text/plain": [
       "<Figure size 432x288 with 1 Axes>"
      ]
     },
     "metadata": {
      "needs_background": "light"
     },
     "output_type": "display_data"
    }
   ],
   "source": [
    "call=data.columns\n",
    "sns.heatmap(data[call].isnull(),cmap='Blues',yticklabels=False,cbar=False)"
   ]
  },
  {
   "cell_type": "code",
   "execution_count": 19,
   "id": "982340cb",
   "metadata": {
    "execution": {
     "iopub.execute_input": "2022-10-06T12:08:23.294539Z",
     "iopub.status.busy": "2022-10-06T12:08:23.294084Z",
     "iopub.status.idle": "2022-10-06T12:08:23.609992Z",
     "shell.execute_reply": "2022-10-06T12:08:23.608337Z"
    },
    "id": "f8c88654",
    "outputId": "f2a3ec1f-50ec-4d79-e26d-b55de8d3e1cb",
    "papermill": {
     "duration": 0.352351,
     "end_time": "2022-10-06T12:08:23.613514",
     "exception": false,
     "start_time": "2022-10-06T12:08:23.261163",
     "status": "completed"
    },
    "tags": []
   },
   "outputs": [
    {
     "name": "stdout",
     "output_type": "stream",
     "text": [
      "<class 'pandas.core.frame.DataFrame'>\n",
      "Int64Index: 777715 entries, 0 to 777714\n",
      "Data columns (total 20 columns):\n",
      " #   Column               Non-Null Count   Dtype  \n",
      "---  ------               --------------   -----  \n",
      " 0   ID                   777715 non-null  int64  \n",
      " 1   CODE_GENDER          777715 non-null  object \n",
      " 2   FLAG_OWN_CAR         777715 non-null  object \n",
      " 3   FLAG_OWN_REALTY      777715 non-null  object \n",
      " 4   CNT_CHILDREN         777715 non-null  int64  \n",
      " 5   AMT_INCOME_TOTAL     777715 non-null  float64\n",
      " 6   NAME_INCOME_TYPE     777715 non-null  object \n",
      " 7   NAME_EDUCATION_TYPE  777715 non-null  object \n",
      " 8   NAME_FAMILY_STATUS   777715 non-null  object \n",
      " 9   NAME_HOUSING_TYPE    777715 non-null  object \n",
      " 10  DAYS_BIRTH           777715 non-null  int64  \n",
      " 11  DAYS_EMPLOYED        777715 non-null  int64  \n",
      " 12  FLAG_MOBIL           777715 non-null  int64  \n",
      " 13  FLAG_WORK_PHONE      777715 non-null  int64  \n",
      " 14  FLAG_PHONE           777715 non-null  int64  \n",
      " 15  FLAG_EMAIL           777715 non-null  int64  \n",
      " 16  OCCUPATION_TYPE      537667 non-null  object \n",
      " 17  CNT_FAM_MEMBERS      777715 non-null  float64\n",
      " 18  MONTHS_BALANCE       777715 non-null  int64  \n",
      " 19  STATUS               777715 non-null  object \n",
      "dtypes: float64(2), int64(9), object(9)\n",
      "memory usage: 124.6+ MB\n"
     ]
    }
   ],
   "source": [
    "data.info()"
   ]
  },
  {
   "cell_type": "code",
   "execution_count": 20,
   "id": "8ca419ac",
   "metadata": {
    "execution": {
     "iopub.execute_input": "2022-10-06T12:08:23.677880Z",
     "iopub.status.busy": "2022-10-06T12:08:23.677485Z",
     "iopub.status.idle": "2022-10-06T12:08:24.394642Z",
     "shell.execute_reply": "2022-10-06T12:08:24.393287Z"
    },
    "id": "e5426482",
    "outputId": "31b97956-5be1-4752-9f71-26bff064cfe4",
    "papermill": {
     "duration": 0.752012,
     "end_time": "2022-10-06T12:08:24.397468",
     "exception": false,
     "start_time": "2022-10-06T12:08:23.645456",
     "status": "completed"
    },
    "tags": []
   },
   "outputs": [
    {
     "data": {
      "text/plain": [
       "0"
      ]
     },
     "execution_count": 20,
     "metadata": {},
     "output_type": "execute_result"
    }
   ],
   "source": [
    "data.duplicated().sum()"
   ]
  },
  {
   "cell_type": "markdown",
   "id": "f923f7bc",
   "metadata": {
    "id": "bd4dc9b5",
    "papermill": {
     "duration": 0.031324,
     "end_time": "2022-10-06T12:08:24.461832",
     "exception": false,
     "start_time": "2022-10-06T12:08:24.430508",
     "status": "completed"
    },
    "tags": []
   },
   "source": [
    "As we can see we have no duplicate value ,so move further."
   ]
  },
  {
   "cell_type": "code",
   "execution_count": 21,
   "id": "a4391bac",
   "metadata": {
    "execution": {
     "iopub.execute_input": "2022-10-06T12:08:24.529877Z",
     "iopub.status.busy": "2022-10-06T12:08:24.529418Z",
     "iopub.status.idle": "2022-10-06T12:08:24.662798Z",
     "shell.execute_reply": "2022-10-06T12:08:24.661796Z"
    },
    "id": "e9b14024",
    "papermill": {
     "duration": 0.171786,
     "end_time": "2022-10-06T12:08:24.665514",
     "exception": false,
     "start_time": "2022-10-06T12:08:24.493728",
     "status": "completed"
    },
    "tags": []
   },
   "outputs": [],
   "source": [
    "#FLAG_MOBIL column is not correlated to any feature so let's drop the that column\n",
    "data.drop('FLAG_MOBIL',inplace=True,axis=1)"
   ]
  },
  {
   "cell_type": "code",
   "execution_count": 22,
   "id": "b91c7891",
   "metadata": {
    "execution": {
     "iopub.execute_input": "2022-10-06T12:08:24.729206Z",
     "iopub.status.busy": "2022-10-06T12:08:24.728814Z",
     "iopub.status.idle": "2022-10-06T12:08:24.754185Z",
     "shell.execute_reply": "2022-10-06T12:08:24.752763Z"
    },
    "id": "91ca8adf",
    "outputId": "e1988d58-ba51-4115-9c8b-fb9208fe4262",
    "papermill": {
     "duration": 0.060904,
     "end_time": "2022-10-06T12:08:24.757329",
     "exception": false,
     "start_time": "2022-10-06T12:08:24.696425",
     "status": "completed"
    },
    "tags": []
   },
   "outputs": [
    {
     "data": {
      "text/html": [
       "<div>\n",
       "<style scoped>\n",
       "    .dataframe tbody tr th:only-of-type {\n",
       "        vertical-align: middle;\n",
       "    }\n",
       "\n",
       "    .dataframe tbody tr th {\n",
       "        vertical-align: top;\n",
       "    }\n",
       "\n",
       "    .dataframe thead th {\n",
       "        text-align: right;\n",
       "    }\n",
       "</style>\n",
       "<table border=\"1\" class=\"dataframe\">\n",
       "  <thead>\n",
       "    <tr style=\"text-align: right;\">\n",
       "      <th></th>\n",
       "      <th>ID</th>\n",
       "      <th>CODE_GENDER</th>\n",
       "      <th>FLAG_OWN_CAR</th>\n",
       "      <th>FLAG_OWN_REALTY</th>\n",
       "      <th>CNT_CHILDREN</th>\n",
       "      <th>AMT_INCOME_TOTAL</th>\n",
       "      <th>NAME_INCOME_TYPE</th>\n",
       "      <th>NAME_EDUCATION_TYPE</th>\n",
       "      <th>NAME_FAMILY_STATUS</th>\n",
       "      <th>NAME_HOUSING_TYPE</th>\n",
       "      <th>DAYS_BIRTH</th>\n",
       "      <th>DAYS_EMPLOYED</th>\n",
       "      <th>FLAG_WORK_PHONE</th>\n",
       "      <th>FLAG_PHONE</th>\n",
       "      <th>FLAG_EMAIL</th>\n",
       "      <th>OCCUPATION_TYPE</th>\n",
       "      <th>CNT_FAM_MEMBERS</th>\n",
       "      <th>MONTHS_BALANCE</th>\n",
       "      <th>STATUS</th>\n",
       "    </tr>\n",
       "  </thead>\n",
       "  <tbody>\n",
       "    <tr>\n",
       "      <th>0</th>\n",
       "      <td>5008804</td>\n",
       "      <td>M</td>\n",
       "      <td>Y</td>\n",
       "      <td>Y</td>\n",
       "      <td>0</td>\n",
       "      <td>427500.0</td>\n",
       "      <td>Working</td>\n",
       "      <td>Higher education</td>\n",
       "      <td>Civil marriage</td>\n",
       "      <td>Rented apartment</td>\n",
       "      <td>-12005</td>\n",
       "      <td>-4542</td>\n",
       "      <td>1</td>\n",
       "      <td>0</td>\n",
       "      <td>0</td>\n",
       "      <td>NaN</td>\n",
       "      <td>2.0</td>\n",
       "      <td>0</td>\n",
       "      <td>C</td>\n",
       "    </tr>\n",
       "    <tr>\n",
       "      <th>1</th>\n",
       "      <td>5008804</td>\n",
       "      <td>M</td>\n",
       "      <td>Y</td>\n",
       "      <td>Y</td>\n",
       "      <td>0</td>\n",
       "      <td>427500.0</td>\n",
       "      <td>Working</td>\n",
       "      <td>Higher education</td>\n",
       "      <td>Civil marriage</td>\n",
       "      <td>Rented apartment</td>\n",
       "      <td>-12005</td>\n",
       "      <td>-4542</td>\n",
       "      <td>1</td>\n",
       "      <td>0</td>\n",
       "      <td>0</td>\n",
       "      <td>NaN</td>\n",
       "      <td>2.0</td>\n",
       "      <td>-1</td>\n",
       "      <td>C</td>\n",
       "    </tr>\n",
       "    <tr>\n",
       "      <th>2</th>\n",
       "      <td>5008804</td>\n",
       "      <td>M</td>\n",
       "      <td>Y</td>\n",
       "      <td>Y</td>\n",
       "      <td>0</td>\n",
       "      <td>427500.0</td>\n",
       "      <td>Working</td>\n",
       "      <td>Higher education</td>\n",
       "      <td>Civil marriage</td>\n",
       "      <td>Rented apartment</td>\n",
       "      <td>-12005</td>\n",
       "      <td>-4542</td>\n",
       "      <td>1</td>\n",
       "      <td>0</td>\n",
       "      <td>0</td>\n",
       "      <td>NaN</td>\n",
       "      <td>2.0</td>\n",
       "      <td>-2</td>\n",
       "      <td>C</td>\n",
       "    </tr>\n",
       "    <tr>\n",
       "      <th>3</th>\n",
       "      <td>5008804</td>\n",
       "      <td>M</td>\n",
       "      <td>Y</td>\n",
       "      <td>Y</td>\n",
       "      <td>0</td>\n",
       "      <td>427500.0</td>\n",
       "      <td>Working</td>\n",
       "      <td>Higher education</td>\n",
       "      <td>Civil marriage</td>\n",
       "      <td>Rented apartment</td>\n",
       "      <td>-12005</td>\n",
       "      <td>-4542</td>\n",
       "      <td>1</td>\n",
       "      <td>0</td>\n",
       "      <td>0</td>\n",
       "      <td>NaN</td>\n",
       "      <td>2.0</td>\n",
       "      <td>-3</td>\n",
       "      <td>C</td>\n",
       "    </tr>\n",
       "    <tr>\n",
       "      <th>4</th>\n",
       "      <td>5008804</td>\n",
       "      <td>M</td>\n",
       "      <td>Y</td>\n",
       "      <td>Y</td>\n",
       "      <td>0</td>\n",
       "      <td>427500.0</td>\n",
       "      <td>Working</td>\n",
       "      <td>Higher education</td>\n",
       "      <td>Civil marriage</td>\n",
       "      <td>Rented apartment</td>\n",
       "      <td>-12005</td>\n",
       "      <td>-4542</td>\n",
       "      <td>1</td>\n",
       "      <td>0</td>\n",
       "      <td>0</td>\n",
       "      <td>NaN</td>\n",
       "      <td>2.0</td>\n",
       "      <td>-4</td>\n",
       "      <td>C</td>\n",
       "    </tr>\n",
       "  </tbody>\n",
       "</table>\n",
       "</div>"
      ],
      "text/plain": [
       "        ID CODE_GENDER FLAG_OWN_CAR FLAG_OWN_REALTY  CNT_CHILDREN  \\\n",
       "0  5008804           M            Y               Y             0   \n",
       "1  5008804           M            Y               Y             0   \n",
       "2  5008804           M            Y               Y             0   \n",
       "3  5008804           M            Y               Y             0   \n",
       "4  5008804           M            Y               Y             0   \n",
       "\n",
       "   AMT_INCOME_TOTAL NAME_INCOME_TYPE NAME_EDUCATION_TYPE NAME_FAMILY_STATUS  \\\n",
       "0          427500.0          Working    Higher education     Civil marriage   \n",
       "1          427500.0          Working    Higher education     Civil marriage   \n",
       "2          427500.0          Working    Higher education     Civil marriage   \n",
       "3          427500.0          Working    Higher education     Civil marriage   \n",
       "4          427500.0          Working    Higher education     Civil marriage   \n",
       "\n",
       "  NAME_HOUSING_TYPE  DAYS_BIRTH  DAYS_EMPLOYED  FLAG_WORK_PHONE  FLAG_PHONE  \\\n",
       "0  Rented apartment      -12005          -4542                1           0   \n",
       "1  Rented apartment      -12005          -4542                1           0   \n",
       "2  Rented apartment      -12005          -4542                1           0   \n",
       "3  Rented apartment      -12005          -4542                1           0   \n",
       "4  Rented apartment      -12005          -4542                1           0   \n",
       "\n",
       "   FLAG_EMAIL OCCUPATION_TYPE  CNT_FAM_MEMBERS  MONTHS_BALANCE STATUS  \n",
       "0           0             NaN              2.0               0      C  \n",
       "1           0             NaN              2.0              -1      C  \n",
       "2           0             NaN              2.0              -2      C  \n",
       "3           0             NaN              2.0              -3      C  \n",
       "4           0             NaN              2.0              -4      C  "
      ]
     },
     "execution_count": 22,
     "metadata": {},
     "output_type": "execute_result"
    }
   ],
   "source": [
    "data.head()"
   ]
  },
  {
   "cell_type": "markdown",
   "id": "b511156e",
   "metadata": {
    "id": "03b06e77",
    "papermill": {
     "duration": 0.033098,
     "end_time": "2022-10-06T12:08:24.822608",
     "exception": false,
     "start_time": "2022-10-06T12:08:24.789510",
     "status": "completed"
    },
    "tags": []
   },
   "source": [
    "# Feature Engineering"
   ]
  },
  {
   "cell_type": "markdown",
   "id": "4d993054",
   "metadata": {
    "id": "3ee869a9",
    "papermill": {
     "duration": 0.031322,
     "end_time": "2022-10-06T12:08:24.886935",
     "exception": false,
     "start_time": "2022-10-06T12:08:24.855613",
     "status": "completed"
    },
    "tags": []
   },
   "source": [
    "\n",
    "\n",
    "  We will be performing all the below steps in Feature Engineering\n",
    "\n",
    "    1. Missing values\n",
    "    \n",
    "    2. Temporal variables\n",
    "    \n",
    "    3. Categorical variables: remove rare labels\n",
    "    \n",
    "    4. Standarise the values of the variables to the same range\n",
    "\n"
   ]
  },
  {
   "cell_type": "code",
   "execution_count": 23,
   "id": "0dea74a3",
   "metadata": {
    "execution": {
     "iopub.execute_input": "2022-10-06T12:08:24.952776Z",
     "iopub.status.busy": "2022-10-06T12:08:24.952340Z",
     "iopub.status.idle": "2022-10-06T12:08:25.264873Z",
     "shell.execute_reply": "2022-10-06T12:08:25.263547Z"
    },
    "id": "52d01d7f",
    "outputId": "2eea38f7-d188-4937-8191-2862438e98ce",
    "papermill": {
     "duration": 0.349539,
     "end_time": "2022-10-06T12:08:25.267601",
     "exception": false,
     "start_time": "2022-10-06T12:08:24.918062",
     "status": "completed"
    },
    "tags": []
   },
   "outputs": [
    {
     "data": {
      "text/plain": [
       "OCCUPATION_TYPE        240048\n",
       "ID                          0\n",
       "DAYS_BIRTH                  0\n",
       "MONTHS_BALANCE              0\n",
       "CNT_FAM_MEMBERS             0\n",
       "FLAG_EMAIL                  0\n",
       "FLAG_PHONE                  0\n",
       "FLAG_WORK_PHONE             0\n",
       "DAYS_EMPLOYED               0\n",
       "NAME_HOUSING_TYPE           0\n",
       "CODE_GENDER                 0\n",
       "NAME_FAMILY_STATUS          0\n",
       "NAME_EDUCATION_TYPE         0\n",
       "NAME_INCOME_TYPE            0\n",
       "AMT_INCOME_TOTAL            0\n",
       "CNT_CHILDREN                0\n",
       "FLAG_OWN_REALTY             0\n",
       "FLAG_OWN_CAR                0\n",
       "STATUS                      0\n",
       "dtype: int64"
      ]
     },
     "execution_count": 23,
     "metadata": {},
     "output_type": "execute_result"
    }
   ],
   "source": [
    "data.isnull().sum().sort_values(ascending=False)"
   ]
  },
  {
   "cell_type": "code",
   "execution_count": 24,
   "id": "51632b27",
   "metadata": {
    "execution": {
     "iopub.execute_input": "2022-10-06T12:08:25.332940Z",
     "iopub.status.busy": "2022-10-06T12:08:25.332504Z",
     "iopub.status.idle": "2022-10-06T12:08:25.376216Z",
     "shell.execute_reply": "2022-10-06T12:08:25.375023Z"
    },
    "id": "52b48fa1",
    "outputId": "bd182631-fc1a-40c2-e672-f3b4aca78ec3",
    "papermill": {
     "duration": 0.079523,
     "end_time": "2022-10-06T12:08:25.378618",
     "exception": false,
     "start_time": "2022-10-06T12:08:25.299095",
     "status": "completed"
    },
    "tags": []
   },
   "outputs": [
    {
     "data": {
      "text/plain": [
       "Laborers                 131572\n",
       "Core staff                77112\n",
       "Sales staff               70362\n",
       "Managers                  67738\n",
       "Drivers                   47678\n",
       "High skill tech staff     31768\n",
       "Accountants               27223\n",
       "Medicine staff            26691\n",
       "Cooking staff             13416\n",
       "Security staff            12400\n",
       "Cleaning staff            11399\n",
       "Private service staff      6714\n",
       "Low-skill Laborers         3623\n",
       "Secretaries                3149\n",
       "Waiters/barmen staff       2557\n",
       "HR staff                   1686\n",
       "IT staff                   1319\n",
       "Realty agents              1260\n",
       "Name: OCCUPATION_TYPE, dtype: int64"
      ]
     },
     "execution_count": 24,
     "metadata": {},
     "output_type": "execute_result"
    }
   ],
   "source": [
    "data['OCCUPATION_TYPE'].value_counts()"
   ]
  },
  {
   "cell_type": "code",
   "execution_count": 25,
   "id": "a6bac156",
   "metadata": {
    "execution": {
     "iopub.execute_input": "2022-10-06T12:08:25.444545Z",
     "iopub.status.busy": "2022-10-06T12:08:25.444115Z",
     "iopub.status.idle": "2022-10-06T12:08:25.487325Z",
     "shell.execute_reply": "2022-10-06T12:08:25.486102Z"
    },
    "id": "25c525f4",
    "papermill": {
     "duration": 0.07848,
     "end_time": "2022-10-06T12:08:25.489914",
     "exception": false,
     "start_time": "2022-10-06T12:08:25.411434",
     "status": "completed"
    },
    "tags": []
   },
   "outputs": [],
   "source": [
    "data['OCCUPATION_TYPE'].fillna('Other',inplace=True)"
   ]
  },
  {
   "cell_type": "code",
   "execution_count": 26,
   "id": "159cb0fe",
   "metadata": {
    "execution": {
     "iopub.execute_input": "2022-10-06T12:08:25.557297Z",
     "iopub.status.busy": "2022-10-06T12:08:25.556873Z",
     "iopub.status.idle": "2022-10-06T12:08:25.604087Z",
     "shell.execute_reply": "2022-10-06T12:08:25.602894Z"
    },
    "id": "d42731ac",
    "outputId": "eb61895b-f7b4-4339-fb74-519e3e4a91ba",
    "papermill": {
     "duration": 0.082821,
     "end_time": "2022-10-06T12:08:25.606616",
     "exception": false,
     "start_time": "2022-10-06T12:08:25.523795",
     "status": "completed"
    },
    "tags": []
   },
   "outputs": [
    {
     "data": {
      "text/plain": [
       "Other                    240048\n",
       "Laborers                 131572\n",
       "Core staff                77112\n",
       "Sales staff               70362\n",
       "Managers                  67738\n",
       "Drivers                   47678\n",
       "High skill tech staff     31768\n",
       "Accountants               27223\n",
       "Medicine staff            26691\n",
       "Cooking staff             13416\n",
       "Security staff            12400\n",
       "Cleaning staff            11399\n",
       "Private service staff      6714\n",
       "Low-skill Laborers         3623\n",
       "Secretaries                3149\n",
       "Waiters/barmen staff       2557\n",
       "HR staff                   1686\n",
       "IT staff                   1319\n",
       "Realty agents              1260\n",
       "Name: OCCUPATION_TYPE, dtype: int64"
      ]
     },
     "execution_count": 26,
     "metadata": {},
     "output_type": "execute_result"
    }
   ],
   "source": [
    "data['OCCUPATION_TYPE'].value_counts()"
   ]
  },
  {
   "cell_type": "code",
   "execution_count": 27,
   "id": "83ad1303",
   "metadata": {
    "execution": {
     "iopub.execute_input": "2022-10-06T12:08:25.673797Z",
     "iopub.status.busy": "2022-10-06T12:08:25.673346Z",
     "iopub.status.idle": "2022-10-06T12:08:25.988069Z",
     "shell.execute_reply": "2022-10-06T12:08:25.986864Z"
    },
    "id": "024ef12c",
    "outputId": "3058a310-1ac5-45b9-8c4e-b311dcbde1f8",
    "papermill": {
     "duration": 0.351753,
     "end_time": "2022-10-06T12:08:25.990760",
     "exception": false,
     "start_time": "2022-10-06T12:08:25.639007",
     "status": "completed"
    },
    "tags": []
   },
   "outputs": [
    {
     "data": {
      "text/plain": [
       "ID                     0\n",
       "CODE_GENDER            0\n",
       "FLAG_OWN_CAR           0\n",
       "FLAG_OWN_REALTY        0\n",
       "CNT_CHILDREN           0\n",
       "AMT_INCOME_TOTAL       0\n",
       "NAME_INCOME_TYPE       0\n",
       "NAME_EDUCATION_TYPE    0\n",
       "NAME_FAMILY_STATUS     0\n",
       "NAME_HOUSING_TYPE      0\n",
       "DAYS_BIRTH             0\n",
       "DAYS_EMPLOYED          0\n",
       "FLAG_WORK_PHONE        0\n",
       "FLAG_PHONE             0\n",
       "FLAG_EMAIL             0\n",
       "OCCUPATION_TYPE        0\n",
       "CNT_FAM_MEMBERS        0\n",
       "MONTHS_BALANCE         0\n",
       "STATUS                 0\n",
       "dtype: int64"
      ]
     },
     "execution_count": 27,
     "metadata": {},
     "output_type": "execute_result"
    }
   ],
   "source": [
    "data.isnull().sum()"
   ]
  },
  {
   "cell_type": "markdown",
   "id": "d22c0aa3",
   "metadata": {
    "id": "caff6520",
    "papermill": {
     "duration": 0.031454,
     "end_time": "2022-10-06T12:08:26.053906",
     "exception": false,
     "start_time": "2022-10-06T12:08:26.022452",
     "status": "completed"
    },
    "tags": []
   },
   "source": [
    "Now we don't have NUll data"
   ]
  },
  {
   "cell_type": "code",
   "execution_count": 28,
   "id": "1fef5aea",
   "metadata": {
    "execution": {
     "iopub.execute_input": "2022-10-06T12:08:26.120943Z",
     "iopub.status.busy": "2022-10-06T12:08:26.120469Z",
     "iopub.status.idle": "2022-10-06T12:08:26.143417Z",
     "shell.execute_reply": "2022-10-06T12:08:26.142254Z"
    },
    "id": "2e832b5c",
    "outputId": "ef33cd30-38c4-4ed8-b26e-43b245d1b83d",
    "papermill": {
     "duration": 0.059704,
     "end_time": "2022-10-06T12:08:26.146026",
     "exception": false,
     "start_time": "2022-10-06T12:08:26.086322",
     "status": "completed"
    },
    "tags": []
   },
   "outputs": [
    {
     "data": {
      "text/html": [
       "<div>\n",
       "<style scoped>\n",
       "    .dataframe tbody tr th:only-of-type {\n",
       "        vertical-align: middle;\n",
       "    }\n",
       "\n",
       "    .dataframe tbody tr th {\n",
       "        vertical-align: top;\n",
       "    }\n",
       "\n",
       "    .dataframe thead th {\n",
       "        text-align: right;\n",
       "    }\n",
       "</style>\n",
       "<table border=\"1\" class=\"dataframe\">\n",
       "  <thead>\n",
       "    <tr style=\"text-align: right;\">\n",
       "      <th></th>\n",
       "      <th>ID</th>\n",
       "      <th>CODE_GENDER</th>\n",
       "      <th>FLAG_OWN_CAR</th>\n",
       "      <th>FLAG_OWN_REALTY</th>\n",
       "      <th>CNT_CHILDREN</th>\n",
       "      <th>AMT_INCOME_TOTAL</th>\n",
       "      <th>NAME_INCOME_TYPE</th>\n",
       "      <th>NAME_EDUCATION_TYPE</th>\n",
       "      <th>NAME_FAMILY_STATUS</th>\n",
       "      <th>NAME_HOUSING_TYPE</th>\n",
       "      <th>DAYS_BIRTH</th>\n",
       "      <th>DAYS_EMPLOYED</th>\n",
       "      <th>FLAG_WORK_PHONE</th>\n",
       "      <th>FLAG_PHONE</th>\n",
       "      <th>FLAG_EMAIL</th>\n",
       "      <th>OCCUPATION_TYPE</th>\n",
       "      <th>CNT_FAM_MEMBERS</th>\n",
       "      <th>MONTHS_BALANCE</th>\n",
       "      <th>STATUS</th>\n",
       "    </tr>\n",
       "  </thead>\n",
       "  <tbody>\n",
       "    <tr>\n",
       "      <th>0</th>\n",
       "      <td>5008804</td>\n",
       "      <td>M</td>\n",
       "      <td>Y</td>\n",
       "      <td>Y</td>\n",
       "      <td>0</td>\n",
       "      <td>427500.0</td>\n",
       "      <td>Working</td>\n",
       "      <td>Higher education</td>\n",
       "      <td>Civil marriage</td>\n",
       "      <td>Rented apartment</td>\n",
       "      <td>-12005</td>\n",
       "      <td>-4542</td>\n",
       "      <td>1</td>\n",
       "      <td>0</td>\n",
       "      <td>0</td>\n",
       "      <td>Other</td>\n",
       "      <td>2.0</td>\n",
       "      <td>0</td>\n",
       "      <td>C</td>\n",
       "    </tr>\n",
       "    <tr>\n",
       "      <th>1</th>\n",
       "      <td>5008804</td>\n",
       "      <td>M</td>\n",
       "      <td>Y</td>\n",
       "      <td>Y</td>\n",
       "      <td>0</td>\n",
       "      <td>427500.0</td>\n",
       "      <td>Working</td>\n",
       "      <td>Higher education</td>\n",
       "      <td>Civil marriage</td>\n",
       "      <td>Rented apartment</td>\n",
       "      <td>-12005</td>\n",
       "      <td>-4542</td>\n",
       "      <td>1</td>\n",
       "      <td>0</td>\n",
       "      <td>0</td>\n",
       "      <td>Other</td>\n",
       "      <td>2.0</td>\n",
       "      <td>-1</td>\n",
       "      <td>C</td>\n",
       "    </tr>\n",
       "    <tr>\n",
       "      <th>2</th>\n",
       "      <td>5008804</td>\n",
       "      <td>M</td>\n",
       "      <td>Y</td>\n",
       "      <td>Y</td>\n",
       "      <td>0</td>\n",
       "      <td>427500.0</td>\n",
       "      <td>Working</td>\n",
       "      <td>Higher education</td>\n",
       "      <td>Civil marriage</td>\n",
       "      <td>Rented apartment</td>\n",
       "      <td>-12005</td>\n",
       "      <td>-4542</td>\n",
       "      <td>1</td>\n",
       "      <td>0</td>\n",
       "      <td>0</td>\n",
       "      <td>Other</td>\n",
       "      <td>2.0</td>\n",
       "      <td>-2</td>\n",
       "      <td>C</td>\n",
       "    </tr>\n",
       "    <tr>\n",
       "      <th>3</th>\n",
       "      <td>5008804</td>\n",
       "      <td>M</td>\n",
       "      <td>Y</td>\n",
       "      <td>Y</td>\n",
       "      <td>0</td>\n",
       "      <td>427500.0</td>\n",
       "      <td>Working</td>\n",
       "      <td>Higher education</td>\n",
       "      <td>Civil marriage</td>\n",
       "      <td>Rented apartment</td>\n",
       "      <td>-12005</td>\n",
       "      <td>-4542</td>\n",
       "      <td>1</td>\n",
       "      <td>0</td>\n",
       "      <td>0</td>\n",
       "      <td>Other</td>\n",
       "      <td>2.0</td>\n",
       "      <td>-3</td>\n",
       "      <td>C</td>\n",
       "    </tr>\n",
       "  </tbody>\n",
       "</table>\n",
       "</div>"
      ],
      "text/plain": [
       "        ID CODE_GENDER FLAG_OWN_CAR FLAG_OWN_REALTY  CNT_CHILDREN  \\\n",
       "0  5008804           M            Y               Y             0   \n",
       "1  5008804           M            Y               Y             0   \n",
       "2  5008804           M            Y               Y             0   \n",
       "3  5008804           M            Y               Y             0   \n",
       "\n",
       "   AMT_INCOME_TOTAL NAME_INCOME_TYPE NAME_EDUCATION_TYPE NAME_FAMILY_STATUS  \\\n",
       "0          427500.0          Working    Higher education     Civil marriage   \n",
       "1          427500.0          Working    Higher education     Civil marriage   \n",
       "2          427500.0          Working    Higher education     Civil marriage   \n",
       "3          427500.0          Working    Higher education     Civil marriage   \n",
       "\n",
       "  NAME_HOUSING_TYPE  DAYS_BIRTH  DAYS_EMPLOYED  FLAG_WORK_PHONE  FLAG_PHONE  \\\n",
       "0  Rented apartment      -12005          -4542                1           0   \n",
       "1  Rented apartment      -12005          -4542                1           0   \n",
       "2  Rented apartment      -12005          -4542                1           0   \n",
       "3  Rented apartment      -12005          -4542                1           0   \n",
       "\n",
       "   FLAG_EMAIL OCCUPATION_TYPE  CNT_FAM_MEMBERS  MONTHS_BALANCE STATUS  \n",
       "0           0           Other              2.0               0      C  \n",
       "1           0           Other              2.0              -1      C  \n",
       "2           0           Other              2.0              -2      C  \n",
       "3           0           Other              2.0              -3      C  "
      ]
     },
     "execution_count": 28,
     "metadata": {},
     "output_type": "execute_result"
    }
   ],
   "source": [
    "data.head(4)"
   ]
  },
  {
   "cell_type": "code",
   "execution_count": 29,
   "id": "1749767e",
   "metadata": {
    "execution": {
     "iopub.execute_input": "2022-10-06T12:08:26.212307Z",
     "iopub.status.busy": "2022-10-06T12:08:26.211895Z",
     "iopub.status.idle": "2022-10-06T12:08:26.256438Z",
     "shell.execute_reply": "2022-10-06T12:08:26.254734Z"
    },
    "id": "3bc86e33",
    "outputId": "87f803c9-7a41-4c77-c665-5c46e679beeb",
    "papermill": {
     "duration": 0.081296,
     "end_time": "2022-10-06T12:08:26.259243",
     "exception": false,
     "start_time": "2022-10-06T12:08:26.177947",
     "status": "completed"
    },
    "tags": []
   },
   "outputs": [
    {
     "data": {
      "text/plain": [
       "F    518851\n",
       "M    258864\n",
       "Name: CODE_GENDER, dtype: int64"
      ]
     },
     "execution_count": 29,
     "metadata": {},
     "output_type": "execute_result"
    }
   ],
   "source": [
    "data['CODE_GENDER'].value_counts()"
   ]
  },
  {
   "cell_type": "code",
   "execution_count": 30,
   "id": "a965e1f0",
   "metadata": {
    "execution": {
     "iopub.execute_input": "2022-10-06T12:08:26.329023Z",
     "iopub.status.busy": "2022-10-06T12:08:26.328629Z",
     "iopub.status.idle": "2022-10-06T12:08:26.412005Z",
     "shell.execute_reply": "2022-10-06T12:08:26.410062Z"
    },
    "id": "1ca7b0a0",
    "papermill": {
     "duration": 0.122143,
     "end_time": "2022-10-06T12:08:26.415454",
     "exception": false,
     "start_time": "2022-10-06T12:08:26.293311",
     "status": "completed"
    },
    "tags": []
   },
   "outputs": [],
   "source": [
    "male= pd.get_dummies(data['CODE_GENDER'],drop_first=True)"
   ]
  },
  {
   "cell_type": "code",
   "execution_count": 31,
   "id": "6f06f308",
   "metadata": {
    "execution": {
     "iopub.execute_input": "2022-10-06T12:08:26.497093Z",
     "iopub.status.busy": "2022-10-06T12:08:26.496673Z",
     "iopub.status.idle": "2022-10-06T12:08:26.525398Z",
     "shell.execute_reply": "2022-10-06T12:08:26.523947Z"
    },
    "id": "d3d7ea2d",
    "outputId": "d75bf42c-d381-434a-86b8-f111ee0ec0b9",
    "papermill": {
     "duration": 0.074827,
     "end_time": "2022-10-06T12:08:26.528272",
     "exception": false,
     "start_time": "2022-10-06T12:08:26.453445",
     "status": "completed"
    },
    "tags": []
   },
   "outputs": [
    {
     "data": {
      "text/plain": [
       "M\n",
       "0    518851\n",
       "1    258864\n",
       "dtype: int64"
      ]
     },
     "execution_count": 31,
     "metadata": {},
     "output_type": "execute_result"
    }
   ],
   "source": [
    "male.value_counts()"
   ]
  },
  {
   "cell_type": "code",
   "execution_count": 32,
   "id": "d57d32b2",
   "metadata": {
    "execution": {
     "iopub.execute_input": "2022-10-06T12:08:26.599717Z",
     "iopub.status.busy": "2022-10-06T12:08:26.598981Z",
     "iopub.status.idle": "2022-10-06T12:08:26.667673Z",
     "shell.execute_reply": "2022-10-06T12:08:26.666748Z"
    },
    "id": "39c90081",
    "papermill": {
     "duration": 0.108237,
     "end_time": "2022-10-06T12:08:26.670500",
     "exception": false,
     "start_time": "2022-10-06T12:08:26.562263",
     "status": "completed"
    },
    "tags": []
   },
   "outputs": [],
   "source": [
    "car= pd.get_dummies(data['FLAG_OWN_CAR'],drop_first=True)"
   ]
  },
  {
   "cell_type": "code",
   "execution_count": 33,
   "id": "71369ae5",
   "metadata": {
    "execution": {
     "iopub.execute_input": "2022-10-06T12:08:26.740726Z",
     "iopub.status.busy": "2022-10-06T12:08:26.739984Z",
     "iopub.status.idle": "2022-10-06T12:08:26.765215Z",
     "shell.execute_reply": "2022-10-06T12:08:26.764254Z"
    },
    "id": "30f41cab",
    "outputId": "89c94fd7-2997-4436-d354-c5d8fc36e822",
    "papermill": {
     "duration": 0.063602,
     "end_time": "2022-10-06T12:08:26.767604",
     "exception": false,
     "start_time": "2022-10-06T12:08:26.704002",
     "status": "completed"
    },
    "tags": []
   },
   "outputs": [
    {
     "data": {
      "text/plain": [
       "Y\n",
       "0    473355\n",
       "1    304360\n",
       "dtype: int64"
      ]
     },
     "execution_count": 33,
     "metadata": {},
     "output_type": "execute_result"
    }
   ],
   "source": [
    "car.value_counts()"
   ]
  },
  {
   "cell_type": "code",
   "execution_count": 34,
   "id": "6c876557",
   "metadata": {
    "execution": {
     "iopub.execute_input": "2022-10-06T12:08:26.834988Z",
     "iopub.status.busy": "2022-10-06T12:08:26.834157Z",
     "iopub.status.idle": "2022-10-06T12:08:26.903386Z",
     "shell.execute_reply": "2022-10-06T12:08:26.902009Z"
    },
    "id": "22193e11",
    "papermill": {
     "duration": 0.106177,
     "end_time": "2022-10-06T12:08:26.906461",
     "exception": false,
     "start_time": "2022-10-06T12:08:26.800284",
     "status": "completed"
    },
    "tags": []
   },
   "outputs": [],
   "source": [
    "Property= pd.get_dummies(data['FLAG_OWN_REALTY'],drop_first=True)"
   ]
  },
  {
   "cell_type": "code",
   "execution_count": 35,
   "id": "d4625582",
   "metadata": {
    "execution": {
     "iopub.execute_input": "2022-10-06T12:08:26.975445Z",
     "iopub.status.busy": "2022-10-06T12:08:26.974985Z",
     "iopub.status.idle": "2022-10-06T12:08:26.999473Z",
     "shell.execute_reply": "2022-10-06T12:08:26.998623Z"
    },
    "id": "863d7b4a",
    "outputId": "6d4bdd42-04f1-4098-b948-e264c09b5220",
    "papermill": {
     "duration": 0.061571,
     "end_time": "2022-10-06T12:08:27.001507",
     "exception": false,
     "start_time": "2022-10-06T12:08:26.939936",
     "status": "completed"
    },
    "tags": []
   },
   "outputs": [
    {
     "data": {
      "text/plain": [
       "Y\n",
       "1    512948\n",
       "0    264767\n",
       "dtype: int64"
      ]
     },
     "execution_count": 35,
     "metadata": {},
     "output_type": "execute_result"
    }
   ],
   "source": [
    "Property.value_counts()"
   ]
  },
  {
   "cell_type": "code",
   "execution_count": 36,
   "id": "9de924e4",
   "metadata": {
    "execution": {
     "iopub.execute_input": "2022-10-06T12:08:27.072583Z",
     "iopub.status.busy": "2022-10-06T12:08:27.072162Z",
     "iopub.status.idle": "2022-10-06T12:08:27.119373Z",
     "shell.execute_reply": "2022-10-06T12:08:27.117805Z"
    },
    "id": "1d7390dc",
    "outputId": "5e521ead-f6bb-4bfb-ea33-4bbd89915a13",
    "papermill": {
     "duration": 0.087549,
     "end_time": "2022-10-06T12:08:27.122414",
     "exception": false,
     "start_time": "2022-10-06T12:08:27.034865",
     "status": "completed"
    },
    "tags": []
   },
   "outputs": [
    {
     "data": {
      "text/plain": [
       "Working                 400164\n",
       "Commercial associate    183385\n",
       "Pensioner               128392\n",
       "State servant            65437\n",
       "Student                    337\n",
       "Name: NAME_INCOME_TYPE, dtype: int64"
      ]
     },
     "execution_count": 36,
     "metadata": {},
     "output_type": "execute_result"
    }
   ],
   "source": [
    "data['NAME_INCOME_TYPE'].value_counts()"
   ]
  },
  {
   "cell_type": "code",
   "execution_count": 37,
   "id": "ac860bc5",
   "metadata": {
    "execution": {
     "iopub.execute_input": "2022-10-06T12:08:27.191998Z",
     "iopub.status.busy": "2022-10-06T12:08:27.191424Z",
     "iopub.status.idle": "2022-10-06T12:08:27.349792Z",
     "shell.execute_reply": "2022-10-06T12:08:27.348554Z"
    },
    "id": "92ed95b3",
    "outputId": "429e3133-3f6d-4f67-b0c6-9647024e7e21",
    "papermill": {
     "duration": 0.197138,
     "end_time": "2022-10-06T12:08:27.352252",
     "exception": false,
     "start_time": "2022-10-06T12:08:27.155114",
     "status": "completed"
    },
    "tags": []
   },
   "outputs": [
    {
     "data": {
      "text/html": [
       "<div>\n",
       "<style scoped>\n",
       "    .dataframe tbody tr th:only-of-type {\n",
       "        vertical-align: middle;\n",
       "    }\n",
       "\n",
       "    .dataframe tbody tr th {\n",
       "        vertical-align: top;\n",
       "    }\n",
       "\n",
       "    .dataframe thead th {\n",
       "        text-align: right;\n",
       "    }\n",
       "</style>\n",
       "<table border=\"1\" class=\"dataframe\">\n",
       "  <thead>\n",
       "    <tr style=\"text-align: right;\">\n",
       "      <th></th>\n",
       "      <th>ID</th>\n",
       "      <th>CODE_GENDER</th>\n",
       "      <th>FLAG_OWN_CAR</th>\n",
       "      <th>FLAG_OWN_REALTY</th>\n",
       "      <th>CNT_CHILDREN</th>\n",
       "      <th>AMT_INCOME_TOTAL</th>\n",
       "      <th>NAME_INCOME_TYPE</th>\n",
       "      <th>NAME_EDUCATION_TYPE</th>\n",
       "      <th>NAME_FAMILY_STATUS</th>\n",
       "      <th>NAME_HOUSING_TYPE</th>\n",
       "      <th>DAYS_BIRTH</th>\n",
       "      <th>DAYS_EMPLOYED</th>\n",
       "      <th>FLAG_WORK_PHONE</th>\n",
       "      <th>FLAG_PHONE</th>\n",
       "      <th>FLAG_EMAIL</th>\n",
       "      <th>OCCUPATION_TYPE</th>\n",
       "      <th>CNT_FAM_MEMBERS</th>\n",
       "      <th>MONTHS_BALANCE</th>\n",
       "      <th>STATUS</th>\n",
       "      <th>M</th>\n",
       "      <th>Y</th>\n",
       "      <th>Y</th>\n",
       "    </tr>\n",
       "  </thead>\n",
       "  <tbody>\n",
       "    <tr>\n",
       "      <th>0</th>\n",
       "      <td>5008804</td>\n",
       "      <td>M</td>\n",
       "      <td>Y</td>\n",
       "      <td>Y</td>\n",
       "      <td>0</td>\n",
       "      <td>427500.0</td>\n",
       "      <td>Working</td>\n",
       "      <td>Higher education</td>\n",
       "      <td>Civil marriage</td>\n",
       "      <td>Rented apartment</td>\n",
       "      <td>-12005</td>\n",
       "      <td>-4542</td>\n",
       "      <td>1</td>\n",
       "      <td>0</td>\n",
       "      <td>0</td>\n",
       "      <td>Other</td>\n",
       "      <td>2.0</td>\n",
       "      <td>0</td>\n",
       "      <td>C</td>\n",
       "      <td>1</td>\n",
       "      <td>1</td>\n",
       "      <td>1</td>\n",
       "    </tr>\n",
       "    <tr>\n",
       "      <th>1</th>\n",
       "      <td>5008804</td>\n",
       "      <td>M</td>\n",
       "      <td>Y</td>\n",
       "      <td>Y</td>\n",
       "      <td>0</td>\n",
       "      <td>427500.0</td>\n",
       "      <td>Working</td>\n",
       "      <td>Higher education</td>\n",
       "      <td>Civil marriage</td>\n",
       "      <td>Rented apartment</td>\n",
       "      <td>-12005</td>\n",
       "      <td>-4542</td>\n",
       "      <td>1</td>\n",
       "      <td>0</td>\n",
       "      <td>0</td>\n",
       "      <td>Other</td>\n",
       "      <td>2.0</td>\n",
       "      <td>-1</td>\n",
       "      <td>C</td>\n",
       "      <td>1</td>\n",
       "      <td>1</td>\n",
       "      <td>1</td>\n",
       "    </tr>\n",
       "    <tr>\n",
       "      <th>2</th>\n",
       "      <td>5008804</td>\n",
       "      <td>M</td>\n",
       "      <td>Y</td>\n",
       "      <td>Y</td>\n",
       "      <td>0</td>\n",
       "      <td>427500.0</td>\n",
       "      <td>Working</td>\n",
       "      <td>Higher education</td>\n",
       "      <td>Civil marriage</td>\n",
       "      <td>Rented apartment</td>\n",
       "      <td>-12005</td>\n",
       "      <td>-4542</td>\n",
       "      <td>1</td>\n",
       "      <td>0</td>\n",
       "      <td>0</td>\n",
       "      <td>Other</td>\n",
       "      <td>2.0</td>\n",
       "      <td>-2</td>\n",
       "      <td>C</td>\n",
       "      <td>1</td>\n",
       "      <td>1</td>\n",
       "      <td>1</td>\n",
       "    </tr>\n",
       "    <tr>\n",
       "      <th>3</th>\n",
       "      <td>5008804</td>\n",
       "      <td>M</td>\n",
       "      <td>Y</td>\n",
       "      <td>Y</td>\n",
       "      <td>0</td>\n",
       "      <td>427500.0</td>\n",
       "      <td>Working</td>\n",
       "      <td>Higher education</td>\n",
       "      <td>Civil marriage</td>\n",
       "      <td>Rented apartment</td>\n",
       "      <td>-12005</td>\n",
       "      <td>-4542</td>\n",
       "      <td>1</td>\n",
       "      <td>0</td>\n",
       "      <td>0</td>\n",
       "      <td>Other</td>\n",
       "      <td>2.0</td>\n",
       "      <td>-3</td>\n",
       "      <td>C</td>\n",
       "      <td>1</td>\n",
       "      <td>1</td>\n",
       "      <td>1</td>\n",
       "    </tr>\n",
       "    <tr>\n",
       "      <th>4</th>\n",
       "      <td>5008804</td>\n",
       "      <td>M</td>\n",
       "      <td>Y</td>\n",
       "      <td>Y</td>\n",
       "      <td>0</td>\n",
       "      <td>427500.0</td>\n",
       "      <td>Working</td>\n",
       "      <td>Higher education</td>\n",
       "      <td>Civil marriage</td>\n",
       "      <td>Rented apartment</td>\n",
       "      <td>-12005</td>\n",
       "      <td>-4542</td>\n",
       "      <td>1</td>\n",
       "      <td>0</td>\n",
       "      <td>0</td>\n",
       "      <td>Other</td>\n",
       "      <td>2.0</td>\n",
       "      <td>-4</td>\n",
       "      <td>C</td>\n",
       "      <td>1</td>\n",
       "      <td>1</td>\n",
       "      <td>1</td>\n",
       "    </tr>\n",
       "    <tr>\n",
       "      <th>...</th>\n",
       "      <td>...</td>\n",
       "      <td>...</td>\n",
       "      <td>...</td>\n",
       "      <td>...</td>\n",
       "      <td>...</td>\n",
       "      <td>...</td>\n",
       "      <td>...</td>\n",
       "      <td>...</td>\n",
       "      <td>...</td>\n",
       "      <td>...</td>\n",
       "      <td>...</td>\n",
       "      <td>...</td>\n",
       "      <td>...</td>\n",
       "      <td>...</td>\n",
       "      <td>...</td>\n",
       "      <td>...</td>\n",
       "      <td>...</td>\n",
       "      <td>...</td>\n",
       "      <td>...</td>\n",
       "      <td>...</td>\n",
       "      <td>...</td>\n",
       "      <td>...</td>\n",
       "    </tr>\n",
       "    <tr>\n",
       "      <th>777710</th>\n",
       "      <td>5150337</td>\n",
       "      <td>M</td>\n",
       "      <td>N</td>\n",
       "      <td>Y</td>\n",
       "      <td>0</td>\n",
       "      <td>112500.0</td>\n",
       "      <td>Working</td>\n",
       "      <td>Secondary / secondary special</td>\n",
       "      <td>Single / not married</td>\n",
       "      <td>Rented apartment</td>\n",
       "      <td>-9188</td>\n",
       "      <td>-1193</td>\n",
       "      <td>0</td>\n",
       "      <td>0</td>\n",
       "      <td>0</td>\n",
       "      <td>Laborers</td>\n",
       "      <td>1.0</td>\n",
       "      <td>-9</td>\n",
       "      <td>0</td>\n",
       "      <td>1</td>\n",
       "      <td>0</td>\n",
       "      <td>1</td>\n",
       "    </tr>\n",
       "    <tr>\n",
       "      <th>777711</th>\n",
       "      <td>5150337</td>\n",
       "      <td>M</td>\n",
       "      <td>N</td>\n",
       "      <td>Y</td>\n",
       "      <td>0</td>\n",
       "      <td>112500.0</td>\n",
       "      <td>Working</td>\n",
       "      <td>Secondary / secondary special</td>\n",
       "      <td>Single / not married</td>\n",
       "      <td>Rented apartment</td>\n",
       "      <td>-9188</td>\n",
       "      <td>-1193</td>\n",
       "      <td>0</td>\n",
       "      <td>0</td>\n",
       "      <td>0</td>\n",
       "      <td>Laborers</td>\n",
       "      <td>1.0</td>\n",
       "      <td>-10</td>\n",
       "      <td>2</td>\n",
       "      <td>1</td>\n",
       "      <td>0</td>\n",
       "      <td>1</td>\n",
       "    </tr>\n",
       "    <tr>\n",
       "      <th>777712</th>\n",
       "      <td>5150337</td>\n",
       "      <td>M</td>\n",
       "      <td>N</td>\n",
       "      <td>Y</td>\n",
       "      <td>0</td>\n",
       "      <td>112500.0</td>\n",
       "      <td>Working</td>\n",
       "      <td>Secondary / secondary special</td>\n",
       "      <td>Single / not married</td>\n",
       "      <td>Rented apartment</td>\n",
       "      <td>-9188</td>\n",
       "      <td>-1193</td>\n",
       "      <td>0</td>\n",
       "      <td>0</td>\n",
       "      <td>0</td>\n",
       "      <td>Laborers</td>\n",
       "      <td>1.0</td>\n",
       "      <td>-11</td>\n",
       "      <td>1</td>\n",
       "      <td>1</td>\n",
       "      <td>0</td>\n",
       "      <td>1</td>\n",
       "    </tr>\n",
       "    <tr>\n",
       "      <th>777713</th>\n",
       "      <td>5150337</td>\n",
       "      <td>M</td>\n",
       "      <td>N</td>\n",
       "      <td>Y</td>\n",
       "      <td>0</td>\n",
       "      <td>112500.0</td>\n",
       "      <td>Working</td>\n",
       "      <td>Secondary / secondary special</td>\n",
       "      <td>Single / not married</td>\n",
       "      <td>Rented apartment</td>\n",
       "      <td>-9188</td>\n",
       "      <td>-1193</td>\n",
       "      <td>0</td>\n",
       "      <td>0</td>\n",
       "      <td>0</td>\n",
       "      <td>Laborers</td>\n",
       "      <td>1.0</td>\n",
       "      <td>-12</td>\n",
       "      <td>0</td>\n",
       "      <td>1</td>\n",
       "      <td>0</td>\n",
       "      <td>1</td>\n",
       "    </tr>\n",
       "    <tr>\n",
       "      <th>777714</th>\n",
       "      <td>5150337</td>\n",
       "      <td>M</td>\n",
       "      <td>N</td>\n",
       "      <td>Y</td>\n",
       "      <td>0</td>\n",
       "      <td>112500.0</td>\n",
       "      <td>Working</td>\n",
       "      <td>Secondary / secondary special</td>\n",
       "      <td>Single / not married</td>\n",
       "      <td>Rented apartment</td>\n",
       "      <td>-9188</td>\n",
       "      <td>-1193</td>\n",
       "      <td>0</td>\n",
       "      <td>0</td>\n",
       "      <td>0</td>\n",
       "      <td>Laborers</td>\n",
       "      <td>1.0</td>\n",
       "      <td>-13</td>\n",
       "      <td>0</td>\n",
       "      <td>1</td>\n",
       "      <td>0</td>\n",
       "      <td>1</td>\n",
       "    </tr>\n",
       "  </tbody>\n",
       "</table>\n",
       "<p>777715 rows × 22 columns</p>\n",
       "</div>"
      ],
      "text/plain": [
       "             ID CODE_GENDER FLAG_OWN_CAR FLAG_OWN_REALTY  CNT_CHILDREN  \\\n",
       "0       5008804           M            Y               Y             0   \n",
       "1       5008804           M            Y               Y             0   \n",
       "2       5008804           M            Y               Y             0   \n",
       "3       5008804           M            Y               Y             0   \n",
       "4       5008804           M            Y               Y             0   \n",
       "...         ...         ...          ...             ...           ...   \n",
       "777710  5150337           M            N               Y             0   \n",
       "777711  5150337           M            N               Y             0   \n",
       "777712  5150337           M            N               Y             0   \n",
       "777713  5150337           M            N               Y             0   \n",
       "777714  5150337           M            N               Y             0   \n",
       "\n",
       "        AMT_INCOME_TOTAL NAME_INCOME_TYPE            NAME_EDUCATION_TYPE  \\\n",
       "0               427500.0          Working               Higher education   \n",
       "1               427500.0          Working               Higher education   \n",
       "2               427500.0          Working               Higher education   \n",
       "3               427500.0          Working               Higher education   \n",
       "4               427500.0          Working               Higher education   \n",
       "...                  ...              ...                            ...   \n",
       "777710          112500.0          Working  Secondary / secondary special   \n",
       "777711          112500.0          Working  Secondary / secondary special   \n",
       "777712          112500.0          Working  Secondary / secondary special   \n",
       "777713          112500.0          Working  Secondary / secondary special   \n",
       "777714          112500.0          Working  Secondary / secondary special   \n",
       "\n",
       "          NAME_FAMILY_STATUS NAME_HOUSING_TYPE  DAYS_BIRTH  DAYS_EMPLOYED  \\\n",
       "0             Civil marriage  Rented apartment      -12005          -4542   \n",
       "1             Civil marriage  Rented apartment      -12005          -4542   \n",
       "2             Civil marriage  Rented apartment      -12005          -4542   \n",
       "3             Civil marriage  Rented apartment      -12005          -4542   \n",
       "4             Civil marriage  Rented apartment      -12005          -4542   \n",
       "...                      ...               ...         ...            ...   \n",
       "777710  Single / not married  Rented apartment       -9188          -1193   \n",
       "777711  Single / not married  Rented apartment       -9188          -1193   \n",
       "777712  Single / not married  Rented apartment       -9188          -1193   \n",
       "777713  Single / not married  Rented apartment       -9188          -1193   \n",
       "777714  Single / not married  Rented apartment       -9188          -1193   \n",
       "\n",
       "        FLAG_WORK_PHONE  FLAG_PHONE  FLAG_EMAIL OCCUPATION_TYPE  \\\n",
       "0                     1           0           0           Other   \n",
       "1                     1           0           0           Other   \n",
       "2                     1           0           0           Other   \n",
       "3                     1           0           0           Other   \n",
       "4                     1           0           0           Other   \n",
       "...                 ...         ...         ...             ...   \n",
       "777710                0           0           0        Laborers   \n",
       "777711                0           0           0        Laborers   \n",
       "777712                0           0           0        Laborers   \n",
       "777713                0           0           0        Laborers   \n",
       "777714                0           0           0        Laborers   \n",
       "\n",
       "        CNT_FAM_MEMBERS  MONTHS_BALANCE STATUS  M  Y  Y  \n",
       "0                   2.0               0      C  1  1  1  \n",
       "1                   2.0              -1      C  1  1  1  \n",
       "2                   2.0              -2      C  1  1  1  \n",
       "3                   2.0              -3      C  1  1  1  \n",
       "4                   2.0              -4      C  1  1  1  \n",
       "...                 ...             ...    ... .. .. ..  \n",
       "777710              1.0              -9      0  1  0  1  \n",
       "777711              1.0             -10      2  1  0  1  \n",
       "777712              1.0             -11      1  1  0  1  \n",
       "777713              1.0             -12      0  1  0  1  \n",
       "777714              1.0             -13      0  1  0  1  \n",
       "\n",
       "[777715 rows x 22 columns]"
      ]
     },
     "execution_count": 37,
     "metadata": {},
     "output_type": "execute_result"
    }
   ],
   "source": [
    "pd.concat([data,male,car,Property],axis=1)"
   ]
  },
  {
   "cell_type": "code",
   "execution_count": 38,
   "id": "f9ad6e63",
   "metadata": {
    "execution": {
     "iopub.execute_input": "2022-10-06T12:08:27.422841Z",
     "iopub.status.busy": "2022-10-06T12:08:27.422111Z",
     "iopub.status.idle": "2022-10-06T12:08:27.468848Z",
     "shell.execute_reply": "2022-10-06T12:08:27.467729Z"
    },
    "id": "2cb129aa",
    "outputId": "3b5396c2-13dc-4448-8423-fe80213629af",
    "papermill": {
     "duration": 0.084423,
     "end_time": "2022-10-06T12:08:27.471346",
     "exception": false,
     "start_time": "2022-10-06T12:08:27.386923",
     "status": "completed"
    },
    "tags": []
   },
   "outputs": [
    {
     "data": {
      "text/plain": [
       "Secondary / secondary special    524261\n",
       "Higher education                 213633\n",
       "Incomplete higher                 30329\n",
       "Lower secondary                    8655\n",
       "Academic degree                     837\n",
       "Name: NAME_EDUCATION_TYPE, dtype: int64"
      ]
     },
     "execution_count": 38,
     "metadata": {},
     "output_type": "execute_result"
    }
   ],
   "source": [
    "data['NAME_EDUCATION_TYPE'].value_counts()"
   ]
  },
  {
   "cell_type": "code",
   "execution_count": 39,
   "id": "cc770539",
   "metadata": {
    "execution": {
     "iopub.execute_input": "2022-10-06T12:08:27.542682Z",
     "iopub.status.busy": "2022-10-06T12:08:27.542189Z",
     "iopub.status.idle": "2022-10-06T12:08:27.548168Z",
     "shell.execute_reply": "2022-10-06T12:08:27.546938Z"
    },
    "id": "9e59f23d",
    "papermill": {
     "duration": 0.044173,
     "end_time": "2022-10-06T12:08:27.550607",
     "exception": false,
     "start_time": "2022-10-06T12:08:27.506434",
     "status": "completed"
    },
    "tags": []
   },
   "outputs": [],
   "source": [
    "def education(x):\n",
    "    if x=='Secondary / secondary special':\n",
    "        x=x.split(' / ')[0]\n",
    "    return x"
   ]
  },
  {
   "cell_type": "code",
   "execution_count": 40,
   "id": "14c36397",
   "metadata": {
    "execution": {
     "iopub.execute_input": "2022-10-06T12:08:27.621081Z",
     "iopub.status.busy": "2022-10-06T12:08:27.620383Z",
     "iopub.status.idle": "2022-10-06T12:08:27.936946Z",
     "shell.execute_reply": "2022-10-06T12:08:27.935960Z"
    },
    "id": "9e9f8ab2",
    "papermill": {
     "duration": 0.35545,
     "end_time": "2022-10-06T12:08:27.939773",
     "exception": false,
     "start_time": "2022-10-06T12:08:27.584323",
     "status": "completed"
    },
    "tags": []
   },
   "outputs": [],
   "source": [
    "data['NAME_EDUCATION_TYPE']=data['NAME_EDUCATION_TYPE'].apply(education)"
   ]
  },
  {
   "cell_type": "code",
   "execution_count": 41,
   "id": "22c72fc0",
   "metadata": {
    "execution": {
     "iopub.execute_input": "2022-10-06T12:08:28.008721Z",
     "iopub.status.busy": "2022-10-06T12:08:28.008278Z",
     "iopub.status.idle": "2022-10-06T12:08:28.079120Z",
     "shell.execute_reply": "2022-10-06T12:08:28.077900Z"
    },
    "id": "7db085bc",
    "outputId": "ae8d33d3-3584-4459-f28d-b46a3e60ba04",
    "papermill": {
     "duration": 0.108727,
     "end_time": "2022-10-06T12:08:28.081853",
     "exception": false,
     "start_time": "2022-10-06T12:08:27.973126",
     "status": "completed"
    },
    "tags": []
   },
   "outputs": [
    {
     "data": {
      "text/plain": [
       "Secondary            524261\n",
       "Higher education     213633\n",
       "Incomplete higher     30329\n",
       "Lower secondary        8655\n",
       "Academic degree         837\n",
       "Name: NAME_EDUCATION_TYPE, dtype: int64"
      ]
     },
     "execution_count": 41,
     "metadata": {},
     "output_type": "execute_result"
    }
   ],
   "source": [
    "data['NAME_EDUCATION_TYPE'].value_counts()"
   ]
  },
  {
   "cell_type": "code",
   "execution_count": 42,
   "id": "b05320eb",
   "metadata": {
    "execution": {
     "iopub.execute_input": "2022-10-06T12:08:28.152370Z",
     "iopub.status.busy": "2022-10-06T12:08:28.151565Z",
     "iopub.status.idle": "2022-10-06T12:08:28.199995Z",
     "shell.execute_reply": "2022-10-06T12:08:28.198750Z"
    },
    "id": "a3a40b59",
    "outputId": "4cf8ef2d-2fd1-476f-bf96-851cd2a19435",
    "papermill": {
     "duration": 0.086658,
     "end_time": "2022-10-06T12:08:28.202447",
     "exception": false,
     "start_time": "2022-10-06T12:08:28.115789",
     "status": "completed"
    },
    "tags": []
   },
   "outputs": [
    {
     "data": {
      "text/plain": [
       "Married                 546619\n",
       "Single / not married     94335\n",
       "Civil marriage           60342\n",
       "Separated                45255\n",
       "Widow                    31164\n",
       "Name: NAME_FAMILY_STATUS, dtype: int64"
      ]
     },
     "execution_count": 42,
     "metadata": {},
     "output_type": "execute_result"
    }
   ],
   "source": [
    "data['NAME_FAMILY_STATUS'].value_counts()"
   ]
  },
  {
   "cell_type": "code",
   "execution_count": 43,
   "id": "83afb5c1",
   "metadata": {
    "execution": {
     "iopub.execute_input": "2022-10-06T12:08:28.274076Z",
     "iopub.status.busy": "2022-10-06T12:08:28.273312Z",
     "iopub.status.idle": "2022-10-06T12:08:28.280011Z",
     "shell.execute_reply": "2022-10-06T12:08:28.278300Z"
    },
    "id": "44a1d055",
    "papermill": {
     "duration": 0.046667,
     "end_time": "2022-10-06T12:08:28.282631",
     "exception": false,
     "start_time": "2022-10-06T12:08:28.235964",
     "status": "completed"
    },
    "tags": []
   },
   "outputs": [],
   "source": [
    "def fun(x):\n",
    "    if x=='Single / not married':\n",
    "        x=x.split(' / ')[0]\n",
    "    return x\n",
    "    "
   ]
  },
  {
   "cell_type": "code",
   "execution_count": 44,
   "id": "2ab2c182",
   "metadata": {
    "execution": {
     "iopub.execute_input": "2022-10-06T12:08:28.352377Z",
     "iopub.status.busy": "2022-10-06T12:08:28.351572Z",
     "iopub.status.idle": "2022-10-06T12:08:28.534129Z",
     "shell.execute_reply": "2022-10-06T12:08:28.532595Z"
    },
    "id": "3eab9c62",
    "papermill": {
     "duration": 0.220878,
     "end_time": "2022-10-06T12:08:28.537586",
     "exception": false,
     "start_time": "2022-10-06T12:08:28.316708",
     "status": "completed"
    },
    "tags": []
   },
   "outputs": [],
   "source": [
    "data['NAME_FAMILY_STATUS']=data['NAME_FAMILY_STATUS'].apply(fun)"
   ]
  },
  {
   "cell_type": "code",
   "execution_count": 45,
   "id": "6ea95fd4",
   "metadata": {
    "execution": {
     "iopub.execute_input": "2022-10-06T12:08:28.607949Z",
     "iopub.status.busy": "2022-10-06T12:08:28.607510Z",
     "iopub.status.idle": "2022-10-06T12:08:28.660728Z",
     "shell.execute_reply": "2022-10-06T12:08:28.659446Z"
    },
    "id": "74465c34",
    "outputId": "2caab173-f157-4e53-8bdf-f54db5230646",
    "papermill": {
     "duration": 0.091855,
     "end_time": "2022-10-06T12:08:28.663246",
     "exception": false,
     "start_time": "2022-10-06T12:08:28.571391",
     "status": "completed"
    },
    "tags": []
   },
   "outputs": [
    {
     "data": {
      "text/plain": [
       "Married           546619\n",
       "Single             94335\n",
       "Civil marriage     60342\n",
       "Separated          45255\n",
       "Widow              31164\n",
       "Name: NAME_FAMILY_STATUS, dtype: int64"
      ]
     },
     "execution_count": 45,
     "metadata": {},
     "output_type": "execute_result"
    }
   ],
   "source": [
    "data['NAME_FAMILY_STATUS'].value_counts()"
   ]
  },
  {
   "cell_type": "markdown",
   "id": "b4ac60f5",
   "metadata": {
    "id": "6a6a6520",
    "papermill": {
     "duration": 0.033857,
     "end_time": "2022-10-06T12:08:28.732167",
     "exception": false,
     "start_time": "2022-10-06T12:08:28.698310",
     "status": "completed"
    },
    "tags": []
   },
   "source": [
    "###### let's make some def to handle the date values"
   ]
  },
  {
   "cell_type": "code",
   "execution_count": 46,
   "id": "6b8b8209",
   "metadata": {
    "execution": {
     "iopub.execute_input": "2022-10-06T12:08:28.804918Z",
     "iopub.status.busy": "2022-10-06T12:08:28.804512Z",
     "iopub.status.idle": "2022-10-06T12:08:28.810869Z",
     "shell.execute_reply": "2022-10-06T12:08:28.809697Z"
    },
    "id": "88ab6c43",
    "papermill": {
     "duration": 0.044952,
     "end_time": "2022-10-06T12:08:28.813093",
     "exception": false,
     "start_time": "2022-10-06T12:08:28.768141",
     "status": "completed"
    },
    "tags": []
   },
   "outputs": [],
   "source": [
    "## This function takes no of days and convert it into their datetime format\n",
    "def Date_of_Birth(total_days):\n",
    "    today = datetime.date.today()\n",
    "    birthday = (today + timedelta(days=total_days)).strftime('%Y-%m-%d')\n",
    "    return birthday                  \n",
    "\n",
    "## This Function takes value of colunn Days of Employed and convert it into datetime format\n",
    "def Employed_day(total_days):\n",
    "    today = datetime.date.today()\n",
    "    employed_date = (today + datetime.timedelta(days=total_days)).strftime('%Y-%m-%d')"
   ]
  },
  {
   "cell_type": "code",
   "execution_count": 47,
   "id": "20360804",
   "metadata": {
    "execution": {
     "iopub.execute_input": "2022-10-06T12:08:28.883753Z",
     "iopub.status.busy": "2022-10-06T12:08:28.882833Z",
     "iopub.status.idle": "2022-10-06T12:08:32.433259Z",
     "shell.execute_reply": "2022-10-06T12:08:32.431938Z"
    },
    "id": "bd8ea120",
    "papermill": {
     "duration": 3.588451,
     "end_time": "2022-10-06T12:08:32.436111",
     "exception": false,
     "start_time": "2022-10-06T12:08:28.847660",
     "status": "completed"
    },
    "tags": []
   },
   "outputs": [],
   "source": [
    "data['DAYS_BIRTH']=data['DAYS_BIRTH'].apply(Date_of_Birth)"
   ]
  },
  {
   "cell_type": "code",
   "execution_count": 48,
   "id": "07c9abfd",
   "metadata": {
    "execution": {
     "iopub.execute_input": "2022-10-06T12:08:32.506663Z",
     "iopub.status.busy": "2022-10-06T12:08:32.506259Z",
     "iopub.status.idle": "2022-10-06T12:08:36.033061Z",
     "shell.execute_reply": "2022-10-06T12:08:36.031743Z"
    },
    "id": "fd7efd2e",
    "papermill": {
     "duration": 3.565547,
     "end_time": "2022-10-06T12:08:36.036485",
     "exception": false,
     "start_time": "2022-10-06T12:08:32.470938",
     "status": "completed"
    },
    "tags": []
   },
   "outputs": [],
   "source": [
    "data['DAYS_EMPLOYED']=data['DAYS_EMPLOYED'].apply(Date_of_Birth)"
   ]
  },
  {
   "cell_type": "code",
   "execution_count": 49,
   "id": "1dafa680",
   "metadata": {
    "execution": {
     "iopub.execute_input": "2022-10-06T12:08:36.107985Z",
     "iopub.status.busy": "2022-10-06T12:08:36.107574Z",
     "iopub.status.idle": "2022-10-06T12:08:36.130600Z",
     "shell.execute_reply": "2022-10-06T12:08:36.129263Z"
    },
    "id": "45bb7eb7",
    "outputId": "807564b6-5859-48e0-9db6-53741f811f30",
    "papermill": {
     "duration": 0.061729,
     "end_time": "2022-10-06T12:08:36.133008",
     "exception": false,
     "start_time": "2022-10-06T12:08:36.071279",
     "status": "completed"
    },
    "tags": []
   },
   "outputs": [
    {
     "data": {
      "text/html": [
       "<div>\n",
       "<style scoped>\n",
       "    .dataframe tbody tr th:only-of-type {\n",
       "        vertical-align: middle;\n",
       "    }\n",
       "\n",
       "    .dataframe tbody tr th {\n",
       "        vertical-align: top;\n",
       "    }\n",
       "\n",
       "    .dataframe thead th {\n",
       "        text-align: right;\n",
       "    }\n",
       "</style>\n",
       "<table border=\"1\" class=\"dataframe\">\n",
       "  <thead>\n",
       "    <tr style=\"text-align: right;\">\n",
       "      <th></th>\n",
       "      <th>ID</th>\n",
       "      <th>CODE_GENDER</th>\n",
       "      <th>FLAG_OWN_CAR</th>\n",
       "      <th>FLAG_OWN_REALTY</th>\n",
       "      <th>CNT_CHILDREN</th>\n",
       "      <th>AMT_INCOME_TOTAL</th>\n",
       "      <th>NAME_INCOME_TYPE</th>\n",
       "      <th>NAME_EDUCATION_TYPE</th>\n",
       "      <th>NAME_FAMILY_STATUS</th>\n",
       "      <th>NAME_HOUSING_TYPE</th>\n",
       "      <th>DAYS_BIRTH</th>\n",
       "      <th>DAYS_EMPLOYED</th>\n",
       "      <th>FLAG_WORK_PHONE</th>\n",
       "      <th>FLAG_PHONE</th>\n",
       "      <th>FLAG_EMAIL</th>\n",
       "      <th>OCCUPATION_TYPE</th>\n",
       "      <th>CNT_FAM_MEMBERS</th>\n",
       "      <th>MONTHS_BALANCE</th>\n",
       "      <th>STATUS</th>\n",
       "    </tr>\n",
       "  </thead>\n",
       "  <tbody>\n",
       "    <tr>\n",
       "      <th>0</th>\n",
       "      <td>5008804</td>\n",
       "      <td>M</td>\n",
       "      <td>Y</td>\n",
       "      <td>Y</td>\n",
       "      <td>0</td>\n",
       "      <td>427500.0</td>\n",
       "      <td>Working</td>\n",
       "      <td>Higher education</td>\n",
       "      <td>Civil marriage</td>\n",
       "      <td>Rented apartment</td>\n",
       "      <td>1989-11-23</td>\n",
       "      <td>2010-04-30</td>\n",
       "      <td>1</td>\n",
       "      <td>0</td>\n",
       "      <td>0</td>\n",
       "      <td>Other</td>\n",
       "      <td>2.0</td>\n",
       "      <td>0</td>\n",
       "      <td>C</td>\n",
       "    </tr>\n",
       "    <tr>\n",
       "      <th>1</th>\n",
       "      <td>5008804</td>\n",
       "      <td>M</td>\n",
       "      <td>Y</td>\n",
       "      <td>Y</td>\n",
       "      <td>0</td>\n",
       "      <td>427500.0</td>\n",
       "      <td>Working</td>\n",
       "      <td>Higher education</td>\n",
       "      <td>Civil marriage</td>\n",
       "      <td>Rented apartment</td>\n",
       "      <td>1989-11-23</td>\n",
       "      <td>2010-04-30</td>\n",
       "      <td>1</td>\n",
       "      <td>0</td>\n",
       "      <td>0</td>\n",
       "      <td>Other</td>\n",
       "      <td>2.0</td>\n",
       "      <td>-1</td>\n",
       "      <td>C</td>\n",
       "    </tr>\n",
       "    <tr>\n",
       "      <th>2</th>\n",
       "      <td>5008804</td>\n",
       "      <td>M</td>\n",
       "      <td>Y</td>\n",
       "      <td>Y</td>\n",
       "      <td>0</td>\n",
       "      <td>427500.0</td>\n",
       "      <td>Working</td>\n",
       "      <td>Higher education</td>\n",
       "      <td>Civil marriage</td>\n",
       "      <td>Rented apartment</td>\n",
       "      <td>1989-11-23</td>\n",
       "      <td>2010-04-30</td>\n",
       "      <td>1</td>\n",
       "      <td>0</td>\n",
       "      <td>0</td>\n",
       "      <td>Other</td>\n",
       "      <td>2.0</td>\n",
       "      <td>-2</td>\n",
       "      <td>C</td>\n",
       "    </tr>\n",
       "    <tr>\n",
       "      <th>3</th>\n",
       "      <td>5008804</td>\n",
       "      <td>M</td>\n",
       "      <td>Y</td>\n",
       "      <td>Y</td>\n",
       "      <td>0</td>\n",
       "      <td>427500.0</td>\n",
       "      <td>Working</td>\n",
       "      <td>Higher education</td>\n",
       "      <td>Civil marriage</td>\n",
       "      <td>Rented apartment</td>\n",
       "      <td>1989-11-23</td>\n",
       "      <td>2010-04-30</td>\n",
       "      <td>1</td>\n",
       "      <td>0</td>\n",
       "      <td>0</td>\n",
       "      <td>Other</td>\n",
       "      <td>2.0</td>\n",
       "      <td>-3</td>\n",
       "      <td>C</td>\n",
       "    </tr>\n",
       "    <tr>\n",
       "      <th>4</th>\n",
       "      <td>5008804</td>\n",
       "      <td>M</td>\n",
       "      <td>Y</td>\n",
       "      <td>Y</td>\n",
       "      <td>0</td>\n",
       "      <td>427500.0</td>\n",
       "      <td>Working</td>\n",
       "      <td>Higher education</td>\n",
       "      <td>Civil marriage</td>\n",
       "      <td>Rented apartment</td>\n",
       "      <td>1989-11-23</td>\n",
       "      <td>2010-04-30</td>\n",
       "      <td>1</td>\n",
       "      <td>0</td>\n",
       "      <td>0</td>\n",
       "      <td>Other</td>\n",
       "      <td>2.0</td>\n",
       "      <td>-4</td>\n",
       "      <td>C</td>\n",
       "    </tr>\n",
       "  </tbody>\n",
       "</table>\n",
       "</div>"
      ],
      "text/plain": [
       "        ID CODE_GENDER FLAG_OWN_CAR FLAG_OWN_REALTY  CNT_CHILDREN  \\\n",
       "0  5008804           M            Y               Y             0   \n",
       "1  5008804           M            Y               Y             0   \n",
       "2  5008804           M            Y               Y             0   \n",
       "3  5008804           M            Y               Y             0   \n",
       "4  5008804           M            Y               Y             0   \n",
       "\n",
       "   AMT_INCOME_TOTAL NAME_INCOME_TYPE NAME_EDUCATION_TYPE NAME_FAMILY_STATUS  \\\n",
       "0          427500.0          Working    Higher education     Civil marriage   \n",
       "1          427500.0          Working    Higher education     Civil marriage   \n",
       "2          427500.0          Working    Higher education     Civil marriage   \n",
       "3          427500.0          Working    Higher education     Civil marriage   \n",
       "4          427500.0          Working    Higher education     Civil marriage   \n",
       "\n",
       "  NAME_HOUSING_TYPE  DAYS_BIRTH DAYS_EMPLOYED  FLAG_WORK_PHONE  FLAG_PHONE  \\\n",
       "0  Rented apartment  1989-11-23    2010-04-30                1           0   \n",
       "1  Rented apartment  1989-11-23    2010-04-30                1           0   \n",
       "2  Rented apartment  1989-11-23    2010-04-30                1           0   \n",
       "3  Rented apartment  1989-11-23    2010-04-30                1           0   \n",
       "4  Rented apartment  1989-11-23    2010-04-30                1           0   \n",
       "\n",
       "   FLAG_EMAIL OCCUPATION_TYPE  CNT_FAM_MEMBERS  MONTHS_BALANCE STATUS  \n",
       "0           0           Other              2.0               0      C  \n",
       "1           0           Other              2.0              -1      C  \n",
       "2           0           Other              2.0              -2      C  \n",
       "3           0           Other              2.0              -3      C  \n",
       "4           0           Other              2.0              -4      C  "
      ]
     },
     "execution_count": 49,
     "metadata": {},
     "output_type": "execute_result"
    }
   ],
   "source": [
    "data.head()"
   ]
  },
  {
   "cell_type": "code",
   "execution_count": 50,
   "id": "5f44d142",
   "metadata": {
    "execution": {
     "iopub.execute_input": "2022-10-06T12:08:36.207639Z",
     "iopub.status.busy": "2022-10-06T12:08:36.206932Z",
     "iopub.status.idle": "2022-10-06T12:08:36.212140Z",
     "shell.execute_reply": "2022-10-06T12:08:36.210817Z"
    },
    "id": "ab2ef7ec",
    "papermill": {
     "duration": 0.046243,
     "end_time": "2022-10-06T12:08:36.214745",
     "exception": false,
     "start_time": "2022-10-06T12:08:36.168502",
     "status": "completed"
    },
    "tags": []
   },
   "outputs": [],
   "source": [
    "#lets drop gender ,flag_own_car,flag_own_realty columns as we have create another columns for them"
   ]
  },
  {
   "cell_type": "code",
   "execution_count": 51,
   "id": "32f22835",
   "metadata": {
    "execution": {
     "iopub.execute_input": "2022-10-06T12:08:36.290153Z",
     "iopub.status.busy": "2022-10-06T12:08:36.289005Z",
     "iopub.status.idle": "2022-10-06T12:08:36.738147Z",
     "shell.execute_reply": "2022-10-06T12:08:36.736940Z"
    },
    "id": "e6bd6982",
    "papermill": {
     "duration": 0.489968,
     "end_time": "2022-10-06T12:08:36.740988",
     "exception": false,
     "start_time": "2022-10-06T12:08:36.251020",
     "status": "completed"
    },
    "tags": []
   },
   "outputs": [],
   "source": [
    "data.drop(['CODE_GENDER','FLAG_OWN_CAR','FLAG_OWN_REALTY'],inplace=True,axis=1)"
   ]
  },
  {
   "cell_type": "code",
   "execution_count": 52,
   "id": "8931634f",
   "metadata": {
    "execution": {
     "iopub.execute_input": "2022-10-06T12:08:36.811235Z",
     "iopub.status.busy": "2022-10-06T12:08:36.810032Z",
     "iopub.status.idle": "2022-10-06T12:08:36.829660Z",
     "shell.execute_reply": "2022-10-06T12:08:36.828448Z"
    },
    "id": "d2c80d96",
    "outputId": "937461d1-79ee-464a-de85-e094ddea5e78",
    "papermill": {
     "duration": 0.057135,
     "end_time": "2022-10-06T12:08:36.832054",
     "exception": false,
     "start_time": "2022-10-06T12:08:36.774919",
     "status": "completed"
    },
    "tags": []
   },
   "outputs": [
    {
     "data": {
      "text/html": [
       "<div>\n",
       "<style scoped>\n",
       "    .dataframe tbody tr th:only-of-type {\n",
       "        vertical-align: middle;\n",
       "    }\n",
       "\n",
       "    .dataframe tbody tr th {\n",
       "        vertical-align: top;\n",
       "    }\n",
       "\n",
       "    .dataframe thead th {\n",
       "        text-align: right;\n",
       "    }\n",
       "</style>\n",
       "<table border=\"1\" class=\"dataframe\">\n",
       "  <thead>\n",
       "    <tr style=\"text-align: right;\">\n",
       "      <th></th>\n",
       "      <th>ID</th>\n",
       "      <th>CNT_CHILDREN</th>\n",
       "      <th>AMT_INCOME_TOTAL</th>\n",
       "      <th>NAME_INCOME_TYPE</th>\n",
       "      <th>NAME_EDUCATION_TYPE</th>\n",
       "      <th>NAME_FAMILY_STATUS</th>\n",
       "      <th>NAME_HOUSING_TYPE</th>\n",
       "      <th>DAYS_BIRTH</th>\n",
       "      <th>DAYS_EMPLOYED</th>\n",
       "      <th>FLAG_WORK_PHONE</th>\n",
       "      <th>FLAG_PHONE</th>\n",
       "      <th>FLAG_EMAIL</th>\n",
       "      <th>OCCUPATION_TYPE</th>\n",
       "      <th>CNT_FAM_MEMBERS</th>\n",
       "      <th>MONTHS_BALANCE</th>\n",
       "      <th>STATUS</th>\n",
       "    </tr>\n",
       "  </thead>\n",
       "  <tbody>\n",
       "    <tr>\n",
       "      <th>0</th>\n",
       "      <td>5008804</td>\n",
       "      <td>0</td>\n",
       "      <td>427500.0</td>\n",
       "      <td>Working</td>\n",
       "      <td>Higher education</td>\n",
       "      <td>Civil marriage</td>\n",
       "      <td>Rented apartment</td>\n",
       "      <td>1989-11-23</td>\n",
       "      <td>2010-04-30</td>\n",
       "      <td>1</td>\n",
       "      <td>0</td>\n",
       "      <td>0</td>\n",
       "      <td>Other</td>\n",
       "      <td>2.0</td>\n",
       "      <td>0</td>\n",
       "      <td>C</td>\n",
       "    </tr>\n",
       "    <tr>\n",
       "      <th>1</th>\n",
       "      <td>5008804</td>\n",
       "      <td>0</td>\n",
       "      <td>427500.0</td>\n",
       "      <td>Working</td>\n",
       "      <td>Higher education</td>\n",
       "      <td>Civil marriage</td>\n",
       "      <td>Rented apartment</td>\n",
       "      <td>1989-11-23</td>\n",
       "      <td>2010-04-30</td>\n",
       "      <td>1</td>\n",
       "      <td>0</td>\n",
       "      <td>0</td>\n",
       "      <td>Other</td>\n",
       "      <td>2.0</td>\n",
       "      <td>-1</td>\n",
       "      <td>C</td>\n",
       "    </tr>\n",
       "    <tr>\n",
       "      <th>2</th>\n",
       "      <td>5008804</td>\n",
       "      <td>0</td>\n",
       "      <td>427500.0</td>\n",
       "      <td>Working</td>\n",
       "      <td>Higher education</td>\n",
       "      <td>Civil marriage</td>\n",
       "      <td>Rented apartment</td>\n",
       "      <td>1989-11-23</td>\n",
       "      <td>2010-04-30</td>\n",
       "      <td>1</td>\n",
       "      <td>0</td>\n",
       "      <td>0</td>\n",
       "      <td>Other</td>\n",
       "      <td>2.0</td>\n",
       "      <td>-2</td>\n",
       "      <td>C</td>\n",
       "    </tr>\n",
       "    <tr>\n",
       "      <th>3</th>\n",
       "      <td>5008804</td>\n",
       "      <td>0</td>\n",
       "      <td>427500.0</td>\n",
       "      <td>Working</td>\n",
       "      <td>Higher education</td>\n",
       "      <td>Civil marriage</td>\n",
       "      <td>Rented apartment</td>\n",
       "      <td>1989-11-23</td>\n",
       "      <td>2010-04-30</td>\n",
       "      <td>1</td>\n",
       "      <td>0</td>\n",
       "      <td>0</td>\n",
       "      <td>Other</td>\n",
       "      <td>2.0</td>\n",
       "      <td>-3</td>\n",
       "      <td>C</td>\n",
       "    </tr>\n",
       "    <tr>\n",
       "      <th>4</th>\n",
       "      <td>5008804</td>\n",
       "      <td>0</td>\n",
       "      <td>427500.0</td>\n",
       "      <td>Working</td>\n",
       "      <td>Higher education</td>\n",
       "      <td>Civil marriage</td>\n",
       "      <td>Rented apartment</td>\n",
       "      <td>1989-11-23</td>\n",
       "      <td>2010-04-30</td>\n",
       "      <td>1</td>\n",
       "      <td>0</td>\n",
       "      <td>0</td>\n",
       "      <td>Other</td>\n",
       "      <td>2.0</td>\n",
       "      <td>-4</td>\n",
       "      <td>C</td>\n",
       "    </tr>\n",
       "  </tbody>\n",
       "</table>\n",
       "</div>"
      ],
      "text/plain": [
       "        ID  CNT_CHILDREN  AMT_INCOME_TOTAL NAME_INCOME_TYPE  \\\n",
       "0  5008804             0          427500.0          Working   \n",
       "1  5008804             0          427500.0          Working   \n",
       "2  5008804             0          427500.0          Working   \n",
       "3  5008804             0          427500.0          Working   \n",
       "4  5008804             0          427500.0          Working   \n",
       "\n",
       "  NAME_EDUCATION_TYPE NAME_FAMILY_STATUS NAME_HOUSING_TYPE  DAYS_BIRTH  \\\n",
       "0    Higher education     Civil marriage  Rented apartment  1989-11-23   \n",
       "1    Higher education     Civil marriage  Rented apartment  1989-11-23   \n",
       "2    Higher education     Civil marriage  Rented apartment  1989-11-23   \n",
       "3    Higher education     Civil marriage  Rented apartment  1989-11-23   \n",
       "4    Higher education     Civil marriage  Rented apartment  1989-11-23   \n",
       "\n",
       "  DAYS_EMPLOYED  FLAG_WORK_PHONE  FLAG_PHONE  FLAG_EMAIL OCCUPATION_TYPE  \\\n",
       "0    2010-04-30                1           0           0           Other   \n",
       "1    2010-04-30                1           0           0           Other   \n",
       "2    2010-04-30                1           0           0           Other   \n",
       "3    2010-04-30                1           0           0           Other   \n",
       "4    2010-04-30                1           0           0           Other   \n",
       "\n",
       "   CNT_FAM_MEMBERS  MONTHS_BALANCE STATUS  \n",
       "0              2.0               0      C  \n",
       "1              2.0              -1      C  \n",
       "2              2.0              -2      C  \n",
       "3              2.0              -3      C  \n",
       "4              2.0              -4      C  "
      ]
     },
     "execution_count": 52,
     "metadata": {},
     "output_type": "execute_result"
    }
   ],
   "source": [
    "data.head()"
   ]
  },
  {
   "cell_type": "code",
   "execution_count": 53,
   "id": "703dafcd",
   "metadata": {
    "execution": {
     "iopub.execute_input": "2022-10-06T12:08:36.905205Z",
     "iopub.status.busy": "2022-10-06T12:08:36.904221Z",
     "iopub.status.idle": "2022-10-06T12:08:36.910745Z",
     "shell.execute_reply": "2022-10-06T12:08:36.909392Z"
    },
    "id": "94dea9a5",
    "papermill": {
     "duration": 0.046904,
     "end_time": "2022-10-06T12:08:36.913091",
     "exception": false,
     "start_time": "2022-10-06T12:08:36.866187",
     "status": "completed"
    },
    "tags": []
   },
   "outputs": [],
   "source": [
    "#let's create a function to calculate age of the employee\n",
    "def AGE(date_of_birth):\n",
    "    today=datetime.date.today()\n",
    "    dateofbirth=datetime.datetime.strptime(date_of_birth,'%Y-%m-%d')\n",
    "    age=today.year-dateofbirth.year\n",
    "    return age"
   ]
  },
  {
   "cell_type": "code",
   "execution_count": 54,
   "id": "8ff4fe48",
   "metadata": {
    "execution": {
     "iopub.execute_input": "2022-10-06T12:08:36.983564Z",
     "iopub.status.busy": "2022-10-06T12:08:36.982868Z",
     "iopub.status.idle": "2022-10-06T12:08:46.149458Z",
     "shell.execute_reply": "2022-10-06T12:08:46.148017Z"
    },
    "id": "42efe445",
    "papermill": {
     "duration": 9.205163,
     "end_time": "2022-10-06T12:08:46.152366",
     "exception": false,
     "start_time": "2022-10-06T12:08:36.947203",
     "status": "completed"
    },
    "tags": []
   },
   "outputs": [],
   "source": [
    "data['DAYS_BIRTH']=data['DAYS_BIRTH'].apply(AGE)"
   ]
  },
  {
   "cell_type": "code",
   "execution_count": 55,
   "id": "7cd82678",
   "metadata": {
    "execution": {
     "iopub.execute_input": "2022-10-06T12:08:46.226057Z",
     "iopub.status.busy": "2022-10-06T12:08:46.225641Z",
     "iopub.status.idle": "2022-10-06T12:08:46.247312Z",
     "shell.execute_reply": "2022-10-06T12:08:46.246049Z"
    },
    "id": "aee7d790",
    "outputId": "4e282a72-c25c-4f4f-9f8f-25b70ddf5680",
    "papermill": {
     "duration": 0.061387,
     "end_time": "2022-10-06T12:08:46.249625",
     "exception": false,
     "start_time": "2022-10-06T12:08:46.188238",
     "status": "completed"
    },
    "tags": []
   },
   "outputs": [
    {
     "data": {
      "text/html": [
       "<div>\n",
       "<style scoped>\n",
       "    .dataframe tbody tr th:only-of-type {\n",
       "        vertical-align: middle;\n",
       "    }\n",
       "\n",
       "    .dataframe tbody tr th {\n",
       "        vertical-align: top;\n",
       "    }\n",
       "\n",
       "    .dataframe thead th {\n",
       "        text-align: right;\n",
       "    }\n",
       "</style>\n",
       "<table border=\"1\" class=\"dataframe\">\n",
       "  <thead>\n",
       "    <tr style=\"text-align: right;\">\n",
       "      <th></th>\n",
       "      <th>ID</th>\n",
       "      <th>CNT_CHILDREN</th>\n",
       "      <th>AMT_INCOME_TOTAL</th>\n",
       "      <th>NAME_INCOME_TYPE</th>\n",
       "      <th>NAME_EDUCATION_TYPE</th>\n",
       "      <th>NAME_FAMILY_STATUS</th>\n",
       "      <th>NAME_HOUSING_TYPE</th>\n",
       "      <th>DAYS_BIRTH</th>\n",
       "      <th>DAYS_EMPLOYED</th>\n",
       "      <th>FLAG_WORK_PHONE</th>\n",
       "      <th>FLAG_PHONE</th>\n",
       "      <th>FLAG_EMAIL</th>\n",
       "      <th>OCCUPATION_TYPE</th>\n",
       "      <th>CNT_FAM_MEMBERS</th>\n",
       "      <th>MONTHS_BALANCE</th>\n",
       "      <th>STATUS</th>\n",
       "    </tr>\n",
       "  </thead>\n",
       "  <tbody>\n",
       "    <tr>\n",
       "      <th>0</th>\n",
       "      <td>5008804</td>\n",
       "      <td>0</td>\n",
       "      <td>427500.0</td>\n",
       "      <td>Working</td>\n",
       "      <td>Higher education</td>\n",
       "      <td>Civil marriage</td>\n",
       "      <td>Rented apartment</td>\n",
       "      <td>33</td>\n",
       "      <td>2010-04-30</td>\n",
       "      <td>1</td>\n",
       "      <td>0</td>\n",
       "      <td>0</td>\n",
       "      <td>Other</td>\n",
       "      <td>2.0</td>\n",
       "      <td>0</td>\n",
       "      <td>C</td>\n",
       "    </tr>\n",
       "    <tr>\n",
       "      <th>1</th>\n",
       "      <td>5008804</td>\n",
       "      <td>0</td>\n",
       "      <td>427500.0</td>\n",
       "      <td>Working</td>\n",
       "      <td>Higher education</td>\n",
       "      <td>Civil marriage</td>\n",
       "      <td>Rented apartment</td>\n",
       "      <td>33</td>\n",
       "      <td>2010-04-30</td>\n",
       "      <td>1</td>\n",
       "      <td>0</td>\n",
       "      <td>0</td>\n",
       "      <td>Other</td>\n",
       "      <td>2.0</td>\n",
       "      <td>-1</td>\n",
       "      <td>C</td>\n",
       "    </tr>\n",
       "    <tr>\n",
       "      <th>2</th>\n",
       "      <td>5008804</td>\n",
       "      <td>0</td>\n",
       "      <td>427500.0</td>\n",
       "      <td>Working</td>\n",
       "      <td>Higher education</td>\n",
       "      <td>Civil marriage</td>\n",
       "      <td>Rented apartment</td>\n",
       "      <td>33</td>\n",
       "      <td>2010-04-30</td>\n",
       "      <td>1</td>\n",
       "      <td>0</td>\n",
       "      <td>0</td>\n",
       "      <td>Other</td>\n",
       "      <td>2.0</td>\n",
       "      <td>-2</td>\n",
       "      <td>C</td>\n",
       "    </tr>\n",
       "    <tr>\n",
       "      <th>3</th>\n",
       "      <td>5008804</td>\n",
       "      <td>0</td>\n",
       "      <td>427500.0</td>\n",
       "      <td>Working</td>\n",
       "      <td>Higher education</td>\n",
       "      <td>Civil marriage</td>\n",
       "      <td>Rented apartment</td>\n",
       "      <td>33</td>\n",
       "      <td>2010-04-30</td>\n",
       "      <td>1</td>\n",
       "      <td>0</td>\n",
       "      <td>0</td>\n",
       "      <td>Other</td>\n",
       "      <td>2.0</td>\n",
       "      <td>-3</td>\n",
       "      <td>C</td>\n",
       "    </tr>\n",
       "    <tr>\n",
       "      <th>4</th>\n",
       "      <td>5008804</td>\n",
       "      <td>0</td>\n",
       "      <td>427500.0</td>\n",
       "      <td>Working</td>\n",
       "      <td>Higher education</td>\n",
       "      <td>Civil marriage</td>\n",
       "      <td>Rented apartment</td>\n",
       "      <td>33</td>\n",
       "      <td>2010-04-30</td>\n",
       "      <td>1</td>\n",
       "      <td>0</td>\n",
       "      <td>0</td>\n",
       "      <td>Other</td>\n",
       "      <td>2.0</td>\n",
       "      <td>-4</td>\n",
       "      <td>C</td>\n",
       "    </tr>\n",
       "  </tbody>\n",
       "</table>\n",
       "</div>"
      ],
      "text/plain": [
       "        ID  CNT_CHILDREN  AMT_INCOME_TOTAL NAME_INCOME_TYPE  \\\n",
       "0  5008804             0          427500.0          Working   \n",
       "1  5008804             0          427500.0          Working   \n",
       "2  5008804             0          427500.0          Working   \n",
       "3  5008804             0          427500.0          Working   \n",
       "4  5008804             0          427500.0          Working   \n",
       "\n",
       "  NAME_EDUCATION_TYPE NAME_FAMILY_STATUS NAME_HOUSING_TYPE  DAYS_BIRTH  \\\n",
       "0    Higher education     Civil marriage  Rented apartment          33   \n",
       "1    Higher education     Civil marriage  Rented apartment          33   \n",
       "2    Higher education     Civil marriage  Rented apartment          33   \n",
       "3    Higher education     Civil marriage  Rented apartment          33   \n",
       "4    Higher education     Civil marriage  Rented apartment          33   \n",
       "\n",
       "  DAYS_EMPLOYED  FLAG_WORK_PHONE  FLAG_PHONE  FLAG_EMAIL OCCUPATION_TYPE  \\\n",
       "0    2010-04-30                1           0           0           Other   \n",
       "1    2010-04-30                1           0           0           Other   \n",
       "2    2010-04-30                1           0           0           Other   \n",
       "3    2010-04-30                1           0           0           Other   \n",
       "4    2010-04-30                1           0           0           Other   \n",
       "\n",
       "   CNT_FAM_MEMBERS  MONTHS_BALANCE STATUS  \n",
       "0              2.0               0      C  \n",
       "1              2.0              -1      C  \n",
       "2              2.0              -2      C  \n",
       "3              2.0              -3      C  \n",
       "4              2.0              -4      C  "
      ]
     },
     "execution_count": 55,
     "metadata": {},
     "output_type": "execute_result"
    }
   ],
   "source": [
    "data.head()"
   ]
  },
  {
   "cell_type": "code",
   "execution_count": 56,
   "id": "adecfbfd",
   "metadata": {
    "execution": {
     "iopub.execute_input": "2022-10-06T12:08:46.324764Z",
     "iopub.status.busy": "2022-10-06T12:08:46.324330Z",
     "iopub.status.idle": "2022-10-06T12:08:46.330733Z",
     "shell.execute_reply": "2022-10-06T12:08:46.329186Z"
    },
    "id": "90f21a5a",
    "papermill": {
     "duration": 0.04696,
     "end_time": "2022-10-06T12:08:46.333173",
     "exception": false,
     "start_time": "2022-10-06T12:08:46.286213",
     "status": "completed"
    },
    "tags": []
   },
   "outputs": [],
   "source": [
    "data.rename(columns={'DAYS_BIRTH':'Age'},inplace=True)"
   ]
  },
  {
   "cell_type": "code",
   "execution_count": 57,
   "id": "82ae67cc",
   "metadata": {
    "execution": {
     "iopub.execute_input": "2022-10-06T12:08:46.407592Z",
     "iopub.status.busy": "2022-10-06T12:08:46.407139Z",
     "iopub.status.idle": "2022-10-06T12:08:55.263338Z",
     "shell.execute_reply": "2022-10-06T12:08:55.261763Z"
    },
    "id": "38d148e7",
    "papermill": {
     "duration": 8.898764,
     "end_time": "2022-10-06T12:08:55.267412",
     "exception": false,
     "start_time": "2022-10-06T12:08:46.368648",
     "status": "completed"
    },
    "tags": []
   },
   "outputs": [],
   "source": [
    "data['DAYS_EMPLOYED']=data['DAYS_EMPLOYED'].apply(AGE)"
   ]
  },
  {
   "cell_type": "code",
   "execution_count": 58,
   "id": "90a23682",
   "metadata": {
    "execution": {
     "iopub.execute_input": "2022-10-06T12:08:55.341810Z",
     "iopub.status.busy": "2022-10-06T12:08:55.341373Z",
     "iopub.status.idle": "2022-10-06T12:08:55.361765Z",
     "shell.execute_reply": "2022-10-06T12:08:55.360499Z"
    },
    "id": "dfbd5e8c",
    "outputId": "e3c11f1a-3f34-41fd-a3b3-14a81c54ecfe",
    "papermill": {
     "duration": 0.061284,
     "end_time": "2022-10-06T12:08:55.364098",
     "exception": false,
     "start_time": "2022-10-06T12:08:55.302814",
     "status": "completed"
    },
    "tags": []
   },
   "outputs": [
    {
     "data": {
      "text/html": [
       "<div>\n",
       "<style scoped>\n",
       "    .dataframe tbody tr th:only-of-type {\n",
       "        vertical-align: middle;\n",
       "    }\n",
       "\n",
       "    .dataframe tbody tr th {\n",
       "        vertical-align: top;\n",
       "    }\n",
       "\n",
       "    .dataframe thead th {\n",
       "        text-align: right;\n",
       "    }\n",
       "</style>\n",
       "<table border=\"1\" class=\"dataframe\">\n",
       "  <thead>\n",
       "    <tr style=\"text-align: right;\">\n",
       "      <th></th>\n",
       "      <th>ID</th>\n",
       "      <th>CNT_CHILDREN</th>\n",
       "      <th>AMT_INCOME_TOTAL</th>\n",
       "      <th>NAME_INCOME_TYPE</th>\n",
       "      <th>NAME_EDUCATION_TYPE</th>\n",
       "      <th>NAME_FAMILY_STATUS</th>\n",
       "      <th>NAME_HOUSING_TYPE</th>\n",
       "      <th>Age</th>\n",
       "      <th>DAYS_EMPLOYED</th>\n",
       "      <th>FLAG_WORK_PHONE</th>\n",
       "      <th>FLAG_PHONE</th>\n",
       "      <th>FLAG_EMAIL</th>\n",
       "      <th>OCCUPATION_TYPE</th>\n",
       "      <th>CNT_FAM_MEMBERS</th>\n",
       "      <th>MONTHS_BALANCE</th>\n",
       "      <th>STATUS</th>\n",
       "    </tr>\n",
       "  </thead>\n",
       "  <tbody>\n",
       "    <tr>\n",
       "      <th>0</th>\n",
       "      <td>5008804</td>\n",
       "      <td>0</td>\n",
       "      <td>427500.0</td>\n",
       "      <td>Working</td>\n",
       "      <td>Higher education</td>\n",
       "      <td>Civil marriage</td>\n",
       "      <td>Rented apartment</td>\n",
       "      <td>33</td>\n",
       "      <td>12</td>\n",
       "      <td>1</td>\n",
       "      <td>0</td>\n",
       "      <td>0</td>\n",
       "      <td>Other</td>\n",
       "      <td>2.0</td>\n",
       "      <td>0</td>\n",
       "      <td>C</td>\n",
       "    </tr>\n",
       "    <tr>\n",
       "      <th>1</th>\n",
       "      <td>5008804</td>\n",
       "      <td>0</td>\n",
       "      <td>427500.0</td>\n",
       "      <td>Working</td>\n",
       "      <td>Higher education</td>\n",
       "      <td>Civil marriage</td>\n",
       "      <td>Rented apartment</td>\n",
       "      <td>33</td>\n",
       "      <td>12</td>\n",
       "      <td>1</td>\n",
       "      <td>0</td>\n",
       "      <td>0</td>\n",
       "      <td>Other</td>\n",
       "      <td>2.0</td>\n",
       "      <td>-1</td>\n",
       "      <td>C</td>\n",
       "    </tr>\n",
       "  </tbody>\n",
       "</table>\n",
       "</div>"
      ],
      "text/plain": [
       "        ID  CNT_CHILDREN  AMT_INCOME_TOTAL NAME_INCOME_TYPE  \\\n",
       "0  5008804             0          427500.0          Working   \n",
       "1  5008804             0          427500.0          Working   \n",
       "\n",
       "  NAME_EDUCATION_TYPE NAME_FAMILY_STATUS NAME_HOUSING_TYPE  Age  \\\n",
       "0    Higher education     Civil marriage  Rented apartment   33   \n",
       "1    Higher education     Civil marriage  Rented apartment   33   \n",
       "\n",
       "   DAYS_EMPLOYED  FLAG_WORK_PHONE  FLAG_PHONE  FLAG_EMAIL OCCUPATION_TYPE  \\\n",
       "0             12                1           0           0           Other   \n",
       "1             12                1           0           0           Other   \n",
       "\n",
       "   CNT_FAM_MEMBERS  MONTHS_BALANCE STATUS  \n",
       "0              2.0               0      C  \n",
       "1              2.0              -1      C  "
      ]
     },
     "execution_count": 58,
     "metadata": {},
     "output_type": "execute_result"
    }
   ],
   "source": [
    "data.head(2)"
   ]
  },
  {
   "cell_type": "code",
   "execution_count": 59,
   "id": "0ef06201",
   "metadata": {
    "execution": {
     "iopub.execute_input": "2022-10-06T12:08:55.435392Z",
     "iopub.status.busy": "2022-10-06T12:08:55.434950Z",
     "iopub.status.idle": "2022-10-06T12:08:55.593331Z",
     "shell.execute_reply": "2022-10-06T12:08:55.591678Z"
    },
    "id": "48e2f1a9",
    "outputId": "b737b458-eb5f-414f-a84d-e1877d319621",
    "papermill": {
     "duration": 0.197307,
     "end_time": "2022-10-06T12:08:55.596283",
     "exception": false,
     "start_time": "2022-10-06T12:08:55.398976",
     "status": "completed"
    },
    "tags": []
   },
   "outputs": [
    {
     "data": {
      "text/html": [
       "<div>\n",
       "<style scoped>\n",
       "    .dataframe tbody tr th:only-of-type {\n",
       "        vertical-align: middle;\n",
       "    }\n",
       "\n",
       "    .dataframe tbody tr th {\n",
       "        vertical-align: top;\n",
       "    }\n",
       "\n",
       "    .dataframe thead th {\n",
       "        text-align: right;\n",
       "    }\n",
       "</style>\n",
       "<table border=\"1\" class=\"dataframe\">\n",
       "  <thead>\n",
       "    <tr style=\"text-align: right;\">\n",
       "      <th></th>\n",
       "      <th>ID</th>\n",
       "      <th>CNT_CHILDREN</th>\n",
       "      <th>AMT_INCOME_TOTAL</th>\n",
       "      <th>NAME_INCOME_TYPE</th>\n",
       "      <th>NAME_EDUCATION_TYPE</th>\n",
       "      <th>NAME_FAMILY_STATUS</th>\n",
       "      <th>NAME_HOUSING_TYPE</th>\n",
       "      <th>Age</th>\n",
       "      <th>Days_worked</th>\n",
       "      <th>FLAG_WORK_PHONE</th>\n",
       "      <th>FLAG_PHONE</th>\n",
       "      <th>FLAG_EMAIL</th>\n",
       "      <th>OCCUPATION_TYPE</th>\n",
       "      <th>CNT_FAM_MEMBERS</th>\n",
       "      <th>MONTHS_BALANCE</th>\n",
       "      <th>STATUS</th>\n",
       "    </tr>\n",
       "  </thead>\n",
       "  <tbody>\n",
       "    <tr>\n",
       "      <th>0</th>\n",
       "      <td>5008804</td>\n",
       "      <td>0</td>\n",
       "      <td>427500.0</td>\n",
       "      <td>Working</td>\n",
       "      <td>Higher education</td>\n",
       "      <td>Civil marriage</td>\n",
       "      <td>Rented apartment</td>\n",
       "      <td>33</td>\n",
       "      <td>12</td>\n",
       "      <td>1</td>\n",
       "      <td>0</td>\n",
       "      <td>0</td>\n",
       "      <td>Other</td>\n",
       "      <td>2.0</td>\n",
       "      <td>0</td>\n",
       "      <td>C</td>\n",
       "    </tr>\n",
       "    <tr>\n",
       "      <th>1</th>\n",
       "      <td>5008804</td>\n",
       "      <td>0</td>\n",
       "      <td>427500.0</td>\n",
       "      <td>Working</td>\n",
       "      <td>Higher education</td>\n",
       "      <td>Civil marriage</td>\n",
       "      <td>Rented apartment</td>\n",
       "      <td>33</td>\n",
       "      <td>12</td>\n",
       "      <td>1</td>\n",
       "      <td>0</td>\n",
       "      <td>0</td>\n",
       "      <td>Other</td>\n",
       "      <td>2.0</td>\n",
       "      <td>-1</td>\n",
       "      <td>C</td>\n",
       "    </tr>\n",
       "    <tr>\n",
       "      <th>2</th>\n",
       "      <td>5008804</td>\n",
       "      <td>0</td>\n",
       "      <td>427500.0</td>\n",
       "      <td>Working</td>\n",
       "      <td>Higher education</td>\n",
       "      <td>Civil marriage</td>\n",
       "      <td>Rented apartment</td>\n",
       "      <td>33</td>\n",
       "      <td>12</td>\n",
       "      <td>1</td>\n",
       "      <td>0</td>\n",
       "      <td>0</td>\n",
       "      <td>Other</td>\n",
       "      <td>2.0</td>\n",
       "      <td>-2</td>\n",
       "      <td>C</td>\n",
       "    </tr>\n",
       "    <tr>\n",
       "      <th>3</th>\n",
       "      <td>5008804</td>\n",
       "      <td>0</td>\n",
       "      <td>427500.0</td>\n",
       "      <td>Working</td>\n",
       "      <td>Higher education</td>\n",
       "      <td>Civil marriage</td>\n",
       "      <td>Rented apartment</td>\n",
       "      <td>33</td>\n",
       "      <td>12</td>\n",
       "      <td>1</td>\n",
       "      <td>0</td>\n",
       "      <td>0</td>\n",
       "      <td>Other</td>\n",
       "      <td>2.0</td>\n",
       "      <td>-3</td>\n",
       "      <td>C</td>\n",
       "    </tr>\n",
       "    <tr>\n",
       "      <th>4</th>\n",
       "      <td>5008804</td>\n",
       "      <td>0</td>\n",
       "      <td>427500.0</td>\n",
       "      <td>Working</td>\n",
       "      <td>Higher education</td>\n",
       "      <td>Civil marriage</td>\n",
       "      <td>Rented apartment</td>\n",
       "      <td>33</td>\n",
       "      <td>12</td>\n",
       "      <td>1</td>\n",
       "      <td>0</td>\n",
       "      <td>0</td>\n",
       "      <td>Other</td>\n",
       "      <td>2.0</td>\n",
       "      <td>-4</td>\n",
       "      <td>C</td>\n",
       "    </tr>\n",
       "    <tr>\n",
       "      <th>...</th>\n",
       "      <td>...</td>\n",
       "      <td>...</td>\n",
       "      <td>...</td>\n",
       "      <td>...</td>\n",
       "      <td>...</td>\n",
       "      <td>...</td>\n",
       "      <td>...</td>\n",
       "      <td>...</td>\n",
       "      <td>...</td>\n",
       "      <td>...</td>\n",
       "      <td>...</td>\n",
       "      <td>...</td>\n",
       "      <td>...</td>\n",
       "      <td>...</td>\n",
       "      <td>...</td>\n",
       "      <td>...</td>\n",
       "    </tr>\n",
       "    <tr>\n",
       "      <th>777710</th>\n",
       "      <td>5150337</td>\n",
       "      <td>0</td>\n",
       "      <td>112500.0</td>\n",
       "      <td>Working</td>\n",
       "      <td>Secondary</td>\n",
       "      <td>Single</td>\n",
       "      <td>Rented apartment</td>\n",
       "      <td>25</td>\n",
       "      <td>3</td>\n",
       "      <td>0</td>\n",
       "      <td>0</td>\n",
       "      <td>0</td>\n",
       "      <td>Laborers</td>\n",
       "      <td>1.0</td>\n",
       "      <td>-9</td>\n",
       "      <td>0</td>\n",
       "    </tr>\n",
       "    <tr>\n",
       "      <th>777711</th>\n",
       "      <td>5150337</td>\n",
       "      <td>0</td>\n",
       "      <td>112500.0</td>\n",
       "      <td>Working</td>\n",
       "      <td>Secondary</td>\n",
       "      <td>Single</td>\n",
       "      <td>Rented apartment</td>\n",
       "      <td>25</td>\n",
       "      <td>3</td>\n",
       "      <td>0</td>\n",
       "      <td>0</td>\n",
       "      <td>0</td>\n",
       "      <td>Laborers</td>\n",
       "      <td>1.0</td>\n",
       "      <td>-10</td>\n",
       "      <td>2</td>\n",
       "    </tr>\n",
       "    <tr>\n",
       "      <th>777712</th>\n",
       "      <td>5150337</td>\n",
       "      <td>0</td>\n",
       "      <td>112500.0</td>\n",
       "      <td>Working</td>\n",
       "      <td>Secondary</td>\n",
       "      <td>Single</td>\n",
       "      <td>Rented apartment</td>\n",
       "      <td>25</td>\n",
       "      <td>3</td>\n",
       "      <td>0</td>\n",
       "      <td>0</td>\n",
       "      <td>0</td>\n",
       "      <td>Laborers</td>\n",
       "      <td>1.0</td>\n",
       "      <td>-11</td>\n",
       "      <td>1</td>\n",
       "    </tr>\n",
       "    <tr>\n",
       "      <th>777713</th>\n",
       "      <td>5150337</td>\n",
       "      <td>0</td>\n",
       "      <td>112500.0</td>\n",
       "      <td>Working</td>\n",
       "      <td>Secondary</td>\n",
       "      <td>Single</td>\n",
       "      <td>Rented apartment</td>\n",
       "      <td>25</td>\n",
       "      <td>3</td>\n",
       "      <td>0</td>\n",
       "      <td>0</td>\n",
       "      <td>0</td>\n",
       "      <td>Laborers</td>\n",
       "      <td>1.0</td>\n",
       "      <td>-12</td>\n",
       "      <td>0</td>\n",
       "    </tr>\n",
       "    <tr>\n",
       "      <th>777714</th>\n",
       "      <td>5150337</td>\n",
       "      <td>0</td>\n",
       "      <td>112500.0</td>\n",
       "      <td>Working</td>\n",
       "      <td>Secondary</td>\n",
       "      <td>Single</td>\n",
       "      <td>Rented apartment</td>\n",
       "      <td>25</td>\n",
       "      <td>3</td>\n",
       "      <td>0</td>\n",
       "      <td>0</td>\n",
       "      <td>0</td>\n",
       "      <td>Laborers</td>\n",
       "      <td>1.0</td>\n",
       "      <td>-13</td>\n",
       "      <td>0</td>\n",
       "    </tr>\n",
       "  </tbody>\n",
       "</table>\n",
       "<p>777715 rows × 16 columns</p>\n",
       "</div>"
      ],
      "text/plain": [
       "             ID  CNT_CHILDREN  AMT_INCOME_TOTAL NAME_INCOME_TYPE  \\\n",
       "0       5008804             0          427500.0          Working   \n",
       "1       5008804             0          427500.0          Working   \n",
       "2       5008804             0          427500.0          Working   \n",
       "3       5008804             0          427500.0          Working   \n",
       "4       5008804             0          427500.0          Working   \n",
       "...         ...           ...               ...              ...   \n",
       "777710  5150337             0          112500.0          Working   \n",
       "777711  5150337             0          112500.0          Working   \n",
       "777712  5150337             0          112500.0          Working   \n",
       "777713  5150337             0          112500.0          Working   \n",
       "777714  5150337             0          112500.0          Working   \n",
       "\n",
       "       NAME_EDUCATION_TYPE NAME_FAMILY_STATUS NAME_HOUSING_TYPE  Age  \\\n",
       "0         Higher education     Civil marriage  Rented apartment   33   \n",
       "1         Higher education     Civil marriage  Rented apartment   33   \n",
       "2         Higher education     Civil marriage  Rented apartment   33   \n",
       "3         Higher education     Civil marriage  Rented apartment   33   \n",
       "4         Higher education     Civil marriage  Rented apartment   33   \n",
       "...                    ...                ...               ...  ...   \n",
       "777710           Secondary             Single  Rented apartment   25   \n",
       "777711           Secondary             Single  Rented apartment   25   \n",
       "777712           Secondary             Single  Rented apartment   25   \n",
       "777713           Secondary             Single  Rented apartment   25   \n",
       "777714           Secondary             Single  Rented apartment   25   \n",
       "\n",
       "        Days_worked  FLAG_WORK_PHONE  FLAG_PHONE  FLAG_EMAIL OCCUPATION_TYPE  \\\n",
       "0                12                1           0           0           Other   \n",
       "1                12                1           0           0           Other   \n",
       "2                12                1           0           0           Other   \n",
       "3                12                1           0           0           Other   \n",
       "4                12                1           0           0           Other   \n",
       "...             ...              ...         ...         ...             ...   \n",
       "777710            3                0           0           0        Laborers   \n",
       "777711            3                0           0           0        Laborers   \n",
       "777712            3                0           0           0        Laborers   \n",
       "777713            3                0           0           0        Laborers   \n",
       "777714            3                0           0           0        Laborers   \n",
       "\n",
       "        CNT_FAM_MEMBERS  MONTHS_BALANCE STATUS  \n",
       "0                   2.0               0      C  \n",
       "1                   2.0              -1      C  \n",
       "2                   2.0              -2      C  \n",
       "3                   2.0              -3      C  \n",
       "4                   2.0              -4      C  \n",
       "...                 ...             ...    ...  \n",
       "777710              1.0              -9      0  \n",
       "777711              1.0             -10      2  \n",
       "777712              1.0             -11      1  \n",
       "777713              1.0             -12      0  \n",
       "777714              1.0             -13      0  \n",
       "\n",
       "[777715 rows x 16 columns]"
      ]
     },
     "execution_count": 59,
     "metadata": {},
     "output_type": "execute_result"
    }
   ],
   "source": [
    "data.rename(columns={'DAYS_EMPLOYED':'Days_worked'})"
   ]
  },
  {
   "cell_type": "code",
   "execution_count": 60,
   "id": "d62168de",
   "metadata": {
    "execution": {
     "iopub.execute_input": "2022-10-06T12:08:55.673044Z",
     "iopub.status.busy": "2022-10-06T12:08:55.672642Z",
     "iopub.status.idle": "2022-10-06T12:08:55.715304Z",
     "shell.execute_reply": "2022-10-06T12:08:55.713906Z"
    },
    "id": "fc0d8c70",
    "outputId": "3dde9091-d219-4c7c-c07d-3809232e1851",
    "papermill": {
     "duration": 0.083347,
     "end_time": "2022-10-06T12:08:55.717797",
     "exception": false,
     "start_time": "2022-10-06T12:08:55.634450",
     "status": "completed"
    },
    "tags": []
   },
   "outputs": [
    {
     "data": {
      "text/plain": [
       "C    329536\n",
       "0    290654\n",
       "X    145950\n",
       "1      8747\n",
       "5      1527\n",
       "2       801\n",
       "3       286\n",
       "4       214\n",
       "Name: STATUS, dtype: int64"
      ]
     },
     "execution_count": 60,
     "metadata": {},
     "output_type": "execute_result"
    }
   ],
   "source": [
    "data['STATUS'].value_counts()"
   ]
  },
  {
   "cell_type": "code",
   "execution_count": 61,
   "id": "61c07590",
   "metadata": {
    "execution": {
     "iopub.execute_input": "2022-10-06T12:08:55.794241Z",
     "iopub.status.busy": "2022-10-06T12:08:55.793832Z",
     "iopub.status.idle": "2022-10-06T12:08:55.945456Z",
     "shell.execute_reply": "2022-10-06T12:08:55.944227Z"
    },
    "id": "81312c7e",
    "papermill": {
     "duration": 0.193994,
     "end_time": "2022-10-06T12:08:55.948192",
     "exception": false,
     "start_time": "2022-10-06T12:08:55.754198",
     "status": "completed"
    },
    "tags": []
   },
   "outputs": [],
   "source": [
    "data.loc[data['STATUS']=='C','STATUS']=6\n",
    "data.loc[data['STATUS']=='X','STATUS']=7\n"
   ]
  },
  {
   "cell_type": "code",
   "execution_count": 62,
   "id": "916d1bce",
   "metadata": {
    "execution": {
     "iopub.execute_input": "2022-10-06T12:08:56.023957Z",
     "iopub.status.busy": "2022-10-06T12:08:56.023526Z",
     "iopub.status.idle": "2022-10-06T12:08:56.135167Z",
     "shell.execute_reply": "2022-10-06T12:08:56.133740Z"
    },
    "id": "36056ecf",
    "papermill": {
     "duration": 0.154021,
     "end_time": "2022-10-06T12:08:56.138038",
     "exception": false,
     "start_time": "2022-10-06T12:08:55.984017",
     "status": "completed"
    },
    "tags": []
   },
   "outputs": [],
   "source": [
    "data['STATUS']=data['STATUS'].astype(float)"
   ]
  },
  {
   "cell_type": "code",
   "execution_count": 63,
   "id": "fd44803a",
   "metadata": {
    "execution": {
     "iopub.execute_input": "2022-10-06T12:08:56.211054Z",
     "iopub.status.busy": "2022-10-06T12:08:56.210638Z",
     "iopub.status.idle": "2022-10-06T12:08:56.216725Z",
     "shell.execute_reply": "2022-10-06T12:08:56.215397Z"
    },
    "id": "ac034257",
    "papermill": {
     "duration": 0.045781,
     "end_time": "2022-10-06T12:08:56.219315",
     "exception": false,
     "start_time": "2022-10-06T12:08:56.173534",
     "status": "completed"
    },
    "tags": []
   },
   "outputs": [],
   "source": [
    "def solve(state):\n",
    "    target=''\n",
    "    if state in (2,3,4,5):\n",
    "        target=1 #Risky\n",
    "    else :\n",
    "        target=0 #not Risky\n",
    "        \n",
    "    return target\n",
    "    \n",
    "        "
   ]
  },
  {
   "cell_type": "code",
   "execution_count": 64,
   "id": "1c279a40",
   "metadata": {
    "execution": {
     "iopub.execute_input": "2022-10-06T12:08:56.295647Z",
     "iopub.status.busy": "2022-10-06T12:08:56.295230Z",
     "iopub.status.idle": "2022-10-06T12:08:56.427310Z",
     "shell.execute_reply": "2022-10-06T12:08:56.425990Z"
    },
    "id": "vOZBsL9glbeQ",
    "papermill": {
     "duration": 0.173525,
     "end_time": "2022-10-06T12:08:56.430197",
     "exception": false,
     "start_time": "2022-10-06T12:08:56.256672",
     "status": "completed"
    },
    "tags": []
   },
   "outputs": [],
   "source": [
    "data.drop('OCCUPATION_TYPE',axis=1,inplace=True)"
   ]
  },
  {
   "cell_type": "code",
   "execution_count": 65,
   "id": "4ed89938",
   "metadata": {
    "execution": {
     "iopub.execute_input": "2022-10-06T12:08:56.506669Z",
     "iopub.status.busy": "2022-10-06T12:08:56.506239Z",
     "iopub.status.idle": "2022-10-06T12:08:56.937775Z",
     "shell.execute_reply": "2022-10-06T12:08:56.936586Z"
    },
    "id": "5e23013e",
    "papermill": {
     "duration": 0.473271,
     "end_time": "2022-10-06T12:08:56.940566",
     "exception": false,
     "start_time": "2022-10-06T12:08:56.467295",
     "status": "completed"
    },
    "tags": []
   },
   "outputs": [],
   "source": [
    "data['Target']=data['STATUS'].apply(solve)"
   ]
  },
  {
   "cell_type": "code",
   "execution_count": 66,
   "id": "311a9fcb",
   "metadata": {
    "execution": {
     "iopub.execute_input": "2022-10-06T12:08:57.016095Z",
     "iopub.status.busy": "2022-10-06T12:08:57.015700Z",
     "iopub.status.idle": "2022-10-06T12:08:57.037407Z",
     "shell.execute_reply": "2022-10-06T12:08:57.036066Z"
    },
    "id": "57823d38",
    "outputId": "47d3e172-19a6-4ed3-ecdb-6ffe344396ef",
    "papermill": {
     "duration": 0.061823,
     "end_time": "2022-10-06T12:08:57.040034",
     "exception": false,
     "start_time": "2022-10-06T12:08:56.978211",
     "status": "completed"
    },
    "tags": []
   },
   "outputs": [
    {
     "data": {
      "text/html": [
       "<div>\n",
       "<style scoped>\n",
       "    .dataframe tbody tr th:only-of-type {\n",
       "        vertical-align: middle;\n",
       "    }\n",
       "\n",
       "    .dataframe tbody tr th {\n",
       "        vertical-align: top;\n",
       "    }\n",
       "\n",
       "    .dataframe thead th {\n",
       "        text-align: right;\n",
       "    }\n",
       "</style>\n",
       "<table border=\"1\" class=\"dataframe\">\n",
       "  <thead>\n",
       "    <tr style=\"text-align: right;\">\n",
       "      <th></th>\n",
       "      <th>ID</th>\n",
       "      <th>CNT_CHILDREN</th>\n",
       "      <th>AMT_INCOME_TOTAL</th>\n",
       "      <th>NAME_INCOME_TYPE</th>\n",
       "      <th>NAME_EDUCATION_TYPE</th>\n",
       "      <th>NAME_FAMILY_STATUS</th>\n",
       "      <th>NAME_HOUSING_TYPE</th>\n",
       "      <th>Age</th>\n",
       "      <th>DAYS_EMPLOYED</th>\n",
       "      <th>FLAG_WORK_PHONE</th>\n",
       "      <th>FLAG_PHONE</th>\n",
       "      <th>FLAG_EMAIL</th>\n",
       "      <th>CNT_FAM_MEMBERS</th>\n",
       "      <th>MONTHS_BALANCE</th>\n",
       "      <th>STATUS</th>\n",
       "      <th>Target</th>\n",
       "    </tr>\n",
       "  </thead>\n",
       "  <tbody>\n",
       "    <tr>\n",
       "      <th>0</th>\n",
       "      <td>5008804</td>\n",
       "      <td>0</td>\n",
       "      <td>427500.0</td>\n",
       "      <td>Working</td>\n",
       "      <td>Higher education</td>\n",
       "      <td>Civil marriage</td>\n",
       "      <td>Rented apartment</td>\n",
       "      <td>33</td>\n",
       "      <td>12</td>\n",
       "      <td>1</td>\n",
       "      <td>0</td>\n",
       "      <td>0</td>\n",
       "      <td>2.0</td>\n",
       "      <td>0</td>\n",
       "      <td>6.0</td>\n",
       "      <td>0</td>\n",
       "    </tr>\n",
       "    <tr>\n",
       "      <th>1</th>\n",
       "      <td>5008804</td>\n",
       "      <td>0</td>\n",
       "      <td>427500.0</td>\n",
       "      <td>Working</td>\n",
       "      <td>Higher education</td>\n",
       "      <td>Civil marriage</td>\n",
       "      <td>Rented apartment</td>\n",
       "      <td>33</td>\n",
       "      <td>12</td>\n",
       "      <td>1</td>\n",
       "      <td>0</td>\n",
       "      <td>0</td>\n",
       "      <td>2.0</td>\n",
       "      <td>-1</td>\n",
       "      <td>6.0</td>\n",
       "      <td>0</td>\n",
       "    </tr>\n",
       "    <tr>\n",
       "      <th>2</th>\n",
       "      <td>5008804</td>\n",
       "      <td>0</td>\n",
       "      <td>427500.0</td>\n",
       "      <td>Working</td>\n",
       "      <td>Higher education</td>\n",
       "      <td>Civil marriage</td>\n",
       "      <td>Rented apartment</td>\n",
       "      <td>33</td>\n",
       "      <td>12</td>\n",
       "      <td>1</td>\n",
       "      <td>0</td>\n",
       "      <td>0</td>\n",
       "      <td>2.0</td>\n",
       "      <td>-2</td>\n",
       "      <td>6.0</td>\n",
       "      <td>0</td>\n",
       "    </tr>\n",
       "    <tr>\n",
       "      <th>3</th>\n",
       "      <td>5008804</td>\n",
       "      <td>0</td>\n",
       "      <td>427500.0</td>\n",
       "      <td>Working</td>\n",
       "      <td>Higher education</td>\n",
       "      <td>Civil marriage</td>\n",
       "      <td>Rented apartment</td>\n",
       "      <td>33</td>\n",
       "      <td>12</td>\n",
       "      <td>1</td>\n",
       "      <td>0</td>\n",
       "      <td>0</td>\n",
       "      <td>2.0</td>\n",
       "      <td>-3</td>\n",
       "      <td>6.0</td>\n",
       "      <td>0</td>\n",
       "    </tr>\n",
       "    <tr>\n",
       "      <th>4</th>\n",
       "      <td>5008804</td>\n",
       "      <td>0</td>\n",
       "      <td>427500.0</td>\n",
       "      <td>Working</td>\n",
       "      <td>Higher education</td>\n",
       "      <td>Civil marriage</td>\n",
       "      <td>Rented apartment</td>\n",
       "      <td>33</td>\n",
       "      <td>12</td>\n",
       "      <td>1</td>\n",
       "      <td>0</td>\n",
       "      <td>0</td>\n",
       "      <td>2.0</td>\n",
       "      <td>-4</td>\n",
       "      <td>6.0</td>\n",
       "      <td>0</td>\n",
       "    </tr>\n",
       "  </tbody>\n",
       "</table>\n",
       "</div>"
      ],
      "text/plain": [
       "        ID  CNT_CHILDREN  AMT_INCOME_TOTAL NAME_INCOME_TYPE  \\\n",
       "0  5008804             0          427500.0          Working   \n",
       "1  5008804             0          427500.0          Working   \n",
       "2  5008804             0          427500.0          Working   \n",
       "3  5008804             0          427500.0          Working   \n",
       "4  5008804             0          427500.0          Working   \n",
       "\n",
       "  NAME_EDUCATION_TYPE NAME_FAMILY_STATUS NAME_HOUSING_TYPE  Age  \\\n",
       "0    Higher education     Civil marriage  Rented apartment   33   \n",
       "1    Higher education     Civil marriage  Rented apartment   33   \n",
       "2    Higher education     Civil marriage  Rented apartment   33   \n",
       "3    Higher education     Civil marriage  Rented apartment   33   \n",
       "4    Higher education     Civil marriage  Rented apartment   33   \n",
       "\n",
       "   DAYS_EMPLOYED  FLAG_WORK_PHONE  FLAG_PHONE  FLAG_EMAIL  CNT_FAM_MEMBERS  \\\n",
       "0             12                1           0           0              2.0   \n",
       "1             12                1           0           0              2.0   \n",
       "2             12                1           0           0              2.0   \n",
       "3             12                1           0           0              2.0   \n",
       "4             12                1           0           0              2.0   \n",
       "\n",
       "   MONTHS_BALANCE  STATUS  Target  \n",
       "0               0     6.0       0  \n",
       "1              -1     6.0       0  \n",
       "2              -2     6.0       0  \n",
       "3              -3     6.0       0  \n",
       "4              -4     6.0       0  "
      ]
     },
     "execution_count": 66,
     "metadata": {},
     "output_type": "execute_result"
    }
   ],
   "source": [
    "data.head()"
   ]
  },
  {
   "cell_type": "code",
   "execution_count": 67,
   "id": "fea7f8cc",
   "metadata": {
    "execution": {
     "iopub.execute_input": "2022-10-06T12:08:57.116759Z",
     "iopub.status.busy": "2022-10-06T12:08:57.116330Z",
     "iopub.status.idle": "2022-10-06T12:08:57.133316Z",
     "shell.execute_reply": "2022-10-06T12:08:57.132043Z"
    },
    "id": "d7b9e361",
    "outputId": "e06e9dc6-0106-4448-b8a3-ab9dec2db148",
    "papermill": {
     "duration": 0.059222,
     "end_time": "2022-10-06T12:08:57.136123",
     "exception": false,
     "start_time": "2022-10-06T12:08:57.076901",
     "status": "completed"
    },
    "tags": []
   },
   "outputs": [
    {
     "data": {
      "text/plain": [
       "0    774887\n",
       "1      2828\n",
       "Name: Target, dtype: int64"
      ]
     },
     "execution_count": 67,
     "metadata": {},
     "output_type": "execute_result"
    }
   ],
   "source": [
    "data['Target'].value_counts()"
   ]
  },
  {
   "cell_type": "markdown",
   "id": "2ccf415c",
   "metadata": {
    "id": "76474a2e",
    "papermill": {
     "duration": 0.035804,
     "end_time": "2022-10-06T12:08:57.208845",
     "exception": false,
     "start_time": "2022-10-06T12:08:57.173041",
     "status": "completed"
    },
    "tags": []
   },
   "source": [
    "# Data Visualisation "
   ]
  },
  {
   "cell_type": "code",
   "execution_count": 68,
   "id": "8b900ad2",
   "metadata": {
    "execution": {
     "iopub.execute_input": "2022-10-06T12:08:57.284429Z",
     "iopub.status.busy": "2022-10-06T12:08:57.283950Z",
     "iopub.status.idle": "2022-10-06T12:08:57.736044Z",
     "shell.execute_reply": "2022-10-06T12:08:57.734587Z"
    },
    "id": "72d6e5bf",
    "outputId": "abb4d448-45db-407e-90fb-a335295973f4",
    "papermill": {
     "duration": 0.494156,
     "end_time": "2022-10-06T12:08:57.739258",
     "exception": false,
     "start_time": "2022-10-06T12:08:57.245102",
     "status": "completed"
    },
    "tags": []
   },
   "outputs": [
    {
     "data": {
      "text/html": [
       "<div>\n",
       "<style scoped>\n",
       "    .dataframe tbody tr th:only-of-type {\n",
       "        vertical-align: middle;\n",
       "    }\n",
       "\n",
       "    .dataframe tbody tr th {\n",
       "        vertical-align: top;\n",
       "    }\n",
       "\n",
       "    .dataframe thead th {\n",
       "        text-align: right;\n",
       "    }\n",
       "</style>\n",
       "<table border=\"1\" class=\"dataframe\">\n",
       "  <thead>\n",
       "    <tr style=\"text-align: right;\">\n",
       "      <th></th>\n",
       "      <th>ID</th>\n",
       "      <th>CNT_CHILDREN</th>\n",
       "      <th>AMT_INCOME_TOTAL</th>\n",
       "      <th>Age</th>\n",
       "      <th>DAYS_EMPLOYED</th>\n",
       "      <th>FLAG_WORK_PHONE</th>\n",
       "      <th>FLAG_PHONE</th>\n",
       "      <th>FLAG_EMAIL</th>\n",
       "      <th>CNT_FAM_MEMBERS</th>\n",
       "      <th>MONTHS_BALANCE</th>\n",
       "      <th>STATUS</th>\n",
       "      <th>Target</th>\n",
       "    </tr>\n",
       "  </thead>\n",
       "  <tbody>\n",
       "    <tr>\n",
       "      <th>ID</th>\n",
       "      <td>1.000000</td>\n",
       "      <td>0.026269</td>\n",
       "      <td>-0.027597</td>\n",
       "      <td>-0.041679</td>\n",
       "      <td>0.025340</td>\n",
       "      <td>0.084800</td>\n",
       "      <td>0.006346</td>\n",
       "      <td>-0.056083</td>\n",
       "      <td>0.027375</td>\n",
       "      <td>0.005007</td>\n",
       "      <td>0.014255</td>\n",
       "      <td>0.010690</td>\n",
       "    </tr>\n",
       "    <tr>\n",
       "      <th>CNT_CHILDREN</th>\n",
       "      <td>0.026269</td>\n",
       "      <td>1.000000</td>\n",
       "      <td>0.039304</td>\n",
       "      <td>-0.355749</td>\n",
       "      <td>0.228958</td>\n",
       "      <td>0.042226</td>\n",
       "      <td>-0.018882</td>\n",
       "      <td>0.015726</td>\n",
       "      <td>0.892079</td>\n",
       "      <td>0.000913</td>\n",
       "      <td>-0.002850</td>\n",
       "      <td>-0.000705</td>\n",
       "    </tr>\n",
       "    <tr>\n",
       "      <th>AMT_INCOME_TOTAL</th>\n",
       "      <td>-0.027597</td>\n",
       "      <td>0.039304</td>\n",
       "      <td>1.000000</td>\n",
       "      <td>-0.081554</td>\n",
       "      <td>0.180685</td>\n",
       "      <td>-0.021229</td>\n",
       "      <td>0.018687</td>\n",
       "      <td>0.085776</td>\n",
       "      <td>0.031379</td>\n",
       "      <td>0.001831</td>\n",
       "      <td>-0.013499</td>\n",
       "      <td>0.003267</td>\n",
       "    </tr>\n",
       "    <tr>\n",
       "      <th>Age</th>\n",
       "      <td>-0.041679</td>\n",
       "      <td>-0.355749</td>\n",
       "      <td>-0.081554</td>\n",
       "      <td>1.000000</td>\n",
       "      <td>-0.608515</td>\n",
       "      <td>-0.179480</td>\n",
       "      <td>0.027055</td>\n",
       "      <td>-0.100997</td>\n",
       "      <td>-0.327716</td>\n",
       "      <td>-0.035713</td>\n",
       "      <td>-0.004927</td>\n",
       "      <td>0.005317</td>\n",
       "    </tr>\n",
       "    <tr>\n",
       "      <th>DAYS_EMPLOYED</th>\n",
       "      <td>0.025340</td>\n",
       "      <td>0.228958</td>\n",
       "      <td>0.180685</td>\n",
       "      <td>-0.608515</td>\n",
       "      <td>1.000000</td>\n",
       "      <td>0.243685</td>\n",
       "      <td>0.013823</td>\n",
       "      <td>0.082473</td>\n",
       "      <td>0.227655</td>\n",
       "      <td>0.004219</td>\n",
       "      <td>-0.002367</td>\n",
       "      <td>-0.003708</td>\n",
       "    </tr>\n",
       "    <tr>\n",
       "      <th>FLAG_WORK_PHONE</th>\n",
       "      <td>0.084800</td>\n",
       "      <td>0.042226</td>\n",
       "      <td>-0.021229</td>\n",
       "      <td>-0.179480</td>\n",
       "      <td>0.243685</td>\n",
       "      <td>1.000000</td>\n",
       "      <td>0.312552</td>\n",
       "      <td>-0.037991</td>\n",
       "      <td>0.060183</td>\n",
       "      <td>0.001529</td>\n",
       "      <td>0.010512</td>\n",
       "      <td>0.007412</td>\n",
       "    </tr>\n",
       "    <tr>\n",
       "      <th>FLAG_PHONE</th>\n",
       "      <td>0.006346</td>\n",
       "      <td>-0.018882</td>\n",
       "      <td>0.018687</td>\n",
       "      <td>0.027055</td>\n",
       "      <td>0.013823</td>\n",
       "      <td>0.312552</td>\n",
       "      <td>1.000000</td>\n",
       "      <td>0.011901</td>\n",
       "      <td>-0.007824</td>\n",
       "      <td>-0.005120</td>\n",
       "      <td>-0.000747</td>\n",
       "      <td>0.007213</td>\n",
       "    </tr>\n",
       "    <tr>\n",
       "      <th>FLAG_EMAIL</th>\n",
       "      <td>-0.056083</td>\n",
       "      <td>0.015726</td>\n",
       "      <td>0.085776</td>\n",
       "      <td>-0.100997</td>\n",
       "      <td>0.082473</td>\n",
       "      <td>-0.037991</td>\n",
       "      <td>0.011901</td>\n",
       "      <td>1.000000</td>\n",
       "      <td>0.012540</td>\n",
       "      <td>0.005288</td>\n",
       "      <td>-0.012077</td>\n",
       "      <td>-0.003054</td>\n",
       "    </tr>\n",
       "    <tr>\n",
       "      <th>CNT_FAM_MEMBERS</th>\n",
       "      <td>0.027375</td>\n",
       "      <td>0.892079</td>\n",
       "      <td>0.031379</td>\n",
       "      <td>-0.327716</td>\n",
       "      <td>0.227655</td>\n",
       "      <td>0.060183</td>\n",
       "      <td>-0.007824</td>\n",
       "      <td>0.012540</td>\n",
       "      <td>1.000000</td>\n",
       "      <td>-0.006276</td>\n",
       "      <td>-0.000330</td>\n",
       "      <td>-0.001874</td>\n",
       "    </tr>\n",
       "    <tr>\n",
       "      <th>MONTHS_BALANCE</th>\n",
       "      <td>0.005007</td>\n",
       "      <td>0.000913</td>\n",
       "      <td>0.001831</td>\n",
       "      <td>-0.035713</td>\n",
       "      <td>0.004219</td>\n",
       "      <td>0.001529</td>\n",
       "      <td>-0.005120</td>\n",
       "      <td>0.005288</td>\n",
       "      <td>-0.006276</td>\n",
       "      <td>1.000000</td>\n",
       "      <td>0.140139</td>\n",
       "      <td>-0.004405</td>\n",
       "    </tr>\n",
       "    <tr>\n",
       "      <th>STATUS</th>\n",
       "      <td>0.014255</td>\n",
       "      <td>-0.002850</td>\n",
       "      <td>-0.013499</td>\n",
       "      <td>-0.004927</td>\n",
       "      <td>-0.002367</td>\n",
       "      <td>0.010512</td>\n",
       "      <td>-0.000747</td>\n",
       "      <td>-0.012077</td>\n",
       "      <td>-0.000330</td>\n",
       "      <td>0.140139</td>\n",
       "      <td>1.000000</td>\n",
       "      <td>-0.000176</td>\n",
       "    </tr>\n",
       "    <tr>\n",
       "      <th>Target</th>\n",
       "      <td>0.010690</td>\n",
       "      <td>-0.000705</td>\n",
       "      <td>0.003267</td>\n",
       "      <td>0.005317</td>\n",
       "      <td>-0.003708</td>\n",
       "      <td>0.007412</td>\n",
       "      <td>0.007213</td>\n",
       "      <td>-0.003054</td>\n",
       "      <td>-0.001874</td>\n",
       "      <td>-0.004405</td>\n",
       "      <td>-0.000176</td>\n",
       "      <td>1.000000</td>\n",
       "    </tr>\n",
       "  </tbody>\n",
       "</table>\n",
       "</div>"
      ],
      "text/plain": [
       "                        ID  CNT_CHILDREN  AMT_INCOME_TOTAL       Age  \\\n",
       "ID                1.000000      0.026269         -0.027597 -0.041679   \n",
       "CNT_CHILDREN      0.026269      1.000000          0.039304 -0.355749   \n",
       "AMT_INCOME_TOTAL -0.027597      0.039304          1.000000 -0.081554   \n",
       "Age              -0.041679     -0.355749         -0.081554  1.000000   \n",
       "DAYS_EMPLOYED     0.025340      0.228958          0.180685 -0.608515   \n",
       "FLAG_WORK_PHONE   0.084800      0.042226         -0.021229 -0.179480   \n",
       "FLAG_PHONE        0.006346     -0.018882          0.018687  0.027055   \n",
       "FLAG_EMAIL       -0.056083      0.015726          0.085776 -0.100997   \n",
       "CNT_FAM_MEMBERS   0.027375      0.892079          0.031379 -0.327716   \n",
       "MONTHS_BALANCE    0.005007      0.000913          0.001831 -0.035713   \n",
       "STATUS            0.014255     -0.002850         -0.013499 -0.004927   \n",
       "Target            0.010690     -0.000705          0.003267  0.005317   \n",
       "\n",
       "                  DAYS_EMPLOYED  FLAG_WORK_PHONE  FLAG_PHONE  FLAG_EMAIL  \\\n",
       "ID                     0.025340         0.084800    0.006346   -0.056083   \n",
       "CNT_CHILDREN           0.228958         0.042226   -0.018882    0.015726   \n",
       "AMT_INCOME_TOTAL       0.180685        -0.021229    0.018687    0.085776   \n",
       "Age                   -0.608515        -0.179480    0.027055   -0.100997   \n",
       "DAYS_EMPLOYED          1.000000         0.243685    0.013823    0.082473   \n",
       "FLAG_WORK_PHONE        0.243685         1.000000    0.312552   -0.037991   \n",
       "FLAG_PHONE             0.013823         0.312552    1.000000    0.011901   \n",
       "FLAG_EMAIL             0.082473        -0.037991    0.011901    1.000000   \n",
       "CNT_FAM_MEMBERS        0.227655         0.060183   -0.007824    0.012540   \n",
       "MONTHS_BALANCE         0.004219         0.001529   -0.005120    0.005288   \n",
       "STATUS                -0.002367         0.010512   -0.000747   -0.012077   \n",
       "Target                -0.003708         0.007412    0.007213   -0.003054   \n",
       "\n",
       "                  CNT_FAM_MEMBERS  MONTHS_BALANCE    STATUS    Target  \n",
       "ID                       0.027375        0.005007  0.014255  0.010690  \n",
       "CNT_CHILDREN             0.892079        0.000913 -0.002850 -0.000705  \n",
       "AMT_INCOME_TOTAL         0.031379        0.001831 -0.013499  0.003267  \n",
       "Age                     -0.327716       -0.035713 -0.004927  0.005317  \n",
       "DAYS_EMPLOYED            0.227655        0.004219 -0.002367 -0.003708  \n",
       "FLAG_WORK_PHONE          0.060183        0.001529  0.010512  0.007412  \n",
       "FLAG_PHONE              -0.007824       -0.005120 -0.000747  0.007213  \n",
       "FLAG_EMAIL               0.012540        0.005288 -0.012077 -0.003054  \n",
       "CNT_FAM_MEMBERS          1.000000       -0.006276 -0.000330 -0.001874  \n",
       "MONTHS_BALANCE          -0.006276        1.000000  0.140139 -0.004405  \n",
       "STATUS                  -0.000330        0.140139  1.000000 -0.000176  \n",
       "Target                  -0.001874       -0.004405 -0.000176  1.000000  "
      ]
     },
     "execution_count": 68,
     "metadata": {},
     "output_type": "execute_result"
    }
   ],
   "source": [
    "data.corr()"
   ]
  },
  {
   "cell_type": "code",
   "execution_count": 69,
   "id": "9d187724",
   "metadata": {
    "execution": {
     "iopub.execute_input": "2022-10-06T12:08:57.816161Z",
     "iopub.status.busy": "2022-10-06T12:08:57.814965Z",
     "iopub.status.idle": "2022-10-06T12:08:59.438541Z",
     "shell.execute_reply": "2022-10-06T12:08:59.435469Z"
    },
    "id": "230e53fa",
    "outputId": "092f0157-c3f4-4148-f213-f44928b2bc6e",
    "papermill": {
     "duration": 1.665898,
     "end_time": "2022-10-06T12:08:59.442222",
     "exception": false,
     "start_time": "2022-10-06T12:08:57.776324",
     "status": "completed"
    },
    "tags": []
   },
   "outputs": [
    {
     "data": {
      "text/plain": [
       "<AxesSubplot:>"
      ]
     },
     "execution_count": 69,
     "metadata": {},
     "output_type": "execute_result"
    },
    {
     "data": {
      "image/png": "[encoded data removed]",
      "text/plain": [
       "<Figure size 2304x720 with 2 Axes>"
      ]
     },
     "metadata": {
      "needs_background": "light"
     },
     "output_type": "display_data"
    }
   ],
   "source": [
    "#plt.figure(12,10)\n",
    "#sns.heatmap(data[data.corr().index].corr(),annot=True,cmap='RdYlGn')\n",
    "plt.figure(figsize=(32,10))\n",
    "sns.heatmap(data.corr(),annot=True,cmap='RdYlGn')"
   ]
  },
  {
   "cell_type": "code",
   "execution_count": 70,
   "id": "55fb7a63",
   "metadata": {
    "execution": {
     "iopub.execute_input": "2022-10-06T12:08:59.536125Z",
     "iopub.status.busy": "2022-10-06T12:08:59.535730Z",
     "iopub.status.idle": "2022-10-06T12:08:59.541086Z",
     "shell.execute_reply": "2022-10-06T12:08:59.539611Z"
    },
    "id": "78MsC9_Wn9Z7",
    "papermill": {
     "duration": 0.050538,
     "end_time": "2022-10-06T12:08:59.543828",
     "exception": false,
     "start_time": "2022-10-06T12:08:59.493290",
     "status": "completed"
    },
    "tags": []
   },
   "outputs": [],
   "source": [
    "# for col in data.columns:\n",
    "#     if data[col].dtypes!='O':\n",
    "#         sns.countplot(x=data[col])\n",
    "#         plt.show()"
   ]
  },
  {
   "cell_type": "code",
   "execution_count": 71,
   "id": "d7e3358c",
   "metadata": {
    "execution": {
     "iopub.execute_input": "2022-10-06T12:08:59.625319Z",
     "iopub.status.busy": "2022-10-06T12:08:59.624887Z",
     "iopub.status.idle": "2022-10-06T12:08:59.676096Z",
     "shell.execute_reply": "2022-10-06T12:08:59.674419Z"
    },
    "id": "2bTiU0-soGCe",
    "outputId": "7818ad1b-1924-489c-84fa-40bc04a6fe90",
    "papermill": {
     "duration": 0.097161,
     "end_time": "2022-10-06T12:08:59.680207",
     "exception": false,
     "start_time": "2022-10-06T12:08:59.583046",
     "status": "completed"
    },
    "tags": []
   },
   "outputs": [
    {
     "data": {
      "text/plain": [
       "Married           546619\n",
       "Single             94335\n",
       "Civil marriage     60342\n",
       "Separated          45255\n",
       "Widow              31164\n",
       "Name: NAME_FAMILY_STATUS, dtype: int64"
      ]
     },
     "execution_count": 71,
     "metadata": {},
     "output_type": "execute_result"
    }
   ],
   "source": [
    "data['NAME_FAMILY_STATUS'].value_counts()"
   ]
  },
  {
   "cell_type": "code",
   "execution_count": 72,
   "id": "304f066e",
   "metadata": {
    "execution": {
     "iopub.execute_input": "2022-10-06T12:08:59.762103Z",
     "iopub.status.busy": "2022-10-06T12:08:59.761256Z",
     "iopub.status.idle": "2022-10-06T12:09:00.354501Z",
     "shell.execute_reply": "2022-10-06T12:09:00.353277Z"
    },
    "id": "HbS-9OB1mP1m",
    "outputId": "a4418cd5-bc28-4bc5-86e3-4afdf1942671",
    "papermill": {
     "duration": 0.637171,
     "end_time": "2022-10-06T12:09:00.357398",
     "exception": false,
     "start_time": "2022-10-06T12:08:59.720227",
     "status": "completed"
    },
    "tags": []
   },
   "outputs": [
    {
     "data": {
      "text/plain": [
       "<matplotlib.legend.Legend at 0x7f68f7f9c1d0>"
      ]
     },
     "execution_count": 72,
     "metadata": {},
     "output_type": "execute_result"
    },
    {
     "data": {
      "image/png": "[encoded data removed]",
      "text/plain": [
       "<Figure size 720x864 with 1 Axes>"
      ]
     },
     "metadata": {},
     "output_type": "display_data"
    }
   ],
   "source": [
    "plt.figure(figsize=(10,12))\n",
    "e=(0.05,0.02,0,0,0)\n",
    "m=data['NAME_FAMILY_STATUS']=='Married'\n",
    "m=m.sum()\n",
    "s=data['NAME_FAMILY_STATUS']=='Single'\n",
    "s=s.sum()\n",
    "Cv=data['NAME_FAMILY_STATUS']=='Civil marriage'\n",
    "Cv=Cv.sum()\n",
    "sep=data['NAME_FAMILY_STATUS']=='Separated'\n",
    "sep=sep.sum()\n",
    "w=data['NAME_FAMILY_STATUS']=='Widow'\n",
    "w=w.sum()\n",
    "y=np.array([m,s,Cv,sep,w])\n",
    "label=['Married','Single','Civil marriage','Separated','Widow']\n",
    "plt.pie(y,explode=e,labels=label)\n",
    "plt.legend(title=\"Title\")"
   ]
  },
  {
   "cell_type": "markdown",
   "id": "ceb541ed",
   "metadata": {
    "id": "u2zTm7xXxAwo",
    "papermill": {
     "duration": 0.039539,
     "end_time": "2022-10-06T12:09:00.436034",
     "exception": false,
     "start_time": "2022-10-06T12:09:00.396495",
     "status": "completed"
    },
    "tags": []
   },
   "source": [
    "**From the above pie chart ,we conclude that majority of people are married so there expenses more than others.so, we can approve their credit card bcz they can use credit card regularly and in efficient manner for their expenses.**"
   ]
  },
  {
   "cell_type": "code",
   "execution_count": 73,
   "id": "e9ba2cb6",
   "metadata": {
    "execution": {
     "iopub.execute_input": "2022-10-06T12:09:00.518202Z",
     "iopub.status.busy": "2022-10-06T12:09:00.517787Z",
     "iopub.status.idle": "2022-10-06T12:09:00.537689Z",
     "shell.execute_reply": "2022-10-06T12:09:00.536402Z"
    },
    "id": "080e8285",
    "outputId": "3b95ca55-aca0-48c1-f44d-410941eee627",
    "papermill": {
     "duration": 0.063863,
     "end_time": "2022-10-06T12:09:00.540416",
     "exception": false,
     "start_time": "2022-10-06T12:09:00.476553",
     "status": "completed"
    },
    "tags": []
   },
   "outputs": [
    {
     "data": {
      "text/html": [
       "<div>\n",
       "<style scoped>\n",
       "    .dataframe tbody tr th:only-of-type {\n",
       "        vertical-align: middle;\n",
       "    }\n",
       "\n",
       "    .dataframe tbody tr th {\n",
       "        vertical-align: top;\n",
       "    }\n",
       "\n",
       "    .dataframe thead th {\n",
       "        text-align: right;\n",
       "    }\n",
       "</style>\n",
       "<table border=\"1\" class=\"dataframe\">\n",
       "  <thead>\n",
       "    <tr style=\"text-align: right;\">\n",
       "      <th></th>\n",
       "      <th>ID</th>\n",
       "      <th>CNT_CHILDREN</th>\n",
       "      <th>AMT_INCOME_TOTAL</th>\n",
       "      <th>NAME_INCOME_TYPE</th>\n",
       "      <th>NAME_EDUCATION_TYPE</th>\n",
       "      <th>NAME_FAMILY_STATUS</th>\n",
       "      <th>NAME_HOUSING_TYPE</th>\n",
       "      <th>Age</th>\n",
       "      <th>DAYS_EMPLOYED</th>\n",
       "      <th>FLAG_WORK_PHONE</th>\n",
       "      <th>FLAG_PHONE</th>\n",
       "      <th>FLAG_EMAIL</th>\n",
       "      <th>CNT_FAM_MEMBERS</th>\n",
       "      <th>MONTHS_BALANCE</th>\n",
       "      <th>STATUS</th>\n",
       "      <th>Target</th>\n",
       "    </tr>\n",
       "  </thead>\n",
       "  <tbody>\n",
       "    <tr>\n",
       "      <th>0</th>\n",
       "      <td>5008804</td>\n",
       "      <td>0</td>\n",
       "      <td>427500.0</td>\n",
       "      <td>Working</td>\n",
       "      <td>Higher education</td>\n",
       "      <td>Civil marriage</td>\n",
       "      <td>Rented apartment</td>\n",
       "      <td>33</td>\n",
       "      <td>12</td>\n",
       "      <td>1</td>\n",
       "      <td>0</td>\n",
       "      <td>0</td>\n",
       "      <td>2.0</td>\n",
       "      <td>0</td>\n",
       "      <td>6.0</td>\n",
       "      <td>0</td>\n",
       "    </tr>\n",
       "    <tr>\n",
       "      <th>1</th>\n",
       "      <td>5008804</td>\n",
       "      <td>0</td>\n",
       "      <td>427500.0</td>\n",
       "      <td>Working</td>\n",
       "      <td>Higher education</td>\n",
       "      <td>Civil marriage</td>\n",
       "      <td>Rented apartment</td>\n",
       "      <td>33</td>\n",
       "      <td>12</td>\n",
       "      <td>1</td>\n",
       "      <td>0</td>\n",
       "      <td>0</td>\n",
       "      <td>2.0</td>\n",
       "      <td>-1</td>\n",
       "      <td>6.0</td>\n",
       "      <td>0</td>\n",
       "    </tr>\n",
       "    <tr>\n",
       "      <th>2</th>\n",
       "      <td>5008804</td>\n",
       "      <td>0</td>\n",
       "      <td>427500.0</td>\n",
       "      <td>Working</td>\n",
       "      <td>Higher education</td>\n",
       "      <td>Civil marriage</td>\n",
       "      <td>Rented apartment</td>\n",
       "      <td>33</td>\n",
       "      <td>12</td>\n",
       "      <td>1</td>\n",
       "      <td>0</td>\n",
       "      <td>0</td>\n",
       "      <td>2.0</td>\n",
       "      <td>-2</td>\n",
       "      <td>6.0</td>\n",
       "      <td>0</td>\n",
       "    </tr>\n",
       "    <tr>\n",
       "      <th>3</th>\n",
       "      <td>5008804</td>\n",
       "      <td>0</td>\n",
       "      <td>427500.0</td>\n",
       "      <td>Working</td>\n",
       "      <td>Higher education</td>\n",
       "      <td>Civil marriage</td>\n",
       "      <td>Rented apartment</td>\n",
       "      <td>33</td>\n",
       "      <td>12</td>\n",
       "      <td>1</td>\n",
       "      <td>0</td>\n",
       "      <td>0</td>\n",
       "      <td>2.0</td>\n",
       "      <td>-3</td>\n",
       "      <td>6.0</td>\n",
       "      <td>0</td>\n",
       "    </tr>\n",
       "    <tr>\n",
       "      <th>4</th>\n",
       "      <td>5008804</td>\n",
       "      <td>0</td>\n",
       "      <td>427500.0</td>\n",
       "      <td>Working</td>\n",
       "      <td>Higher education</td>\n",
       "      <td>Civil marriage</td>\n",
       "      <td>Rented apartment</td>\n",
       "      <td>33</td>\n",
       "      <td>12</td>\n",
       "      <td>1</td>\n",
       "      <td>0</td>\n",
       "      <td>0</td>\n",
       "      <td>2.0</td>\n",
       "      <td>-4</td>\n",
       "      <td>6.0</td>\n",
       "      <td>0</td>\n",
       "    </tr>\n",
       "  </tbody>\n",
       "</table>\n",
       "</div>"
      ],
      "text/plain": [
       "        ID  CNT_CHILDREN  AMT_INCOME_TOTAL NAME_INCOME_TYPE  \\\n",
       "0  5008804             0          427500.0          Working   \n",
       "1  5008804             0          427500.0          Working   \n",
       "2  5008804             0          427500.0          Working   \n",
       "3  5008804             0          427500.0          Working   \n",
       "4  5008804             0          427500.0          Working   \n",
       "\n",
       "  NAME_EDUCATION_TYPE NAME_FAMILY_STATUS NAME_HOUSING_TYPE  Age  \\\n",
       "0    Higher education     Civil marriage  Rented apartment   33   \n",
       "1    Higher education     Civil marriage  Rented apartment   33   \n",
       "2    Higher education     Civil marriage  Rented apartment   33   \n",
       "3    Higher education     Civil marriage  Rented apartment   33   \n",
       "4    Higher education     Civil marriage  Rented apartment   33   \n",
       "\n",
       "   DAYS_EMPLOYED  FLAG_WORK_PHONE  FLAG_PHONE  FLAG_EMAIL  CNT_FAM_MEMBERS  \\\n",
       "0             12                1           0           0              2.0   \n",
       "1             12                1           0           0              2.0   \n",
       "2             12                1           0           0              2.0   \n",
       "3             12                1           0           0              2.0   \n",
       "4             12                1           0           0              2.0   \n",
       "\n",
       "   MONTHS_BALANCE  STATUS  Target  \n",
       "0               0     6.0       0  \n",
       "1              -1     6.0       0  \n",
       "2              -2     6.0       0  \n",
       "3              -3     6.0       0  \n",
       "4              -4     6.0       0  "
      ]
     },
     "execution_count": 73,
     "metadata": {},
     "output_type": "execute_result"
    }
   ],
   "source": [
    "data.head()"
   ]
  },
  {
   "cell_type": "code",
   "execution_count": 74,
   "id": "0bcfd8ab",
   "metadata": {
    "execution": {
     "iopub.execute_input": "2022-10-06T12:09:00.695286Z",
     "iopub.status.busy": "2022-10-06T12:09:00.694661Z",
     "iopub.status.idle": "2022-10-06T12:09:00.741380Z",
     "shell.execute_reply": "2022-10-06T12:09:00.740154Z"
    },
    "id": "cvYtzdkatBQQ",
    "outputId": "0fa75686-4587-4e77-a12f-582c78d73b67",
    "papermill": {
     "duration": 0.164289,
     "end_time": "2022-10-06T12:09:00.743973",
     "exception": false,
     "start_time": "2022-10-06T12:09:00.579684",
     "status": "completed"
    },
    "tags": []
   },
   "outputs": [
    {
     "data": {
      "text/plain": [
       "House / apartment      697151\n",
       "With parents            35735\n",
       "Municipal apartment     24640\n",
       "Rented apartment        10898\n",
       "Office apartment         5636\n",
       "Co-op apartment          3655\n",
       "Name: NAME_HOUSING_TYPE, dtype: int64"
      ]
     },
     "execution_count": 74,
     "metadata": {},
     "output_type": "execute_result"
    }
   ],
   "source": [
    "data['NAME_HOUSING_TYPE'].value_counts()"
   ]
  },
  {
   "cell_type": "code",
   "execution_count": 75,
   "id": "f6b71a5d",
   "metadata": {
    "execution": {
     "iopub.execute_input": "2022-10-06T12:09:00.825610Z",
     "iopub.status.busy": "2022-10-06T12:09:00.825186Z",
     "iopub.status.idle": "2022-10-06T12:09:01.447311Z",
     "shell.execute_reply": "2022-10-06T12:09:01.446403Z"
    },
    "id": "MHD-BuOUtOKu",
    "outputId": "6d25a1ca-6955-439b-c7ab-4aee56899e55",
    "papermill": {
     "duration": 0.666459,
     "end_time": "2022-10-06T12:09:01.449861",
     "exception": false,
     "start_time": "2022-10-06T12:09:00.783402",
     "status": "completed"
    },
    "tags": []
   },
   "outputs": [
    {
     "data": {
      "text/plain": [
       "<matplotlib.legend.Legend at 0x7f68f7f54a90>"
      ]
     },
     "execution_count": 75,
     "metadata": {},
     "output_type": "execute_result"
    },
    {
     "data": {
      "image/png": "[encoded data removed]",
      "text/plain": [
       "<Figure size 720x864 with 1 Axes>"
      ]
     },
     "metadata": {},
     "output_type": "display_data"
    }
   ],
   "source": [
    "plt.figure(figsize=(10,12))\n",
    "e=(0.05,0.02,0,0,0)\n",
    "m=data['NAME_HOUSING_TYPE']=='House / apartment'\n",
    "m=m.sum()\n",
    "s=data['NAME_HOUSING_TYPE']=='With parents'\n",
    "s=s.sum()\n",
    "Cv=data['NAME_HOUSING_TYPE']=='Rented apartment'\n",
    "Cv=Cv.sum()\n",
    "sep=data['NAME_HOUSING_TYPE']=='Office apartment'\n",
    "sep=sep.sum()\n",
    "w=data['NAME_HOUSING_TYPE']=='Co-op apartment'\n",
    "w=w.sum()\n",
    "y=np.array([m,s,Cv,sep,w])\n",
    "label=['House / apartment','With parents','Rented apartment','Office apartment','Co-op apartment']\n",
    "plt.pie(y,explode=e,labels=label)\n",
    "plt.legend(title=\"Title\")"
   ]
  },
  {
   "cell_type": "markdown",
   "id": "a850213d",
   "metadata": {
    "id": "vu2Vl45cwLDT",
    "papermill": {
     "duration": 0.040389,
     "end_time": "2022-10-06T12:09:01.531329",
     "exception": false,
     "start_time": "2022-10-06T12:09:01.490940",
     "status": "completed"
    },
    "tags": []
   },
   "source": [
    "**From this above pie chart , we conclude that most of the people lives in their own house or apartment.So There is a high chance that they are able to pay their bills on time ,so we can approve their credit card**"
   ]
  },
  {
   "cell_type": "code",
   "execution_count": 76,
   "id": "80e4eadd",
   "metadata": {
    "execution": {
     "iopub.execute_input": "2022-10-06T12:09:01.617533Z",
     "iopub.status.busy": "2022-10-06T12:09:01.616730Z",
     "iopub.status.idle": "2022-10-06T12:09:01.621891Z",
     "shell.execute_reply": "2022-10-06T12:09:01.620919Z"
    },
    "id": "zI-1ZSG2-fb7",
    "papermill": {
     "duration": 0.050659,
     "end_time": "2022-10-06T12:09:01.624236",
     "exception": false,
     "start_time": "2022-10-06T12:09:01.573577",
     "status": "completed"
    },
    "tags": []
   },
   "outputs": [],
   "source": [
    "#  x=data['Age']\n",
    "#  y=data['DAYS_EMPLOYED']\n",
    "#  plt.bar(x,y)"
   ]
  },
  {
   "cell_type": "code",
   "execution_count": 77,
   "id": "f4dd3a0f",
   "metadata": {
    "execution": {
     "iopub.execute_input": "2022-10-06T12:09:01.707490Z",
     "iopub.status.busy": "2022-10-06T12:09:01.706752Z",
     "iopub.status.idle": "2022-10-06T12:09:27.641661Z",
     "shell.execute_reply": "2022-10-06T12:09:27.640229Z"
    },
    "id": "c2ddc1e4",
    "outputId": "eeb273c1-6ddf-48f9-b218-5f0a8442ddf9",
    "papermill": {
     "duration": 25.980197,
     "end_time": "2022-10-06T12:09:27.644756",
     "exception": false,
     "start_time": "2022-10-06T12:09:01.664559",
     "status": "completed"
    },
    "tags": []
   },
   "outputs": [
    {
     "data": {
      "image/png": "[encoded data removed]",
      "text/plain": [
       "<Figure size 432x288 with 1 Axes>"
      ]
     },
     "metadata": {
      "needs_background": "light"
     },
     "output_type": "display_data"
    },
    {
     "data": {
      "image/png": "[encoded data removed]",
      "text/plain": [
       "<Figure size 432x288 with 1 Axes>"
      ]
     },
     "metadata": {
      "needs_background": "light"
     },
     "output_type": "display_data"
    },
    {
     "data": {
      "image/png": "[encoded data removed]",
      "text/plain": [
       "<Figure size 432x288 with 1 Axes>"
      ]
     },
     "metadata": {
      "needs_background": "light"
     },
     "output_type": "display_data"
    },
    {
     "data": {
      "image/png": "[encoded data removed]",
      "text/plain": [
       "<Figure size 432x288 with 1 Axes>"
      ]
     },
     "metadata": {
      "needs_background": "light"
     },
     "output_type": "display_data"
    },
    {
     "data": {
      "image/png": "[encoded data removed]",
      "text/plain": [
       "<Figure size 432x288 with 1 Axes>"
      ]
     },
     "metadata": {
      "needs_background": "light"
     },
     "output_type": "display_data"
    },
    {
     "data": {
      "image/png": "[encoded data removed]",
      "text/plain": [
       "<Figure size 432x288 with 1 Axes>"
      ]
     },
     "metadata": {
      "needs_background": "light"
     },
     "output_type": "display_data"
    },
    {
     "data": {
      "image/png": "[encoded data removed]",
      "text/plain": [
       "<Figure size 432x288 with 1 Axes>"
      ]
     },
     "metadata": {
      "needs_background": "light"
     },
     "output_type": "display_data"
    },
    {
     "data": {
      "image/png": "[encoded data removed]",
      "text/plain": [
       "<Figure size 432x288 with 1 Axes>"
      ]
     },
     "metadata": {
      "needs_background": "light"
     },
     "output_type": "display_data"
    },
    {
     "data": {
      "image/png": "[encoded data removed]",
      "text/plain": [
       "<Figure size 432x288 with 1 Axes>"
      ]
     },
     "metadata": {
      "needs_background": "light"
     },
     "output_type": "display_data"
    },
    {
     "data": {
      "image/png": "[encoded data removed]",
      "text/plain": [
       "<Figure size 432x288 with 1 Axes>"
      ]
     },
     "metadata": {
      "needs_background": "light"
     },
     "output_type": "display_data"
    },
    {
     "data": {
      "image/png": "[encoded data removed]",
      "text/plain": [
       "<Figure size 432x288 with 1 Axes>"
      ]
     },
     "metadata": {
      "needs_background": "light"
     },
     "output_type": "display_data"
    },
    {
     "data": {
      "image/png": "[encoded data removed]",
      "text/plain": [
       "<Figure size 432x288 with 1 Axes>"
      ]
     },
     "metadata": {
      "needs_background": "light"
     },
     "output_type": "display_data"
    },
    {
     "data": {
      "image/png": "[encoded data removed]",
      "text/plain": [
       "<Figure size 432x288 with 1 Axes>"
      ]
     },
     "metadata": {
      "needs_background": "light"
     },
     "output_type": "display_data"
    },
    {
     "data": {
      "image/png": "[encoded data removed]",
      "text/plain": [
       "<Figure size 432x288 with 1 Axes>"
      ]
     },
     "metadata": {
      "needs_background": "light"
     },
     "output_type": "display_data"
    },
    {
     "data": {
      "image/png": "[encoded data removed]",
      "text/plain": [
       "<Figure size 432x288 with 1 Axes>"
      ]
     },
     "metadata": {
      "needs_background": "light"
     },
     "output_type": "display_data"
    }
   ],
   "source": [
    "for feature in data.columns:\n",
    "    if feature!='STATUS':\n",
    "                dataset=data.copy()\n",
    "                plt.scatter(dataset[feature],dataset['STATUS'])\n",
    "                plt.xlabel(feature)\n",
    "                plt.ylabel('Status')\n",
    "                plt.show()"
   ]
  },
  {
   "cell_type": "markdown",
   "id": "e3de7945",
   "metadata": {
    "id": "Yw-x_cVO-GiS",
    "papermill": {
     "duration": 0.044011,
     "end_time": "2022-10-06T12:09:27.734272",
     "exception": false,
     "start_time": "2022-10-06T12:09:27.690261",
     "status": "completed"
    },
    "tags": []
   },
   "source": [
    "# Feature Scaling"
   ]
  },
  {
   "cell_type": "code",
   "execution_count": 78,
   "id": "08686ba9",
   "metadata": {
    "execution": {
     "iopub.execute_input": "2022-10-06T12:09:27.824926Z",
     "iopub.status.busy": "2022-10-06T12:09:27.824507Z",
     "iopub.status.idle": "2022-10-06T12:09:27.845263Z",
     "shell.execute_reply": "2022-10-06T12:09:27.844038Z"
    },
    "id": "DbvcQzAa-NZR",
    "outputId": "177278a1-4850-4870-d99e-d6d251c158cc",
    "papermill": {
     "duration": 0.069006,
     "end_time": "2022-10-06T12:09:27.847737",
     "exception": false,
     "start_time": "2022-10-06T12:09:27.778731",
     "status": "completed"
    },
    "tags": []
   },
   "outputs": [
    {
     "data": {
      "text/html": [
       "<div>\n",
       "<style scoped>\n",
       "    .dataframe tbody tr th:only-of-type {\n",
       "        vertical-align: middle;\n",
       "    }\n",
       "\n",
       "    .dataframe tbody tr th {\n",
       "        vertical-align: top;\n",
       "    }\n",
       "\n",
       "    .dataframe thead th {\n",
       "        text-align: right;\n",
       "    }\n",
       "</style>\n",
       "<table border=\"1\" class=\"dataframe\">\n",
       "  <thead>\n",
       "    <tr style=\"text-align: right;\">\n",
       "      <th></th>\n",
       "      <th>ID</th>\n",
       "      <th>CNT_CHILDREN</th>\n",
       "      <th>AMT_INCOME_TOTAL</th>\n",
       "      <th>NAME_INCOME_TYPE</th>\n",
       "      <th>NAME_EDUCATION_TYPE</th>\n",
       "      <th>NAME_FAMILY_STATUS</th>\n",
       "      <th>NAME_HOUSING_TYPE</th>\n",
       "      <th>Age</th>\n",
       "      <th>DAYS_EMPLOYED</th>\n",
       "      <th>FLAG_WORK_PHONE</th>\n",
       "      <th>FLAG_PHONE</th>\n",
       "      <th>FLAG_EMAIL</th>\n",
       "      <th>CNT_FAM_MEMBERS</th>\n",
       "      <th>MONTHS_BALANCE</th>\n",
       "      <th>STATUS</th>\n",
       "      <th>Target</th>\n",
       "    </tr>\n",
       "  </thead>\n",
       "  <tbody>\n",
       "    <tr>\n",
       "      <th>0</th>\n",
       "      <td>5008804</td>\n",
       "      <td>0</td>\n",
       "      <td>427500.0</td>\n",
       "      <td>Working</td>\n",
       "      <td>Higher education</td>\n",
       "      <td>Civil marriage</td>\n",
       "      <td>Rented apartment</td>\n",
       "      <td>33</td>\n",
       "      <td>12</td>\n",
       "      <td>1</td>\n",
       "      <td>0</td>\n",
       "      <td>0</td>\n",
       "      <td>2.0</td>\n",
       "      <td>0</td>\n",
       "      <td>6.0</td>\n",
       "      <td>0</td>\n",
       "    </tr>\n",
       "    <tr>\n",
       "      <th>1</th>\n",
       "      <td>5008804</td>\n",
       "      <td>0</td>\n",
       "      <td>427500.0</td>\n",
       "      <td>Working</td>\n",
       "      <td>Higher education</td>\n",
       "      <td>Civil marriage</td>\n",
       "      <td>Rented apartment</td>\n",
       "      <td>33</td>\n",
       "      <td>12</td>\n",
       "      <td>1</td>\n",
       "      <td>0</td>\n",
       "      <td>0</td>\n",
       "      <td>2.0</td>\n",
       "      <td>-1</td>\n",
       "      <td>6.0</td>\n",
       "      <td>0</td>\n",
       "    </tr>\n",
       "    <tr>\n",
       "      <th>2</th>\n",
       "      <td>5008804</td>\n",
       "      <td>0</td>\n",
       "      <td>427500.0</td>\n",
       "      <td>Working</td>\n",
       "      <td>Higher education</td>\n",
       "      <td>Civil marriage</td>\n",
       "      <td>Rented apartment</td>\n",
       "      <td>33</td>\n",
       "      <td>12</td>\n",
       "      <td>1</td>\n",
       "      <td>0</td>\n",
       "      <td>0</td>\n",
       "      <td>2.0</td>\n",
       "      <td>-2</td>\n",
       "      <td>6.0</td>\n",
       "      <td>0</td>\n",
       "    </tr>\n",
       "    <tr>\n",
       "      <th>3</th>\n",
       "      <td>5008804</td>\n",
       "      <td>0</td>\n",
       "      <td>427500.0</td>\n",
       "      <td>Working</td>\n",
       "      <td>Higher education</td>\n",
       "      <td>Civil marriage</td>\n",
       "      <td>Rented apartment</td>\n",
       "      <td>33</td>\n",
       "      <td>12</td>\n",
       "      <td>1</td>\n",
       "      <td>0</td>\n",
       "      <td>0</td>\n",
       "      <td>2.0</td>\n",
       "      <td>-3</td>\n",
       "      <td>6.0</td>\n",
       "      <td>0</td>\n",
       "    </tr>\n",
       "    <tr>\n",
       "      <th>4</th>\n",
       "      <td>5008804</td>\n",
       "      <td>0</td>\n",
       "      <td>427500.0</td>\n",
       "      <td>Working</td>\n",
       "      <td>Higher education</td>\n",
       "      <td>Civil marriage</td>\n",
       "      <td>Rented apartment</td>\n",
       "      <td>33</td>\n",
       "      <td>12</td>\n",
       "      <td>1</td>\n",
       "      <td>0</td>\n",
       "      <td>0</td>\n",
       "      <td>2.0</td>\n",
       "      <td>-4</td>\n",
       "      <td>6.0</td>\n",
       "      <td>0</td>\n",
       "    </tr>\n",
       "  </tbody>\n",
       "</table>\n",
       "</div>"
      ],
      "text/plain": [
       "        ID  CNT_CHILDREN  AMT_INCOME_TOTAL NAME_INCOME_TYPE  \\\n",
       "0  5008804             0          427500.0          Working   \n",
       "1  5008804             0          427500.0          Working   \n",
       "2  5008804             0          427500.0          Working   \n",
       "3  5008804             0          427500.0          Working   \n",
       "4  5008804             0          427500.0          Working   \n",
       "\n",
       "  NAME_EDUCATION_TYPE NAME_FAMILY_STATUS NAME_HOUSING_TYPE  Age  \\\n",
       "0    Higher education     Civil marriage  Rented apartment   33   \n",
       "1    Higher education     Civil marriage  Rented apartment   33   \n",
       "2    Higher education     Civil marriage  Rented apartment   33   \n",
       "3    Higher education     Civil marriage  Rented apartment   33   \n",
       "4    Higher education     Civil marriage  Rented apartment   33   \n",
       "\n",
       "   DAYS_EMPLOYED  FLAG_WORK_PHONE  FLAG_PHONE  FLAG_EMAIL  CNT_FAM_MEMBERS  \\\n",
       "0             12                1           0           0              2.0   \n",
       "1             12                1           0           0              2.0   \n",
       "2             12                1           0           0              2.0   \n",
       "3             12                1           0           0              2.0   \n",
       "4             12                1           0           0              2.0   \n",
       "\n",
       "   MONTHS_BALANCE  STATUS  Target  \n",
       "0               0     6.0       0  \n",
       "1              -1     6.0       0  \n",
       "2              -2     6.0       0  \n",
       "3              -3     6.0       0  \n",
       "4              -4     6.0       0  "
      ]
     },
     "execution_count": 78,
     "metadata": {},
     "output_type": "execute_result"
    }
   ],
   "source": [
    "# let's make all data in one scale,for that we have to first change the categorical data to numrical data .\n",
    "data.head()"
   ]
  },
  {
   "cell_type": "code",
   "execution_count": 79,
   "id": "25ffa6f3",
   "metadata": {
    "execution": {
     "iopub.execute_input": "2022-10-06T12:09:27.942056Z",
     "iopub.status.busy": "2022-10-06T12:09:27.941674Z",
     "iopub.status.idle": "2022-10-06T12:09:27.948548Z",
     "shell.execute_reply": "2022-10-06T12:09:27.947628Z"
    },
    "id": "Wh5RAxjH-mX8",
    "papermill": {
     "duration": 0.057251,
     "end_time": "2022-10-06T12:09:27.951152",
     "exception": false,
     "start_time": "2022-10-06T12:09:27.893901",
     "status": "completed"
    },
    "tags": []
   },
   "outputs": [],
   "source": [
    "## Let's formed a dictionary\n",
    "lst = {'Working':1,'Commercial associate':2,'Pensioner':3,'State servant':4,'Student':5}\n",
    "lst1 = {'Secondary':1,'Higher education':2,'Incomplete higher':3,'Lower secondary':4,'Academic degree':5}\n",
    "lst2 = {'Married':1,'Single':2,'Civil marriage':3,'Separated':4,'Widow':5}\n",
    "lst3 = {'House / apartment':1,'With parents':2,'Municipal apartment':3,'Rented apartment':4,'Office apartment':5,'Co-op apartment':6}\n"
   ]
  },
  {
   "cell_type": "code",
   "execution_count": 80,
   "id": "689067f1",
   "metadata": {
    "execution": {
     "iopub.execute_input": "2022-10-06T12:09:28.043128Z",
     "iopub.status.busy": "2022-10-06T12:09:28.042731Z",
     "iopub.status.idle": "2022-10-06T12:09:29.618764Z",
     "shell.execute_reply": "2022-10-06T12:09:29.617068Z"
    },
    "id": "4g3VocrW_mo8",
    "papermill": {
     "duration": 1.625973,
     "end_time": "2022-10-06T12:09:29.622022",
     "exception": false,
     "start_time": "2022-10-06T12:09:27.996049",
     "status": "completed"
    },
    "tags": []
   },
   "outputs": [],
   "source": [
    "#lets replace it into numerical value\n",
    "data.replace({'NAME_INCOME_TYPE':lst},inplace=True)\n",
    "data.replace({'NAME_EDUCATION_TYPE':lst1},inplace=True)\n",
    "data.replace({'NAME_FAMILY_STATUS':lst2},inplace=True)\n",
    "data.replace({'NAME_HOUSING_TYPE':lst3},inplace=True)"
   ]
  },
  {
   "cell_type": "code",
   "execution_count": 81,
   "id": "8a7702e7",
   "metadata": {
    "execution": {
     "iopub.execute_input": "2022-10-06T12:09:29.721135Z",
     "iopub.status.busy": "2022-10-06T12:09:29.720671Z",
     "iopub.status.idle": "2022-10-06T12:09:29.725716Z",
     "shell.execute_reply": "2022-10-06T12:09:29.724557Z"
    },
    "id": "ttg7jQJ__ux5",
    "papermill": {
     "duration": 0.056484,
     "end_time": "2022-10-06T12:09:29.728099",
     "exception": false,
     "start_time": "2022-10-06T12:09:29.671615",
     "status": "completed"
    },
    "tags": []
   },
   "outputs": [],
   "source": [
    "#data.drop('OCCUPATION_TYPE',axis=1,inplace=True)"
   ]
  },
  {
   "cell_type": "code",
   "execution_count": 82,
   "id": "d7c51726",
   "metadata": {
    "execution": {
     "iopub.execute_input": "2022-10-06T12:09:29.826921Z",
     "iopub.status.busy": "2022-10-06T12:09:29.826330Z",
     "iopub.status.idle": "2022-10-06T12:09:29.847198Z",
     "shell.execute_reply": "2022-10-06T12:09:29.845806Z"
    },
    "id": "TzfTh0lF_8Rw",
    "outputId": "9b071ebb-1b20-4335-9e5f-60f294a09678",
    "papermill": {
     "duration": 0.073219,
     "end_time": "2022-10-06T12:09:29.849919",
     "exception": false,
     "start_time": "2022-10-06T12:09:29.776700",
     "status": "completed"
    },
    "tags": []
   },
   "outputs": [
    {
     "data": {
      "text/html": [
       "<div>\n",
       "<style scoped>\n",
       "    .dataframe tbody tr th:only-of-type {\n",
       "        vertical-align: middle;\n",
       "    }\n",
       "\n",
       "    .dataframe tbody tr th {\n",
       "        vertical-align: top;\n",
       "    }\n",
       "\n",
       "    .dataframe thead th {\n",
       "        text-align: right;\n",
       "    }\n",
       "</style>\n",
       "<table border=\"1\" class=\"dataframe\">\n",
       "  <thead>\n",
       "    <tr style=\"text-align: right;\">\n",
       "      <th></th>\n",
       "      <th>ID</th>\n",
       "      <th>CNT_CHILDREN</th>\n",
       "      <th>AMT_INCOME_TOTAL</th>\n",
       "      <th>NAME_INCOME_TYPE</th>\n",
       "      <th>NAME_EDUCATION_TYPE</th>\n",
       "      <th>NAME_FAMILY_STATUS</th>\n",
       "      <th>NAME_HOUSING_TYPE</th>\n",
       "      <th>Age</th>\n",
       "      <th>DAYS_EMPLOYED</th>\n",
       "      <th>FLAG_WORK_PHONE</th>\n",
       "      <th>FLAG_PHONE</th>\n",
       "      <th>FLAG_EMAIL</th>\n",
       "      <th>CNT_FAM_MEMBERS</th>\n",
       "      <th>MONTHS_BALANCE</th>\n",
       "      <th>STATUS</th>\n",
       "      <th>Target</th>\n",
       "    </tr>\n",
       "  </thead>\n",
       "  <tbody>\n",
       "    <tr>\n",
       "      <th>0</th>\n",
       "      <td>5008804</td>\n",
       "      <td>0</td>\n",
       "      <td>427500.0</td>\n",
       "      <td>1</td>\n",
       "      <td>2</td>\n",
       "      <td>3</td>\n",
       "      <td>4</td>\n",
       "      <td>33</td>\n",
       "      <td>12</td>\n",
       "      <td>1</td>\n",
       "      <td>0</td>\n",
       "      <td>0</td>\n",
       "      <td>2.0</td>\n",
       "      <td>0</td>\n",
       "      <td>6.0</td>\n",
       "      <td>0</td>\n",
       "    </tr>\n",
       "    <tr>\n",
       "      <th>1</th>\n",
       "      <td>5008804</td>\n",
       "      <td>0</td>\n",
       "      <td>427500.0</td>\n",
       "      <td>1</td>\n",
       "      <td>2</td>\n",
       "      <td>3</td>\n",
       "      <td>4</td>\n",
       "      <td>33</td>\n",
       "      <td>12</td>\n",
       "      <td>1</td>\n",
       "      <td>0</td>\n",
       "      <td>0</td>\n",
       "      <td>2.0</td>\n",
       "      <td>-1</td>\n",
       "      <td>6.0</td>\n",
       "      <td>0</td>\n",
       "    </tr>\n",
       "    <tr>\n",
       "      <th>2</th>\n",
       "      <td>5008804</td>\n",
       "      <td>0</td>\n",
       "      <td>427500.0</td>\n",
       "      <td>1</td>\n",
       "      <td>2</td>\n",
       "      <td>3</td>\n",
       "      <td>4</td>\n",
       "      <td>33</td>\n",
       "      <td>12</td>\n",
       "      <td>1</td>\n",
       "      <td>0</td>\n",
       "      <td>0</td>\n",
       "      <td>2.0</td>\n",
       "      <td>-2</td>\n",
       "      <td>6.0</td>\n",
       "      <td>0</td>\n",
       "    </tr>\n",
       "    <tr>\n",
       "      <th>3</th>\n",
       "      <td>5008804</td>\n",
       "      <td>0</td>\n",
       "      <td>427500.0</td>\n",
       "      <td>1</td>\n",
       "      <td>2</td>\n",
       "      <td>3</td>\n",
       "      <td>4</td>\n",
       "      <td>33</td>\n",
       "      <td>12</td>\n",
       "      <td>1</td>\n",
       "      <td>0</td>\n",
       "      <td>0</td>\n",
       "      <td>2.0</td>\n",
       "      <td>-3</td>\n",
       "      <td>6.0</td>\n",
       "      <td>0</td>\n",
       "    </tr>\n",
       "    <tr>\n",
       "      <th>4</th>\n",
       "      <td>5008804</td>\n",
       "      <td>0</td>\n",
       "      <td>427500.0</td>\n",
       "      <td>1</td>\n",
       "      <td>2</td>\n",
       "      <td>3</td>\n",
       "      <td>4</td>\n",
       "      <td>33</td>\n",
       "      <td>12</td>\n",
       "      <td>1</td>\n",
       "      <td>0</td>\n",
       "      <td>0</td>\n",
       "      <td>2.0</td>\n",
       "      <td>-4</td>\n",
       "      <td>6.0</td>\n",
       "      <td>0</td>\n",
       "    </tr>\n",
       "  </tbody>\n",
       "</table>\n",
       "</div>"
      ],
      "text/plain": [
       "        ID  CNT_CHILDREN  AMT_INCOME_TOTAL  NAME_INCOME_TYPE  \\\n",
       "0  5008804             0          427500.0                 1   \n",
       "1  5008804             0          427500.0                 1   \n",
       "2  5008804             0          427500.0                 1   \n",
       "3  5008804             0          427500.0                 1   \n",
       "4  5008804             0          427500.0                 1   \n",
       "\n",
       "   NAME_EDUCATION_TYPE  NAME_FAMILY_STATUS  NAME_HOUSING_TYPE  Age  \\\n",
       "0                    2                   3                  4   33   \n",
       "1                    2                   3                  4   33   \n",
       "2                    2                   3                  4   33   \n",
       "3                    2                   3                  4   33   \n",
       "4                    2                   3                  4   33   \n",
       "\n",
       "   DAYS_EMPLOYED  FLAG_WORK_PHONE  FLAG_PHONE  FLAG_EMAIL  CNT_FAM_MEMBERS  \\\n",
       "0             12                1           0           0              2.0   \n",
       "1             12                1           0           0              2.0   \n",
       "2             12                1           0           0              2.0   \n",
       "3             12                1           0           0              2.0   \n",
       "4             12                1           0           0              2.0   \n",
       "\n",
       "   MONTHS_BALANCE  STATUS  Target  \n",
       "0               0     6.0       0  \n",
       "1              -1     6.0       0  \n",
       "2              -2     6.0       0  \n",
       "3              -3     6.0       0  \n",
       "4              -4     6.0       0  "
      ]
     },
     "execution_count": 82,
     "metadata": {},
     "output_type": "execute_result"
    }
   ],
   "source": [
    "data.head()"
   ]
  },
  {
   "cell_type": "code",
   "execution_count": 83,
   "id": "8e1df281",
   "metadata": {
    "execution": {
     "iopub.execute_input": "2022-10-06T12:09:29.948210Z",
     "iopub.status.busy": "2022-10-06T12:09:29.947476Z",
     "iopub.status.idle": "2022-10-06T12:09:29.984080Z",
     "shell.execute_reply": "2022-10-06T12:09:29.982901Z"
    },
    "id": "GXdmggRmC-Vz",
    "outputId": "4981ceb3-0ec7-4b0d-f703-3381a6dd5296",
    "papermill": {
     "duration": 0.091831,
     "end_time": "2022-10-06T12:09:29.988915",
     "exception": false,
     "start_time": "2022-10-06T12:09:29.897084",
     "status": "completed"
    },
    "tags": []
   },
   "outputs": [
    {
     "name": "stdout",
     "output_type": "stream",
     "text": [
      "<class 'pandas.core.frame.DataFrame'>\n",
      "Int64Index: 777715 entries, 0 to 777714\n",
      "Data columns (total 16 columns):\n",
      " #   Column               Non-Null Count   Dtype  \n",
      "---  ------               --------------   -----  \n",
      " 0   ID                   777715 non-null  int64  \n",
      " 1   CNT_CHILDREN         777715 non-null  int64  \n",
      " 2   AMT_INCOME_TOTAL     777715 non-null  float64\n",
      " 3   NAME_INCOME_TYPE     777715 non-null  int64  \n",
      " 4   NAME_EDUCATION_TYPE  777715 non-null  int64  \n",
      " 5   NAME_FAMILY_STATUS   777715 non-null  int64  \n",
      " 6   NAME_HOUSING_TYPE    777715 non-null  int64  \n",
      " 7   Age                  777715 non-null  int64  \n",
      " 8   DAYS_EMPLOYED        777715 non-null  int64  \n",
      " 9   FLAG_WORK_PHONE      777715 non-null  int64  \n",
      " 10  FLAG_PHONE           777715 non-null  int64  \n",
      " 11  FLAG_EMAIL           777715 non-null  int64  \n",
      " 12  CNT_FAM_MEMBERS      777715 non-null  float64\n",
      " 13  MONTHS_BALANCE       777715 non-null  int64  \n",
      " 14  STATUS               777715 non-null  float64\n",
      " 15  Target               777715 non-null  int64  \n",
      "dtypes: float64(3), int64(13)\n",
      "memory usage: 100.9 MB\n"
     ]
    }
   ],
   "source": [
    "data.info()"
   ]
  },
  {
   "cell_type": "markdown",
   "id": "6845c011",
   "metadata": {
    "id": "v7F0wSTs8Mw7",
    "papermill": {
     "duration": 0.052617,
     "end_time": "2022-10-06T12:09:30.093485",
     "exception": false,
     "start_time": "2022-10-06T12:09:30.040868",
     "status": "completed"
    },
    "tags": []
   },
   "source": [
    "**We can see that our all data in float or in int data types.Now we ready to apply FeatureScaling on our data.**"
   ]
  },
  {
   "cell_type": "code",
   "execution_count": 84,
   "id": "e9deb620",
   "metadata": {
    "execution": {
     "iopub.execute_input": "2022-10-06T12:09:30.197927Z",
     "iopub.status.busy": "2022-10-06T12:09:30.196673Z",
     "iopub.status.idle": "2022-10-06T12:09:30.297299Z",
     "shell.execute_reply": "2022-10-06T12:09:30.295002Z"
    },
    "id": "XdgHzrOrBE1W",
    "papermill": {
     "duration": 0.156173,
     "end_time": "2022-10-06T12:09:30.300794",
     "exception": false,
     "start_time": "2022-10-06T12:09:30.144621",
     "status": "completed"
    },
    "tags": []
   },
   "outputs": [],
   "source": [
    "x=data.drop('Target',axis=1)\n",
    "y=data['Target']"
   ]
  },
  {
   "cell_type": "code",
   "execution_count": 85,
   "id": "80917e2b",
   "metadata": {
    "execution": {
     "iopub.execute_input": "2022-10-06T12:09:30.400042Z",
     "iopub.status.busy": "2022-10-06T12:09:30.399600Z",
     "iopub.status.idle": "2022-10-06T12:09:30.670994Z",
     "shell.execute_reply": "2022-10-06T12:09:30.669730Z"
    },
    "id": "R9rE8K1Q_95P",
    "outputId": "d2f279a2-435e-48a5-8166-da2ff91e8ffe",
    "papermill": {
     "duration": 0.322311,
     "end_time": "2022-10-06T12:09:30.673885",
     "exception": false,
     "start_time": "2022-10-06T12:09:30.351574",
     "status": "completed"
    },
    "tags": []
   },
   "outputs": [
    {
     "data": {
      "text/plain": [
       "MinMaxScaler()"
      ]
     },
     "execution_count": 85,
     "metadata": {},
     "output_type": "execute_result"
    }
   ],
   "source": [
    "feature_scale = [feature for feature in data.columns if feature!='Target']\n",
    "## Importing library \n",
    "from sklearn.preprocessing import MinMaxScaler\n",
    "scaler=MinMaxScaler()\n",
    "scaler.fit(x)"
   ]
  },
  {
   "cell_type": "code",
   "execution_count": 86,
   "id": "ffaa0f66",
   "metadata": {
    "execution": {
     "iopub.execute_input": "2022-10-06T12:09:30.772611Z",
     "iopub.status.busy": "2022-10-06T12:09:30.771747Z",
     "iopub.status.idle": "2022-10-06T12:09:30.885773Z",
     "shell.execute_reply": "2022-10-06T12:09:30.884426Z"
    },
    "id": "2QpsqFAwBiOy",
    "outputId": "b5563f12-36e8-4e7a-b0d5-9e52df677c8c",
    "papermill": {
     "duration": 0.166312,
     "end_time": "2022-10-06T12:09:30.888264",
     "exception": false,
     "start_time": "2022-10-06T12:09:30.721952",
     "status": "completed"
    },
    "tags": []
   },
   "outputs": [
    {
     "data": {
      "text/plain": [
       "array([[0.        , 0.        , 0.25872093, ..., 0.05263158, 1.        ,\n",
       "        0.85714286],\n",
       "       [0.        , 0.        , 0.25872093, ..., 0.05263158, 0.98333333,\n",
       "        0.85714286],\n",
       "       [0.        , 0.        , 0.25872093, ..., 0.05263158, 0.96666667,\n",
       "        0.85714286],\n",
       "       ...,\n",
       "       [0.9989413 , 0.        , 0.05523256, ..., 0.        , 0.81666667,\n",
       "        0.14285714],\n",
       "       [0.9989413 , 0.        , 0.05523256, ..., 0.        , 0.8       ,\n",
       "        0.        ],\n",
       "       [0.9989413 , 0.        , 0.05523256, ..., 0.        , 0.78333333,\n",
       "        0.        ]])"
      ]
     },
     "execution_count": 86,
     "metadata": {},
     "output_type": "execute_result"
    }
   ],
   "source": [
    "scaler.transform(x)"
   ]
  },
  {
   "cell_type": "code",
   "execution_count": 87,
   "id": "b8377eeb",
   "metadata": {
    "execution": {
     "iopub.execute_input": "2022-10-06T12:09:30.985694Z",
     "iopub.status.busy": "2022-10-06T12:09:30.985184Z",
     "iopub.status.idle": "2022-10-06T12:09:31.141265Z",
     "shell.execute_reply": "2022-10-06T12:09:31.140068Z"
    },
    "id": "fGfB9yQKEM54",
    "papermill": {
     "duration": 0.208531,
     "end_time": "2022-10-06T12:09:31.144369",
     "exception": false,
     "start_time": "2022-10-06T12:09:30.935838",
     "status": "completed"
    },
    "tags": []
   },
   "outputs": [],
   "source": [
    "data = pd.concat([data['Target'].reset_index(drop=True),\n",
    "                    pd.DataFrame(scaler.transform(x), columns=feature_scale)],\n",
    "                    axis=1)"
   ]
  },
  {
   "cell_type": "code",
   "execution_count": 88,
   "id": "291c3128",
   "metadata": {
    "execution": {
     "iopub.execute_input": "2022-10-06T12:09:31.238210Z",
     "iopub.status.busy": "2022-10-06T12:09:31.237779Z",
     "iopub.status.idle": "2022-10-06T12:09:31.260736Z",
     "shell.execute_reply": "2022-10-06T12:09:31.259849Z"
    },
    "id": "3v29RVeKEqLx",
    "outputId": "03b153a8-9e0b-49ba-e90f-65f28ed5a4c7",
    "papermill": {
     "duration": 0.073589,
     "end_time": "2022-10-06T12:09:31.263281",
     "exception": false,
     "start_time": "2022-10-06T12:09:31.189692",
     "status": "completed"
    },
    "tags": []
   },
   "outputs": [
    {
     "data": {
      "text/html": [
       "<div>\n",
       "<style scoped>\n",
       "    .dataframe tbody tr th:only-of-type {\n",
       "        vertical-align: middle;\n",
       "    }\n",
       "\n",
       "    .dataframe tbody tr th {\n",
       "        vertical-align: top;\n",
       "    }\n",
       "\n",
       "    .dataframe thead th {\n",
       "        text-align: right;\n",
       "    }\n",
       "</style>\n",
       "<table border=\"1\" class=\"dataframe\">\n",
       "  <thead>\n",
       "    <tr style=\"text-align: right;\">\n",
       "      <th></th>\n",
       "      <th>Target</th>\n",
       "      <th>ID</th>\n",
       "      <th>CNT_CHILDREN</th>\n",
       "      <th>AMT_INCOME_TOTAL</th>\n",
       "      <th>NAME_INCOME_TYPE</th>\n",
       "      <th>NAME_EDUCATION_TYPE</th>\n",
       "      <th>NAME_FAMILY_STATUS</th>\n",
       "      <th>NAME_HOUSING_TYPE</th>\n",
       "      <th>Age</th>\n",
       "      <th>DAYS_EMPLOYED</th>\n",
       "      <th>FLAG_WORK_PHONE</th>\n",
       "      <th>FLAG_PHONE</th>\n",
       "      <th>FLAG_EMAIL</th>\n",
       "      <th>CNT_FAM_MEMBERS</th>\n",
       "      <th>MONTHS_BALANCE</th>\n",
       "      <th>STATUS</th>\n",
       "    </tr>\n",
       "  </thead>\n",
       "  <tbody>\n",
       "    <tr>\n",
       "      <th>0</th>\n",
       "      <td>0</td>\n",
       "      <td>0.0</td>\n",
       "      <td>0.0</td>\n",
       "      <td>0.258721</td>\n",
       "      <td>0.0</td>\n",
       "      <td>0.25</td>\n",
       "      <td>0.5</td>\n",
       "      <td>0.6</td>\n",
       "      <td>0.265306</td>\n",
       "      <td>0.970278</td>\n",
       "      <td>1.0</td>\n",
       "      <td>0.0</td>\n",
       "      <td>0.0</td>\n",
       "      <td>0.052632</td>\n",
       "      <td>1.000000</td>\n",
       "      <td>0.857143</td>\n",
       "    </tr>\n",
       "    <tr>\n",
       "      <th>1</th>\n",
       "      <td>0</td>\n",
       "      <td>0.0</td>\n",
       "      <td>0.0</td>\n",
       "      <td>0.258721</td>\n",
       "      <td>0.0</td>\n",
       "      <td>0.25</td>\n",
       "      <td>0.5</td>\n",
       "      <td>0.6</td>\n",
       "      <td>0.265306</td>\n",
       "      <td>0.970278</td>\n",
       "      <td>1.0</td>\n",
       "      <td>0.0</td>\n",
       "      <td>0.0</td>\n",
       "      <td>0.052632</td>\n",
       "      <td>0.983333</td>\n",
       "      <td>0.857143</td>\n",
       "    </tr>\n",
       "    <tr>\n",
       "      <th>2</th>\n",
       "      <td>0</td>\n",
       "      <td>0.0</td>\n",
       "      <td>0.0</td>\n",
       "      <td>0.258721</td>\n",
       "      <td>0.0</td>\n",
       "      <td>0.25</td>\n",
       "      <td>0.5</td>\n",
       "      <td>0.6</td>\n",
       "      <td>0.265306</td>\n",
       "      <td>0.970278</td>\n",
       "      <td>1.0</td>\n",
       "      <td>0.0</td>\n",
       "      <td>0.0</td>\n",
       "      <td>0.052632</td>\n",
       "      <td>0.966667</td>\n",
       "      <td>0.857143</td>\n",
       "    </tr>\n",
       "    <tr>\n",
       "      <th>3</th>\n",
       "      <td>0</td>\n",
       "      <td>0.0</td>\n",
       "      <td>0.0</td>\n",
       "      <td>0.258721</td>\n",
       "      <td>0.0</td>\n",
       "      <td>0.25</td>\n",
       "      <td>0.5</td>\n",
       "      <td>0.6</td>\n",
       "      <td>0.265306</td>\n",
       "      <td>0.970278</td>\n",
       "      <td>1.0</td>\n",
       "      <td>0.0</td>\n",
       "      <td>0.0</td>\n",
       "      <td>0.052632</td>\n",
       "      <td>0.950000</td>\n",
       "      <td>0.857143</td>\n",
       "    </tr>\n",
       "    <tr>\n",
       "      <th>4</th>\n",
       "      <td>0</td>\n",
       "      <td>0.0</td>\n",
       "      <td>0.0</td>\n",
       "      <td>0.258721</td>\n",
       "      <td>0.0</td>\n",
       "      <td>0.25</td>\n",
       "      <td>0.5</td>\n",
       "      <td>0.6</td>\n",
       "      <td>0.265306</td>\n",
       "      <td>0.970278</td>\n",
       "      <td>1.0</td>\n",
       "      <td>0.0</td>\n",
       "      <td>0.0</td>\n",
       "      <td>0.052632</td>\n",
       "      <td>0.933333</td>\n",
       "      <td>0.857143</td>\n",
       "    </tr>\n",
       "  </tbody>\n",
       "</table>\n",
       "</div>"
      ],
      "text/plain": [
       "   Target   ID  CNT_CHILDREN  AMT_INCOME_TOTAL  NAME_INCOME_TYPE  \\\n",
       "0       0  0.0           0.0          0.258721               0.0   \n",
       "1       0  0.0           0.0          0.258721               0.0   \n",
       "2       0  0.0           0.0          0.258721               0.0   \n",
       "3       0  0.0           0.0          0.258721               0.0   \n",
       "4       0  0.0           0.0          0.258721               0.0   \n",
       "\n",
       "   NAME_EDUCATION_TYPE  NAME_FAMILY_STATUS  NAME_HOUSING_TYPE       Age  \\\n",
       "0                 0.25                 0.5                0.6  0.265306   \n",
       "1                 0.25                 0.5                0.6  0.265306   \n",
       "2                 0.25                 0.5                0.6  0.265306   \n",
       "3                 0.25                 0.5                0.6  0.265306   \n",
       "4                 0.25                 0.5                0.6  0.265306   \n",
       "\n",
       "   DAYS_EMPLOYED  FLAG_WORK_PHONE  FLAG_PHONE  FLAG_EMAIL  CNT_FAM_MEMBERS  \\\n",
       "0       0.970278              1.0         0.0         0.0         0.052632   \n",
       "1       0.970278              1.0         0.0         0.0         0.052632   \n",
       "2       0.970278              1.0         0.0         0.0         0.052632   \n",
       "3       0.970278              1.0         0.0         0.0         0.052632   \n",
       "4       0.970278              1.0         0.0         0.0         0.052632   \n",
       "\n",
       "   MONTHS_BALANCE    STATUS  \n",
       "0        1.000000  0.857143  \n",
       "1        0.983333  0.857143  \n",
       "2        0.966667  0.857143  \n",
       "3        0.950000  0.857143  \n",
       "4        0.933333  0.857143  "
      ]
     },
     "execution_count": 88,
     "metadata": {},
     "output_type": "execute_result"
    }
   ],
   "source": [
    "data.head()"
   ]
  },
  {
   "cell_type": "code",
   "execution_count": 89,
   "id": "19d305a6",
   "metadata": {
    "execution": {
     "iopub.execute_input": "2022-10-06T12:09:31.361495Z",
     "iopub.status.busy": "2022-10-06T12:09:31.360395Z",
     "iopub.status.idle": "2022-10-06T12:09:31.378848Z",
     "shell.execute_reply": "2022-10-06T12:09:31.376996Z"
    },
    "id": "gdhYjXXTE7Kd",
    "outputId": "a67afba3-0cc2-4e4e-93e6-fd059f21e640",
    "papermill": {
     "duration": 0.073114,
     "end_time": "2022-10-06T12:09:31.382760",
     "exception": false,
     "start_time": "2022-10-06T12:09:31.309646",
     "status": "completed"
    },
    "tags": []
   },
   "outputs": [
    {
     "data": {
      "text/plain": [
       "0    774887\n",
       "1      2828\n",
       "Name: Target, dtype: int64"
      ]
     },
     "execution_count": 89,
     "metadata": {},
     "output_type": "execute_result"
    }
   ],
   "source": [
    "data.Target.value_counts()"
   ]
  },
  {
   "cell_type": "markdown",
   "id": "f343215a",
   "metadata": {
    "id": "alrh2gZ2FDMH",
    "papermill": {
     "duration": 0.049422,
     "end_time": "2022-10-06T12:09:31.484649",
     "exception": false,
     "start_time": "2022-10-06T12:09:31.435227",
     "status": "completed"
    },
    "tags": []
   },
   "source": [
    "from the above output,we conclude that data is imbalanced.so, we have to do either under sampling or over sampling.we are going to do over sampling bcz in under sampling .we will lost our almost data."
   ]
  },
  {
   "cell_type": "markdown",
   "id": "316036dd",
   "metadata": {
    "id": "a4df-2EFFmUs",
    "papermill": {
     "duration": 0.045187,
     "end_time": "2022-10-06T12:09:31.578739",
     "exception": false,
     "start_time": "2022-10-06T12:09:31.533552",
     "status": "completed"
    },
    "tags": []
   },
   "source": [
    "# Dealing with Unbalanced Dataset"
   ]
  },
  {
   "cell_type": "code",
   "execution_count": 90,
   "id": "0e2b79be",
   "metadata": {
    "execution": {
     "iopub.execute_input": "2022-10-06T12:09:31.672145Z",
     "iopub.status.busy": "2022-10-06T12:09:31.671712Z",
     "iopub.status.idle": "2022-10-06T12:09:32.141271Z",
     "shell.execute_reply": "2022-10-06T12:09:32.139977Z"
    },
    "id": "I9lYd7sgE5_j",
    "papermill": {
     "duration": 0.520136,
     "end_time": "2022-10-06T12:09:32.144067",
     "exception": false,
     "start_time": "2022-10-06T12:09:31.623931",
     "status": "completed"
    },
    "tags": []
   },
   "outputs": [],
   "source": [
    "from imblearn.combine import SMOTETomek"
   ]
  },
  {
   "cell_type": "code",
   "execution_count": 91,
   "id": "216349fe",
   "metadata": {
    "execution": {
     "iopub.execute_input": "2022-10-06T12:09:32.238395Z",
     "iopub.status.busy": "2022-10-06T12:09:32.237971Z",
     "iopub.status.idle": "2022-10-06T12:09:32.243436Z",
     "shell.execute_reply": "2022-10-06T12:09:32.242058Z"
    },
    "id": "PxP76bcdEsF5",
    "papermill": {
     "duration": 0.05524,
     "end_time": "2022-10-06T12:09:32.246032",
     "exception": false,
     "start_time": "2022-10-06T12:09:32.190792",
     "status": "completed"
    },
    "tags": []
   },
   "outputs": [],
   "source": [
    "smk=SMOTETomek(random_state=12)"
   ]
  },
  {
   "cell_type": "code",
   "execution_count": 92,
   "id": "aaf0d7c8",
   "metadata": {
    "execution": {
     "iopub.execute_input": "2022-10-06T12:09:32.344211Z",
     "iopub.status.busy": "2022-10-06T12:09:32.343594Z",
     "iopub.status.idle": "2022-10-06T12:09:32.352217Z",
     "shell.execute_reply": "2022-10-06T12:09:32.350252Z"
    },
    "id": "F--WRhLjGFDd",
    "outputId": "7bb64eab-6cf4-48b3-8c21-6e2948411e2e",
    "papermill": {
     "duration": 0.061144,
     "end_time": "2022-10-06T12:09:32.354593",
     "exception": false,
     "start_time": "2022-10-06T12:09:32.293449",
     "status": "completed"
    },
    "tags": []
   },
   "outputs": [
    {
     "data": {
      "text/plain": [
       "(777715, 16)"
      ]
     },
     "execution_count": 92,
     "metadata": {},
     "output_type": "execute_result"
    }
   ],
   "source": [
    "data.shape"
   ]
  },
  {
   "cell_type": "code",
   "execution_count": 93,
   "id": "406e78f6",
   "metadata": {
    "execution": {
     "iopub.execute_input": "2022-10-06T12:09:32.476697Z",
     "iopub.status.busy": "2022-10-06T12:09:32.476168Z",
     "iopub.status.idle": "2022-10-06T12:10:57.471545Z",
     "shell.execute_reply": "2022-10-06T12:10:57.470023Z"
    },
    "id": "aPqWR1kDGIXJ",
    "papermill": {
     "duration": 85.064409,
     "end_time": "2022-10-06T12:10:57.474550",
     "exception": false,
     "start_time": "2022-10-06T12:09:32.410141",
     "status": "completed"
    },
    "tags": []
   },
   "outputs": [],
   "source": [
    "x_res,y_res=smk.fit_resample(x,y)"
   ]
  },
  {
   "cell_type": "code",
   "execution_count": 94,
   "id": "bacf0281",
   "metadata": {
    "execution": {
     "iopub.execute_input": "2022-10-06T12:10:57.572433Z",
     "iopub.status.busy": "2022-10-06T12:10:57.572003Z",
     "iopub.status.idle": "2022-10-06T12:10:57.579613Z",
     "shell.execute_reply": "2022-10-06T12:10:57.578215Z"
    },
    "id": "gUECeO9rGNhC",
    "outputId": "cf59a1f0-d65b-4bdb-f237-b195b784ee2d",
    "papermill": {
     "duration": 0.059404,
     "end_time": "2022-10-06T12:10:57.582228",
     "exception": false,
     "start_time": "2022-10-06T12:10:57.522824",
     "status": "completed"
    },
    "tags": []
   },
   "outputs": [
    {
     "data": {
      "text/plain": [
       "(1549720, 15)"
      ]
     },
     "execution_count": 94,
     "metadata": {},
     "output_type": "execute_result"
    }
   ],
   "source": [
    "x_res.shape"
   ]
  },
  {
   "cell_type": "code",
   "execution_count": 95,
   "id": "648430e5",
   "metadata": {
    "execution": {
     "iopub.execute_input": "2022-10-06T12:10:57.679105Z",
     "iopub.status.busy": "2022-10-06T12:10:57.678412Z",
     "iopub.status.idle": "2022-10-06T12:10:57.685702Z",
     "shell.execute_reply": "2022-10-06T12:10:57.684597Z"
    },
    "id": "xL1aBVv9JdSo",
    "outputId": "3de0d274-3870-4903-f105-20216d193804",
    "papermill": {
     "duration": 0.056703,
     "end_time": "2022-10-06T12:10:57.688039",
     "exception": false,
     "start_time": "2022-10-06T12:10:57.631336",
     "status": "completed"
    },
    "tags": []
   },
   "outputs": [
    {
     "data": {
      "text/plain": [
       "(1549720,)"
      ]
     },
     "execution_count": 95,
     "metadata": {},
     "output_type": "execute_result"
    }
   ],
   "source": [
    "y_res.shape\n"
   ]
  },
  {
   "cell_type": "code",
   "execution_count": 96,
   "id": "9b489a25",
   "metadata": {
    "execution": {
     "iopub.execute_input": "2022-10-06T12:10:57.784284Z",
     "iopub.status.busy": "2022-10-06T12:10:57.783754Z",
     "iopub.status.idle": "2022-10-06T12:10:57.790832Z",
     "shell.execute_reply": "2022-10-06T12:10:57.789018Z"
    },
    "id": "26Dv4D_TJgKe",
    "papermill": {
     "duration": 0.058249,
     "end_time": "2022-10-06T12:10:57.793816",
     "exception": false,
     "start_time": "2022-10-06T12:10:57.735567",
     "status": "completed"
    },
    "tags": []
   },
   "outputs": [],
   "source": [
    "from collections import Counter"
   ]
  },
  {
   "cell_type": "code",
   "execution_count": 97,
   "id": "9fa06999",
   "metadata": {
    "execution": {
     "iopub.execute_input": "2022-10-06T12:10:57.889884Z",
     "iopub.status.busy": "2022-10-06T12:10:57.889431Z",
     "iopub.status.idle": "2022-10-06T12:10:58.204120Z",
     "shell.execute_reply": "2022-10-06T12:10:58.202133Z"
    },
    "id": "DvbThK8pJtER",
    "outputId": "e37462c3-43cd-4f80-ad94-3847dada2947",
    "papermill": {
     "duration": 0.366278,
     "end_time": "2022-10-06T12:10:58.207125",
     "exception": false,
     "start_time": "2022-10-06T12:10:57.840847",
     "status": "completed"
    },
    "tags": []
   },
   "outputs": [
    {
     "name": "stdout",
     "output_type": "stream",
     "text": [
      "original dataset shape Counter({0: 774887, 1: 2828})\n",
      "Resampled dataset shape Counter({0: 774860, 1: 774860})\n"
     ]
    }
   ],
   "source": [
    "print('original dataset shape {}'.format(Counter(y)))\n",
    "print('Resampled dataset shape {}'.format(Counter(y_res)))"
   ]
  },
  {
   "cell_type": "markdown",
   "id": "bc57ab2b",
   "metadata": {
    "id": "ESed6SVPKCrq",
    "papermill": {
     "duration": 0.047143,
     "end_time": "2022-10-06T12:10:58.304023",
     "exception": false,
     "start_time": "2022-10-06T12:10:58.256880",
     "status": "completed"
    },
    "tags": []
   },
   "source": [
    "# Model Deployment"
   ]
  },
  {
   "cell_type": "markdown",
   "id": "dedff3fc",
   "metadata": {
    "id": "GcCyLK68824u",
    "papermill": {
     "duration": 0.045901,
     "end_time": "2022-10-06T12:10:58.399474",
     "exception": false,
     "start_time": "2022-10-06T12:10:58.353573",
     "status": "completed"
    },
    "tags": []
   },
   "source": [
    "**Now we are going to deploy the model of different algorith to get the maximum accuracy**"
   ]
  },
  {
   "cell_type": "code",
   "execution_count": 98,
   "id": "785fb947",
   "metadata": {
    "execution": {
     "iopub.execute_input": "2022-10-06T12:10:58.499227Z",
     "iopub.status.busy": "2022-10-06T12:10:58.498809Z",
     "iopub.status.idle": "2022-10-06T12:10:58.504115Z",
     "shell.execute_reply": "2022-10-06T12:10:58.502902Z"
    },
    "id": "1SfEaTsxJ5PW",
    "papermill": {
     "duration": 0.058211,
     "end_time": "2022-10-06T12:10:58.506782",
     "exception": false,
     "start_time": "2022-10-06T12:10:58.448571",
     "status": "completed"
    },
    "tags": []
   },
   "outputs": [],
   "source": [
    "from sklearn.model_selection import train_test_split"
   ]
  },
  {
   "cell_type": "code",
   "execution_count": 99,
   "id": "aca67c96",
   "metadata": {
    "execution": {
     "iopub.execute_input": "2022-10-06T12:10:58.600148Z",
     "iopub.status.busy": "2022-10-06T12:10:58.599749Z",
     "iopub.status.idle": "2022-10-06T12:10:59.271502Z",
     "shell.execute_reply": "2022-10-06T12:10:59.269707Z"
    },
    "id": "6tAuM_MtKPyy",
    "papermill": {
     "duration": 0.722077,
     "end_time": "2022-10-06T12:10:59.274985",
     "exception": false,
     "start_time": "2022-10-06T12:10:58.552908",
     "status": "completed"
    },
    "tags": []
   },
   "outputs": [],
   "source": [
    "x_train,x_test,y_train,y_test=train_test_split(x_res,y_res,test_size=0.2,random_state=567)"
   ]
  },
  {
   "cell_type": "code",
   "execution_count": 100,
   "id": "8bcdd368",
   "metadata": {
    "execution": {
     "iopub.execute_input": "2022-10-06T12:10:59.373065Z",
     "iopub.status.busy": "2022-10-06T12:10:59.372545Z",
     "iopub.status.idle": "2022-10-06T12:10:59.380047Z",
     "shell.execute_reply": "2022-10-06T12:10:59.378208Z"
    },
    "id": "JMKU0mwPKiL9",
    "outputId": "e3676c8f-4c43-447e-feb7-35ef7c624067",
    "papermill": {
     "duration": 0.059738,
     "end_time": "2022-10-06T12:10:59.382780",
     "exception": false,
     "start_time": "2022-10-06T12:10:59.323042",
     "status": "completed"
    },
    "tags": []
   },
   "outputs": [
    {
     "data": {
      "text/plain": [
       "((1239776, 15), (1239776,))"
      ]
     },
     "execution_count": 100,
     "metadata": {},
     "output_type": "execute_result"
    }
   ],
   "source": [
    "x_train.shape,y_train.shape"
   ]
  },
  {
   "cell_type": "code",
   "execution_count": 101,
   "id": "15c19b7e",
   "metadata": {
    "execution": {
     "iopub.execute_input": "2022-10-06T12:10:59.480105Z",
     "iopub.status.busy": "2022-10-06T12:10:59.479671Z",
     "iopub.status.idle": "2022-10-06T12:10:59.488951Z",
     "shell.execute_reply": "2022-10-06T12:10:59.487814Z"
    },
    "id": "fGQHscW9Klki",
    "papermill": {
     "duration": 0.06209,
     "end_time": "2022-10-06T12:10:59.491705",
     "exception": false,
     "start_time": "2022-10-06T12:10:59.429615",
     "status": "completed"
    },
    "tags": []
   },
   "outputs": [],
   "source": [
    "## import libraries\n",
    "from sklearn.linear_model import LogisticRegression\n",
    "from sklearn.ensemble import RandomForestClassifier\n",
    "from sklearn.tree import DecisionTreeClassifier\n",
    "from sklearn.naive_bayes import GaussianNB\n",
    "from sklearn.neighbors import KNeighborsClassifier\n",
    "from sklearn.metrics import ConfusionMatrixDisplay,accuracy_score"
   ]
  },
  {
   "cell_type": "code",
   "execution_count": 102,
   "id": "b9b19374",
   "metadata": {
    "execution": {
     "iopub.execute_input": "2022-10-06T12:10:59.590293Z",
     "iopub.status.busy": "2022-10-06T12:10:59.589890Z",
     "iopub.status.idle": "2022-10-06T12:10:59.595059Z",
     "shell.execute_reply": "2022-10-06T12:10:59.593897Z"
    },
    "id": "NZNVoF-aK22Y",
    "papermill": {
     "duration": 0.057898,
     "end_time": "2022-10-06T12:10:59.597479",
     "exception": false,
     "start_time": "2022-10-06T12:10:59.539581",
     "status": "completed"
    },
    "tags": []
   },
   "outputs": [],
   "source": [
    "model_list=[LogisticRegression,RandomForestClassifier,DecisionTreeClassifier,GaussianNB,KNeighborsClassifier]"
   ]
  },
  {
   "cell_type": "code",
   "execution_count": 103,
   "id": "a720f92c",
   "metadata": {
    "execution": {
     "iopub.execute_input": "2022-10-06T12:10:59.694074Z",
     "iopub.status.busy": "2022-10-06T12:10:59.693661Z",
     "iopub.status.idle": "2022-10-06T12:15:38.977217Z",
     "shell.execute_reply": "2022-10-06T12:15:38.975779Z"
    },
    "id": "el24zfShLJLm",
    "outputId": "f8d13f0a-0bfd-4f9c-8778-7ceab0ae7163",
    "papermill": {
     "duration": 279.336772,
     "end_time": "2022-10-06T12:15:38.979970",
     "exception": false,
     "start_time": "2022-10-06T12:10:59.643198",
     "status": "completed"
    },
    "tags": []
   },
   "outputs": [
    {
     "data": {
      "image/png": "[encoded data removed]",
      "text/plain": [
       "<Figure size 432x288 with 2 Axes>"
      ]
     },
     "metadata": {
      "needs_background": "light"
     },
     "output_type": "display_data"
    },
    {
     "data": {
      "image/png": "[encoded data removed]",
      "text/plain": [
       "<Figure size 432x288 with 2 Axes>"
      ]
     },
     "metadata": {
      "needs_background": "light"
     },
     "output_type": "display_data"
    },
    {
     "data": {
      "image/png": "[encoded data removed]",
      "text/plain": [
       "<Figure size 432x288 with 2 Axes>"
      ]
     },
     "metadata": {
      "needs_background": "light"
     },
     "output_type": "display_data"
    },
    {
     "data": {
      "image/png": "[encoded data removed]",
      "text/plain": [
       "<Figure size 432x288 with 2 Axes>"
      ]
     },
     "metadata": {
      "needs_background": "light"
     },
     "output_type": "display_data"
    },
    {
     "data": {
      "image/png": "[encoded data removed]",
      "text/plain": [
       "<Figure size 432x288 with 2 Axes>"
      ]
     },
     "metadata": {
      "needs_background": "light"
     },
     "output_type": "display_data"
    }
   ],
   "source": [
    "accuracy =[]\n",
    "for model in model_list :\n",
    "    model = model()\n",
    "    model.fit(x_train,y_train)\n",
    "    y_pred = model.predict(x_test)\n",
    "    ConfusionMatrixDisplay.from_predictions(y_test,y_pred)\n",
    "    accuracy.append(accuracy_score(y_test,y_pred))"
   ]
  },
  {
   "cell_type": "code",
   "execution_count": 104,
   "id": "24680fa8",
   "metadata": {
    "execution": {
     "iopub.execute_input": "2022-10-06T12:15:39.082439Z",
     "iopub.status.busy": "2022-10-06T12:15:39.082001Z",
     "iopub.status.idle": "2022-10-06T12:15:39.090138Z",
     "shell.execute_reply": "2022-10-06T12:15:39.088745Z"
    },
    "id": "DVc90o-CLqS6",
    "outputId": "44762788-05b3-463a-9c58-9a73b1a7cee9",
    "papermill": {
     "duration": 0.060971,
     "end_time": "2022-10-06T12:15:39.092861",
     "exception": false,
     "start_time": "2022-10-06T12:15:39.031890",
     "status": "completed"
    },
    "tags": []
   },
   "outputs": [
    {
     "data": {
      "text/plain": [
       "[0.4973317760627726, 1.0, 1.0, 0.6199119841003536, 0.9962573884314586]"
      ]
     },
     "execution_count": 104,
     "metadata": {},
     "output_type": "execute_result"
    }
   ],
   "source": [
    "accuracy"
   ]
  },
  {
   "cell_type": "markdown",
   "id": "07c65fcf",
   "metadata": {
    "id": "jQMWTCxPO1YW",
    "papermill": {
     "duration": 0.051924,
     "end_time": "2022-10-06T12:15:39.193815",
     "exception": false,
     "start_time": "2022-10-06T12:15:39.141891",
     "status": "completed"
    },
    "tags": []
   },
   "source": [
    "**From accuracy score we conclude that we should apply Decision Treeclassifier, Random Forestclassifier and KNeighborsClassifier  algorith for be**"
   ]
  },
  {
   "cell_type": "code",
   "execution_count": null,
   "id": "87ddb38f",
   "metadata": {
    "id": "X6PyIedvOSKc",
    "papermill": {
     "duration": 0.049207,
     "end_time": "2022-10-06T12:15:39.292896",
     "exception": false,
     "start_time": "2022-10-06T12:15:39.243689",
     "status": "completed"
    },
    "tags": []
   },
   "outputs": [],
   "source": []
  }
 ],
 "metadata": {
  "kernelspec": {
   "display_name": "Python 3",
   "language": "python",
   "name": "python3"
  },
  "language_info": {
   "codemirror_mode": {
    "name": "ipython",
    "version": 3
   },
   "file_extension": ".py",
   "mimetype": "text/x-python",
   "name": "python",
   "nbconvert_exporter": "python",
   "pygments_lexer": "ipython3",
   "version": "3.7.12"
  },
  "papermill": {
   "default_parameters": {},
   "duration": 478.740413,
   "end_time": "2022-10-06T12:15:40.666798",
   "environment_variables": {},
   "exception": null,
   "input_path": "__notebook__.ipynb",
   "output_path": "__notebook__.ipynb",
   "parameters": {},
   "start_time": "2022-10-06T12:07:41.926385",
   "version": "2.3.4"
  }
 },
 "nbformat": 4,
 "nbformat_minor": 5
}
